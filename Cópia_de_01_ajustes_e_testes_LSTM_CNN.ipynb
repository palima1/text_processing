{
  "cells": [
    {
      "cell_type": "markdown",
      "metadata": {
        "id": "view-in-github",
        "colab_type": "text"
      },
      "source": [
        "<a href=\"https://colab.research.google.com/github/palima1/text_processing/blob/main/C%C3%B3pia_de_01_ajustes_e_testes_LSTM_CNN.ipynb\" target=\"_parent\"><img src=\"https://colab.research.google.com/assets/colab-badge.svg\" alt=\"Open In Colab\"/></a>"
      ]
    },
    {
      "cell_type": "code",
      "source": [
        "!pip install contractions\n",
        "!pip install textsearch\n",
        "!pip install tqdm"
      ],
      "metadata": {
        "colab": {
          "base_uri": "https://localhost:8080/"
        },
        "id": "mj22FcmF9-Yy",
        "outputId": "0e1a6756-7bda-4cd0-bc9e-17a3160ed4a9"
      },
      "id": "mj22FcmF9-Yy",
      "execution_count": 171,
      "outputs": [
        {
          "output_type": "stream",
          "name": "stdout",
          "text": [
            "Requirement already satisfied: contractions in /usr/local/lib/python3.7/dist-packages (0.1.68)\n",
            "Requirement already satisfied: textsearch>=0.0.21 in /usr/local/lib/python3.7/dist-packages (from contractions) (0.0.21)\n",
            "Requirement already satisfied: anyascii in /usr/local/lib/python3.7/dist-packages (from textsearch>=0.0.21->contractions) (0.3.0)\n",
            "Requirement already satisfied: pyahocorasick in /usr/local/lib/python3.7/dist-packages (from textsearch>=0.0.21->contractions) (1.4.4)\n",
            "Requirement already satisfied: textsearch in /usr/local/lib/python3.7/dist-packages (0.0.21)\n",
            "Requirement already satisfied: pyahocorasick in /usr/local/lib/python3.7/dist-packages (from textsearch) (1.4.4)\n",
            "Requirement already satisfied: anyascii in /usr/local/lib/python3.7/dist-packages (from textsearch) (0.3.0)\n",
            "Requirement already satisfied: tqdm in /usr/local/lib/python3.7/dist-packages (4.63.0)\n"
          ]
        }
      ]
    },
    {
      "cell_type": "code",
      "execution_count": 172,
      "id": "ee852c72",
      "metadata": {
        "id": "ee852c72"
      },
      "outputs": [],
      "source": [
        "#tratamentos iniciais\n",
        "import pandas as pd\n",
        "import numpy as np\n",
        "#divisão dos dados\n",
        "from sklearn.model_selection import train_test_split\n",
        "#modelos baseline\n",
        "from sklearn.feature_extraction.text import CountVectorizer\n",
        "from sklearn.naive_bayes import MultinomialNB\n",
        "from sklearn import metrics\n",
        "from sklearn.model_selection import cross_val_predict, cross_val_score\n",
        "#text processing\n",
        "import nltk\n",
        "from nltk.tokenize import word_tokenize\n",
        "from nltk.tokenize import wordpunct_tokenize\n",
        "# from nltk.tokenize import sent_tokenize (Tokenization)\n",
        "from nltk.probability import FreqDist\n",
        "from nltk.metrics import ConfusionMatrix\n",
        "#visualização \n",
        "from wordcloud import WordCloud\n",
        "import random\n",
        "from matplotlib import pyplot as plt\n",
        "# CNN\n",
        "import os \n",
        "from bs4 import BeautifulSoup\n",
        "from tensorflow.keras.models import Sequential\n",
        "from tensorflow.keras.layers import Dense\n",
        "from tensorflow.keras.layers import Flatten\n",
        "from tensorflow.keras.layers import Conv1D\n",
        "from tensorflow.keras.layers import MaxPooling1D\n",
        "from tensorflow.keras.layers import Embedding\n",
        "from tensorflow.keras.preprocessing.text import Tokenizer\n",
        "from tensorflow.keras.preprocessing import sequence\n",
        "from sklearn.preprocessing import LabelEncoder"
      ]
    },
    {
      "cell_type": "code",
      "execution_count": 173,
      "id": "dcd605a5",
      "metadata": {
        "id": "dcd605a5"
      },
      "outputs": [],
      "source": [
        "df = pd.read_csv('mouse.csv')"
      ]
    },
    {
      "cell_type": "code",
      "execution_count": 174,
      "id": "9947d879",
      "metadata": {
        "id": "9947d879",
        "outputId": "423cd36a-b5a8-4c28-8cd7-50bb2dd5886d",
        "colab": {
          "base_uri": "https://localhost:8080/",
          "height": 206
        }
      },
      "outputs": [
        {
          "output_type": "execute_result",
          "data": {
            "text/plain": [
              "  score                                        description  \\\n",
              "0   1,0  O produto aparece usado...em baixo do aparelho...   \n",
              "1   5,0  Mouse sem fio ótimo, sem delay, nano receptor ...   \n",
              "2   3,0  A construção do mouse em si é boa, os clicks s...   \n",
              "3   5,0  A mídia não pôde ser carregada.\\n             ...   \n",
              "4   1,0  O mouse está em boas condições, funcionando be...   \n",
              "\n",
              "                     date  \n",
              "0  13 de novembro de 2019  \n",
              "1    19 de agosto de 2019  \n",
              "2     15 de março de 2019  \n",
              "3     31 de julho de 2020  \n",
              "4     21 de junho de 2020  "
            ],
            "text/html": [
              "\n",
              "  <div id=\"df-d3175b0d-a07f-43d9-9d9c-11ab8511e4da\">\n",
              "    <div class=\"colab-df-container\">\n",
              "      <div>\n",
              "<style scoped>\n",
              "    .dataframe tbody tr th:only-of-type {\n",
              "        vertical-align: middle;\n",
              "    }\n",
              "\n",
              "    .dataframe tbody tr th {\n",
              "        vertical-align: top;\n",
              "    }\n",
              "\n",
              "    .dataframe thead th {\n",
              "        text-align: right;\n",
              "    }\n",
              "</style>\n",
              "<table border=\"1\" class=\"dataframe\">\n",
              "  <thead>\n",
              "    <tr style=\"text-align: right;\">\n",
              "      <th></th>\n",
              "      <th>score</th>\n",
              "      <th>description</th>\n",
              "      <th>date</th>\n",
              "    </tr>\n",
              "  </thead>\n",
              "  <tbody>\n",
              "    <tr>\n",
              "      <th>0</th>\n",
              "      <td>1,0</td>\n",
              "      <td>O produto aparece usado...em baixo do aparelho...</td>\n",
              "      <td>13 de novembro de 2019</td>\n",
              "    </tr>\n",
              "    <tr>\n",
              "      <th>1</th>\n",
              "      <td>5,0</td>\n",
              "      <td>Mouse sem fio ótimo, sem delay, nano receptor ...</td>\n",
              "      <td>19 de agosto de 2019</td>\n",
              "    </tr>\n",
              "    <tr>\n",
              "      <th>2</th>\n",
              "      <td>3,0</td>\n",
              "      <td>A construção do mouse em si é boa, os clicks s...</td>\n",
              "      <td>15 de março de 2019</td>\n",
              "    </tr>\n",
              "    <tr>\n",
              "      <th>3</th>\n",
              "      <td>5,0</td>\n",
              "      <td>A mídia não pôde ser carregada.\\n             ...</td>\n",
              "      <td>31 de julho de 2020</td>\n",
              "    </tr>\n",
              "    <tr>\n",
              "      <th>4</th>\n",
              "      <td>1,0</td>\n",
              "      <td>O mouse está em boas condições, funcionando be...</td>\n",
              "      <td>21 de junho de 2020</td>\n",
              "    </tr>\n",
              "  </tbody>\n",
              "</table>\n",
              "</div>\n",
              "      <button class=\"colab-df-convert\" onclick=\"convertToInteractive('df-d3175b0d-a07f-43d9-9d9c-11ab8511e4da')\"\n",
              "              title=\"Convert this dataframe to an interactive table.\"\n",
              "              style=\"display:none;\">\n",
              "        \n",
              "  <svg xmlns=\"http://www.w3.org/2000/svg\" height=\"24px\"viewBox=\"0 0 24 24\"\n",
              "       width=\"24px\">\n",
              "    <path d=\"M0 0h24v24H0V0z\" fill=\"none\"/>\n",
              "    <path d=\"M18.56 5.44l.94 2.06.94-2.06 2.06-.94-2.06-.94-.94-2.06-.94 2.06-2.06.94zm-11 1L8.5 8.5l.94-2.06 2.06-.94-2.06-.94L8.5 2.5l-.94 2.06-2.06.94zm10 10l.94 2.06.94-2.06 2.06-.94-2.06-.94-.94-2.06-.94 2.06-2.06.94z\"/><path d=\"M17.41 7.96l-1.37-1.37c-.4-.4-.92-.59-1.43-.59-.52 0-1.04.2-1.43.59L10.3 9.45l-7.72 7.72c-.78.78-.78 2.05 0 2.83L4 21.41c.39.39.9.59 1.41.59.51 0 1.02-.2 1.41-.59l7.78-7.78 2.81-2.81c.8-.78.8-2.07 0-2.86zM5.41 20L4 18.59l7.72-7.72 1.47 1.35L5.41 20z\"/>\n",
              "  </svg>\n",
              "      </button>\n",
              "      \n",
              "  <style>\n",
              "    .colab-df-container {\n",
              "      display:flex;\n",
              "      flex-wrap:wrap;\n",
              "      gap: 12px;\n",
              "    }\n",
              "\n",
              "    .colab-df-convert {\n",
              "      background-color: #E8F0FE;\n",
              "      border: none;\n",
              "      border-radius: 50%;\n",
              "      cursor: pointer;\n",
              "      display: none;\n",
              "      fill: #1967D2;\n",
              "      height: 32px;\n",
              "      padding: 0 0 0 0;\n",
              "      width: 32px;\n",
              "    }\n",
              "\n",
              "    .colab-df-convert:hover {\n",
              "      background-color: #E2EBFA;\n",
              "      box-shadow: 0px 1px 2px rgba(60, 64, 67, 0.3), 0px 1px 3px 1px rgba(60, 64, 67, 0.15);\n",
              "      fill: #174EA6;\n",
              "    }\n",
              "\n",
              "    [theme=dark] .colab-df-convert {\n",
              "      background-color: #3B4455;\n",
              "      fill: #D2E3FC;\n",
              "    }\n",
              "\n",
              "    [theme=dark] .colab-df-convert:hover {\n",
              "      background-color: #434B5C;\n",
              "      box-shadow: 0px 1px 3px 1px rgba(0, 0, 0, 0.15);\n",
              "      filter: drop-shadow(0px 1px 2px rgba(0, 0, 0, 0.3));\n",
              "      fill: #FFFFFF;\n",
              "    }\n",
              "  </style>\n",
              "\n",
              "      <script>\n",
              "        const buttonEl =\n",
              "          document.querySelector('#df-d3175b0d-a07f-43d9-9d9c-11ab8511e4da button.colab-df-convert');\n",
              "        buttonEl.style.display =\n",
              "          google.colab.kernel.accessAllowed ? 'block' : 'none';\n",
              "\n",
              "        async function convertToInteractive(key) {\n",
              "          const element = document.querySelector('#df-d3175b0d-a07f-43d9-9d9c-11ab8511e4da');\n",
              "          const dataTable =\n",
              "            await google.colab.kernel.invokeFunction('convertToInteractive',\n",
              "                                                     [key], {});\n",
              "          if (!dataTable) return;\n",
              "\n",
              "          const docLinkHtml = 'Like what you see? Visit the ' +\n",
              "            '<a target=\"_blank\" href=https://colab.research.google.com/notebooks/data_table.ipynb>data table notebook</a>'\n",
              "            + ' to learn more about interactive tables.';\n",
              "          element.innerHTML = '';\n",
              "          dataTable['output_type'] = 'display_data';\n",
              "          await google.colab.output.renderOutput(dataTable, element);\n",
              "          const docLink = document.createElement('div');\n",
              "          docLink.innerHTML = docLinkHtml;\n",
              "          element.appendChild(docLink);\n",
              "        }\n",
              "      </script>\n",
              "    </div>\n",
              "  </div>\n",
              "  "
            ]
          },
          "metadata": {},
          "execution_count": 174
        }
      ],
      "source": [
        "df.head()"
      ]
    },
    {
      "cell_type": "markdown",
      "id": "03f5f608",
      "metadata": {
        "id": "03f5f608"
      },
      "source": [
        "# Pre-processing"
      ]
    },
    {
      "cell_type": "markdown",
      "id": "bea46fd5",
      "metadata": {
        "id": "bea46fd5"
      },
      "source": [
        "### Contagem e remoção de dados nulos"
      ]
    },
    {
      "cell_type": "code",
      "execution_count": 175,
      "id": "c61f707d",
      "metadata": {
        "id": "c61f707d",
        "outputId": "6589e4c2-988e-4bef-9e50-d1a8b36f660d",
        "colab": {
          "base_uri": "https://localhost:8080/"
        }
      },
      "outputs": [
        {
          "output_type": "execute_result",
          "data": {
            "text/plain": [
              "score           0\n",
              "description    18\n",
              "date            0\n",
              "dtype: int64"
            ]
          },
          "metadata": {},
          "execution_count": 175
        }
      ],
      "source": [
        "df.isnull().sum()"
      ]
    },
    {
      "cell_type": "code",
      "execution_count": 176,
      "id": "475de4cb",
      "metadata": {
        "id": "475de4cb"
      },
      "outputs": [],
      "source": [
        "df.dropna(axis=0,inplace=True)"
      ]
    },
    {
      "cell_type": "markdown",
      "id": "ae61a610",
      "metadata": {
        "id": "ae61a610"
      },
      "source": [
        "### Definição das categorias"
      ]
    },
    {
      "cell_type": "code",
      "execution_count": 177,
      "id": "8fcf1a26",
      "metadata": {
        "id": "8fcf1a26"
      },
      "outputs": [],
      "source": [
        "def categoriza(dados):\n",
        "    scores = []\n",
        "    i = 0\n",
        "    for dado in dados:\n",
        "        if (dado == '1,0' or dado == '2,0'):\n",
        "            scores.append(0)  #avaliação ruim\n",
        "        if (dado =='3,0'):\n",
        "            scores.append(1)  #avaliação ruim        \n",
        "        if (dado == '4,0' or dado == '5,0'):\n",
        "            scores.append(2) #avaliação boa\n",
        "        i+=1\n",
        "    return(scores)"
      ]
    },
    {
      "cell_type": "code",
      "execution_count": 178,
      "id": "a00617d1",
      "metadata": {
        "id": "a00617d1"
      },
      "outputs": [],
      "source": [
        "df['score'] = categoriza(df['score'])"
      ]
    },
    {
      "cell_type": "code",
      "execution_count": 179,
      "id": "e0a3024c",
      "metadata": {
        "id": "e0a3024c",
        "outputId": "4b3f2be2-9b63-4910-90aa-76405b202c67",
        "colab": {
          "base_uri": "https://localhost:8080/",
          "height": 424
        }
      },
      "outputs": [
        {
          "output_type": "execute_result",
          "data": {
            "text/plain": [
              "      score                                        description  \\\n",
              "0         0  O produto aparece usado...em baixo do aparelho...   \n",
              "1         2  Mouse sem fio ótimo, sem delay, nano receptor ...   \n",
              "2         1  A construção do mouse em si é boa, os clicks s...   \n",
              "3         2  A mídia não pôde ser carregada.\\n             ...   \n",
              "4         0  O mouse está em boas condições, funcionando be...   \n",
              "...     ...                                                ...   \n",
              "4812      2                    A mídia não pôde ser carregada.   \n",
              "4813      2  ele é um pouco pequeno, mas tem uma resposta r...   \n",
              "4814      2   logitech né?! sem comentários, mouse maravilhoso   \n",
              "4815      2                                 Muito bom e bonito   \n",
              "4816      2            Excelente aquisição por um preço ótimo!   \n",
              "\n",
              "                        date  \n",
              "0     13 de novembro de 2019  \n",
              "1       19 de agosto de 2019  \n",
              "2        15 de março de 2019  \n",
              "3        31 de julho de 2020  \n",
              "4        21 de junho de 2020  \n",
              "...                      ...  \n",
              "4812     25 de março de 2022  \n",
              "4813     23 de março de 2022  \n",
              "4814     21 de março de 2022  \n",
              "4815   17 de janeiro de 2022  \n",
              "4816     26 de março de 2022  \n",
              "\n",
              "[4800 rows x 3 columns]"
            ],
            "text/html": [
              "\n",
              "  <div id=\"df-4ac367a0-1693-4b92-8c0c-8c73e3366ab9\">\n",
              "    <div class=\"colab-df-container\">\n",
              "      <div>\n",
              "<style scoped>\n",
              "    .dataframe tbody tr th:only-of-type {\n",
              "        vertical-align: middle;\n",
              "    }\n",
              "\n",
              "    .dataframe tbody tr th {\n",
              "        vertical-align: top;\n",
              "    }\n",
              "\n",
              "    .dataframe thead th {\n",
              "        text-align: right;\n",
              "    }\n",
              "</style>\n",
              "<table border=\"1\" class=\"dataframe\">\n",
              "  <thead>\n",
              "    <tr style=\"text-align: right;\">\n",
              "      <th></th>\n",
              "      <th>score</th>\n",
              "      <th>description</th>\n",
              "      <th>date</th>\n",
              "    </tr>\n",
              "  </thead>\n",
              "  <tbody>\n",
              "    <tr>\n",
              "      <th>0</th>\n",
              "      <td>0</td>\n",
              "      <td>O produto aparece usado...em baixo do aparelho...</td>\n",
              "      <td>13 de novembro de 2019</td>\n",
              "    </tr>\n",
              "    <tr>\n",
              "      <th>1</th>\n",
              "      <td>2</td>\n",
              "      <td>Mouse sem fio ótimo, sem delay, nano receptor ...</td>\n",
              "      <td>19 de agosto de 2019</td>\n",
              "    </tr>\n",
              "    <tr>\n",
              "      <th>2</th>\n",
              "      <td>1</td>\n",
              "      <td>A construção do mouse em si é boa, os clicks s...</td>\n",
              "      <td>15 de março de 2019</td>\n",
              "    </tr>\n",
              "    <tr>\n",
              "      <th>3</th>\n",
              "      <td>2</td>\n",
              "      <td>A mídia não pôde ser carregada.\\n             ...</td>\n",
              "      <td>31 de julho de 2020</td>\n",
              "    </tr>\n",
              "    <tr>\n",
              "      <th>4</th>\n",
              "      <td>0</td>\n",
              "      <td>O mouse está em boas condições, funcionando be...</td>\n",
              "      <td>21 de junho de 2020</td>\n",
              "    </tr>\n",
              "    <tr>\n",
              "      <th>...</th>\n",
              "      <td>...</td>\n",
              "      <td>...</td>\n",
              "      <td>...</td>\n",
              "    </tr>\n",
              "    <tr>\n",
              "      <th>4812</th>\n",
              "      <td>2</td>\n",
              "      <td>A mídia não pôde ser carregada.</td>\n",
              "      <td>25 de março de 2022</td>\n",
              "    </tr>\n",
              "    <tr>\n",
              "      <th>4813</th>\n",
              "      <td>2</td>\n",
              "      <td>ele é um pouco pequeno, mas tem uma resposta r...</td>\n",
              "      <td>23 de março de 2022</td>\n",
              "    </tr>\n",
              "    <tr>\n",
              "      <th>4814</th>\n",
              "      <td>2</td>\n",
              "      <td>logitech né?! sem comentários, mouse maravilhoso</td>\n",
              "      <td>21 de março de 2022</td>\n",
              "    </tr>\n",
              "    <tr>\n",
              "      <th>4815</th>\n",
              "      <td>2</td>\n",
              "      <td>Muito bom e bonito</td>\n",
              "      <td>17 de janeiro de 2022</td>\n",
              "    </tr>\n",
              "    <tr>\n",
              "      <th>4816</th>\n",
              "      <td>2</td>\n",
              "      <td>Excelente aquisição por um preço ótimo!</td>\n",
              "      <td>26 de março de 2022</td>\n",
              "    </tr>\n",
              "  </tbody>\n",
              "</table>\n",
              "<p>4800 rows × 3 columns</p>\n",
              "</div>\n",
              "      <button class=\"colab-df-convert\" onclick=\"convertToInteractive('df-4ac367a0-1693-4b92-8c0c-8c73e3366ab9')\"\n",
              "              title=\"Convert this dataframe to an interactive table.\"\n",
              "              style=\"display:none;\">\n",
              "        \n",
              "  <svg xmlns=\"http://www.w3.org/2000/svg\" height=\"24px\"viewBox=\"0 0 24 24\"\n",
              "       width=\"24px\">\n",
              "    <path d=\"M0 0h24v24H0V0z\" fill=\"none\"/>\n",
              "    <path d=\"M18.56 5.44l.94 2.06.94-2.06 2.06-.94-2.06-.94-.94-2.06-.94 2.06-2.06.94zm-11 1L8.5 8.5l.94-2.06 2.06-.94-2.06-.94L8.5 2.5l-.94 2.06-2.06.94zm10 10l.94 2.06.94-2.06 2.06-.94-2.06-.94-.94-2.06-.94 2.06-2.06.94z\"/><path d=\"M17.41 7.96l-1.37-1.37c-.4-.4-.92-.59-1.43-.59-.52 0-1.04.2-1.43.59L10.3 9.45l-7.72 7.72c-.78.78-.78 2.05 0 2.83L4 21.41c.39.39.9.59 1.41.59.51 0 1.02-.2 1.41-.59l7.78-7.78 2.81-2.81c.8-.78.8-2.07 0-2.86zM5.41 20L4 18.59l7.72-7.72 1.47 1.35L5.41 20z\"/>\n",
              "  </svg>\n",
              "      </button>\n",
              "      \n",
              "  <style>\n",
              "    .colab-df-container {\n",
              "      display:flex;\n",
              "      flex-wrap:wrap;\n",
              "      gap: 12px;\n",
              "    }\n",
              "\n",
              "    .colab-df-convert {\n",
              "      background-color: #E8F0FE;\n",
              "      border: none;\n",
              "      border-radius: 50%;\n",
              "      cursor: pointer;\n",
              "      display: none;\n",
              "      fill: #1967D2;\n",
              "      height: 32px;\n",
              "      padding: 0 0 0 0;\n",
              "      width: 32px;\n",
              "    }\n",
              "\n",
              "    .colab-df-convert:hover {\n",
              "      background-color: #E2EBFA;\n",
              "      box-shadow: 0px 1px 2px rgba(60, 64, 67, 0.3), 0px 1px 3px 1px rgba(60, 64, 67, 0.15);\n",
              "      fill: #174EA6;\n",
              "    }\n",
              "\n",
              "    [theme=dark] .colab-df-convert {\n",
              "      background-color: #3B4455;\n",
              "      fill: #D2E3FC;\n",
              "    }\n",
              "\n",
              "    [theme=dark] .colab-df-convert:hover {\n",
              "      background-color: #434B5C;\n",
              "      box-shadow: 0px 1px 3px 1px rgba(0, 0, 0, 0.15);\n",
              "      filter: drop-shadow(0px 1px 2px rgba(0, 0, 0, 0.3));\n",
              "      fill: #FFFFFF;\n",
              "    }\n",
              "  </style>\n",
              "\n",
              "      <script>\n",
              "        const buttonEl =\n",
              "          document.querySelector('#df-4ac367a0-1693-4b92-8c0c-8c73e3366ab9 button.colab-df-convert');\n",
              "        buttonEl.style.display =\n",
              "          google.colab.kernel.accessAllowed ? 'block' : 'none';\n",
              "\n",
              "        async function convertToInteractive(key) {\n",
              "          const element = document.querySelector('#df-4ac367a0-1693-4b92-8c0c-8c73e3366ab9');\n",
              "          const dataTable =\n",
              "            await google.colab.kernel.invokeFunction('convertToInteractive',\n",
              "                                                     [key], {});\n",
              "          if (!dataTable) return;\n",
              "\n",
              "          const docLinkHtml = 'Like what you see? Visit the ' +\n",
              "            '<a target=\"_blank\" href=https://colab.research.google.com/notebooks/data_table.ipynb>data table notebook</a>'\n",
              "            + ' to learn more about interactive tables.';\n",
              "          element.innerHTML = '';\n",
              "          dataTable['output_type'] = 'display_data';\n",
              "          await google.colab.output.renderOutput(dataTable, element);\n",
              "          const docLink = document.createElement('div');\n",
              "          docLink.innerHTML = docLinkHtml;\n",
              "          element.appendChild(docLink);\n",
              "        }\n",
              "      </script>\n",
              "    </div>\n",
              "  </div>\n",
              "  "
            ]
          },
          "metadata": {},
          "execution_count": 179
        }
      ],
      "source": [
        "df"
      ]
    },
    {
      "cell_type": "markdown",
      "id": "f890418a",
      "metadata": {
        "id": "f890418a"
      },
      "source": [
        "### Divisão dos dados"
      ]
    },
    {
      "cell_type": "code",
      "execution_count": 180,
      "id": "c33dc542",
      "metadata": {
        "id": "c33dc542"
      },
      "outputs": [],
      "source": [
        "y = df['score']\n",
        "x = df.iloc[:,1]\n",
        "\n",
        "#divisão do treino e teste\n",
        "\n",
        "X_train, X_test, y_train, y_test = train_test_split(x, y, test_size=0.2, random_state=42,stratify=y)"
      ]
    },
    {
      "cell_type": "code",
      "execution_count": 181,
      "id": "c7adc843",
      "metadata": {
        "id": "c7adc843",
        "outputId": "587f4549-44e1-4baf-d819-f1ee0e65c8f4",
        "colab": {
          "base_uri": "https://localhost:8080/"
        }
      },
      "outputs": [
        {
          "output_type": "execute_result",
          "data": {
            "text/plain": [
              "2    3634\n",
              "0     137\n",
              "1      69\n",
              "Name: score, dtype: int64"
            ]
          },
          "metadata": {},
          "execution_count": 181
        }
      ],
      "source": [
        "y_train.value_counts()"
      ]
    },
    {
      "cell_type": "code",
      "execution_count": 182,
      "id": "dc3e2b17",
      "metadata": {
        "id": "dc3e2b17",
        "outputId": "c318e4de-3f35-43c6-db52-081f013f1913",
        "colab": {
          "base_uri": "https://localhost:8080/"
        }
      },
      "outputs": [
        {
          "output_type": "execute_result",
          "data": {
            "text/plain": [
              "2    908\n",
              "0     34\n",
              "1     18\n",
              "Name: score, dtype: int64"
            ]
          },
          "metadata": {},
          "execution_count": 182
        }
      ],
      "source": [
        "y_test.value_counts()"
      ]
    },
    {
      "cell_type": "markdown",
      "id": "f06aa0b1",
      "metadata": {
        "id": "f06aa0b1"
      },
      "source": [
        "### Resolvendo o desbalanceamento dos dados de treino"
      ]
    },
    {
      "cell_type": "code",
      "execution_count": 183,
      "id": "67fa6488",
      "metadata": {
        "id": "67fa6488"
      },
      "outputs": [],
      "source": [
        "from imblearn.over_sampling import RandomOverSampler"
      ]
    },
    {
      "cell_type": "code",
      "execution_count": 184,
      "id": "c9ed1757",
      "metadata": {
        "id": "c9ed1757"
      },
      "outputs": [],
      "source": [
        "ros = RandomOverSampler(random_state=42)\n",
        "X_resampled, y_resampled = ros.fit_resample(np.array(X_train).reshape(-1, 1), np.array(y_train).reshape(-1, 1))"
      ]
    },
    {
      "cell_type": "code",
      "execution_count": 185,
      "id": "88cd10b2",
      "metadata": {
        "scrolled": true,
        "id": "88cd10b2",
        "outputId": "4a56760b-9839-4aab-894e-a78e1a5204ac",
        "colab": {
          "base_uri": "https://localhost:8080/"
        }
      },
      "outputs": [
        {
          "output_type": "stream",
          "name": "stdout",
          "text": [
            "(10902, 1)\n",
            "(10902,)\n",
            "\n",
            " 0    3634\n",
            "1    3634\n",
            "2    3634\n",
            "dtype: int64\n"
          ]
        }
      ],
      "source": [
        "print(X_resampled.shape)\n",
        "print(y_resampled.shape)\n",
        "print('\\n',pd.DataFrame(y_resampled).value_counts())"
      ]
    },
    {
      "cell_type": "code",
      "execution_count": 186,
      "id": "bb3b3987",
      "metadata": {
        "id": "bb3b3987"
      },
      "outputs": [],
      "source": [
        "X_train , y_train = pd.DataFrame(X_resampled), y_resampled"
      ]
    },
    {
      "cell_type": "code",
      "execution_count": 187,
      "id": "e83daeb0",
      "metadata": {
        "id": "e83daeb0"
      },
      "outputs": [],
      "source": [
        "X_train = np.array(X_train[0])"
      ]
    },
    {
      "cell_type": "markdown",
      "id": "ef71d289",
      "metadata": {
        "id": "ef71d289"
      },
      "source": [
        "### Tokenização"
      ]
    },
    {
      "cell_type": "code",
      "execution_count": 188,
      "id": "1bd971c1",
      "metadata": {
        "id": "1bd971c1"
      },
      "outputs": [],
      "source": [
        "def tokenizador(data):\n",
        "    ls = []\n",
        "\n",
        "    for line in data:\n",
        "        tokens = wordpunct_tokenize(line)\n",
        "        ls.append(tokens)\n",
        "\n",
        "    return ls"
      ]
    },
    {
      "cell_type": "code",
      "execution_count": 189,
      "id": "21af4d15",
      "metadata": {
        "id": "21af4d15"
      },
      "outputs": [],
      "source": [
        "X_train = tokenizador(X_train)\n",
        "X_test = tokenizador(X_test)"
      ]
    },
    {
      "cell_type": "markdown",
      "id": "a011f201",
      "metadata": {
        "id": "a011f201"
      },
      "source": [
        "### Padronização de algumas escritas"
      ]
    },
    {
      "cell_type": "code",
      "execution_count": 190,
      "id": "9884efd2",
      "metadata": {
        "id": "9884efd2"
      },
      "outputs": [],
      "source": [
        "def padroniza_caracteres(tokens, std_list):\n",
        "    ls = []\n",
        "\n",
        "    for tk_line in tokens:\n",
        "        new_tokens = []\n",
        "        \n",
        "        for word in tk_line:\n",
        "            if word.lower() in std_list:\n",
        "                word = std_list[word.lower()]\n",
        "                \n",
        "            new_tokens.append(word) \n",
        "            \n",
        "        ls.append(new_tokens)\n",
        "\n",
        "    return ls"
      ]
    },
    {
      "cell_type": "code",
      "execution_count": 191,
      "id": "af12c095",
      "metadata": {
        "id": "af12c095"
      },
      "outputs": [],
      "source": [
        "std_list = {'eh': 'é', 'vc': 'você', 'vcs': 'vocês','tb': 'também', 'tbm': 'também',\n",
        "            'obg': 'obrigado', 'gnt': 'gente', 'q': 'que', 'n': 'não', 'cmg': 'comigo',\n",
        "            'p': 'para', 'ta': 'está', 'to': 'estou', 'vdd': 'verdade'}"
      ]
    },
    {
      "cell_type": "code",
      "execution_count": 192,
      "id": "649c1340",
      "metadata": {
        "id": "649c1340"
      },
      "outputs": [],
      "source": [
        "X_train = padroniza_caracteres(X_train,std_list)\n",
        "X_test = padroniza_caracteres(X_test,std_list)"
      ]
    },
    {
      "cell_type": "markdown",
      "id": "d735cce2",
      "metadata": {
        "id": "d735cce2"
      },
      "source": [
        "### Remoção de stop words"
      ]
    },
    {
      "cell_type": "code",
      "execution_count": 193,
      "id": "5652073d",
      "metadata": {
        "id": "5652073d",
        "outputId": "4fbb0de5-8bf6-4c0c-84a7-bc970f9b8512",
        "colab": {
          "base_uri": "https://localhost:8080/"
        }
      },
      "outputs": [
        {
          "output_type": "stream",
          "name": "stdout",
          "text": [
            "[nltk_data] Downloading package stopwords to /root/nltk_data...\n",
            "[nltk_data]   Package stopwords is already up-to-date!\n"
          ]
        },
        {
          "output_type": "execute_result",
          "data": {
            "text/plain": [
              "True"
            ]
          },
          "metadata": {},
          "execution_count": 193
        }
      ],
      "source": [
        "nltk.download('stopwords')"
      ]
    },
    {
      "cell_type": "code",
      "execution_count": 194,
      "id": "b5c9a5a4",
      "metadata": {
        "id": "b5c9a5a4"
      },
      "outputs": [],
      "source": [
        "nltk_stopwords = nltk.corpus.stopwords.words('portuguese')"
      ]
    },
    {
      "cell_type": "code",
      "execution_count": 195,
      "id": "197bd621",
      "metadata": {
        "id": "197bd621"
      },
      "outputs": [],
      "source": [
        "pontos = ['!','.',',',':',';']\n",
        "\n",
        "for sinal in pontos:\n",
        "    nltk_stopwords.append(sinal)"
      ]
    },
    {
      "cell_type": "code",
      "execution_count": 196,
      "id": "9c7b52cb",
      "metadata": {
        "id": "9c7b52cb",
        "outputId": "10496c02-328a-4957-ac43-8d58d74adde5",
        "colab": {
          "base_uri": "https://localhost:8080/"
        }
      },
      "outputs": [
        {
          "output_type": "execute_result",
          "data": {
            "text/plain": [
              "['de',\n",
              " 'a',\n",
              " 'o',\n",
              " 'que',\n",
              " 'e',\n",
              " 'é',\n",
              " 'do',\n",
              " 'da',\n",
              " 'em',\n",
              " 'um',\n",
              " 'para',\n",
              " 'com',\n",
              " 'não',\n",
              " 'uma',\n",
              " 'os',\n",
              " 'no',\n",
              " 'se',\n",
              " 'na',\n",
              " 'por',\n",
              " 'mais',\n",
              " 'as',\n",
              " 'dos',\n",
              " 'como',\n",
              " 'mas',\n",
              " 'ao',\n",
              " 'ele',\n",
              " 'das',\n",
              " 'à',\n",
              " 'seu',\n",
              " 'sua',\n",
              " 'ou',\n",
              " 'quando',\n",
              " 'muito',\n",
              " 'nos',\n",
              " 'já',\n",
              " 'eu',\n",
              " 'também',\n",
              " 'só',\n",
              " 'pelo',\n",
              " 'pela',\n",
              " 'até',\n",
              " 'isso',\n",
              " 'ela',\n",
              " 'entre',\n",
              " 'depois',\n",
              " 'sem',\n",
              " 'mesmo',\n",
              " 'aos',\n",
              " 'seus',\n",
              " 'quem',\n",
              " 'nas',\n",
              " 'me',\n",
              " 'esse',\n",
              " 'eles',\n",
              " 'você',\n",
              " 'essa',\n",
              " 'num',\n",
              " 'nem',\n",
              " 'suas',\n",
              " 'meu',\n",
              " 'às',\n",
              " 'minha',\n",
              " 'numa',\n",
              " 'pelos',\n",
              " 'elas',\n",
              " 'qual',\n",
              " 'nós',\n",
              " 'lhe',\n",
              " 'deles',\n",
              " 'essas',\n",
              " 'esses',\n",
              " 'pelas',\n",
              " 'este',\n",
              " 'dele',\n",
              " 'tu',\n",
              " 'te',\n",
              " 'vocês',\n",
              " 'vos',\n",
              " 'lhes',\n",
              " 'meus',\n",
              " 'minhas',\n",
              " 'teu',\n",
              " 'tua',\n",
              " 'teus',\n",
              " 'tuas',\n",
              " 'nosso',\n",
              " 'nossa',\n",
              " 'nossos',\n",
              " 'nossas',\n",
              " 'dela',\n",
              " 'delas',\n",
              " 'esta',\n",
              " 'estes',\n",
              " 'estas',\n",
              " 'aquele',\n",
              " 'aquela',\n",
              " 'aqueles',\n",
              " 'aquelas',\n",
              " 'isto',\n",
              " 'aquilo',\n",
              " 'estou',\n",
              " 'está',\n",
              " 'estamos',\n",
              " 'estão',\n",
              " 'estive',\n",
              " 'esteve',\n",
              " 'estivemos',\n",
              " 'estiveram',\n",
              " 'estava',\n",
              " 'estávamos',\n",
              " 'estavam',\n",
              " 'estivera',\n",
              " 'estivéramos',\n",
              " 'esteja',\n",
              " 'estejamos',\n",
              " 'estejam',\n",
              " 'estivesse',\n",
              " 'estivéssemos',\n",
              " 'estivessem',\n",
              " 'estiver',\n",
              " 'estivermos',\n",
              " 'estiverem',\n",
              " 'hei',\n",
              " 'há',\n",
              " 'havemos',\n",
              " 'hão',\n",
              " 'houve',\n",
              " 'houvemos',\n",
              " 'houveram',\n",
              " 'houvera',\n",
              " 'houvéramos',\n",
              " 'haja',\n",
              " 'hajamos',\n",
              " 'hajam',\n",
              " 'houvesse',\n",
              " 'houvéssemos',\n",
              " 'houvessem',\n",
              " 'houver',\n",
              " 'houvermos',\n",
              " 'houverem',\n",
              " 'houverei',\n",
              " 'houverá',\n",
              " 'houveremos',\n",
              " 'houverão',\n",
              " 'houveria',\n",
              " 'houveríamos',\n",
              " 'houveriam',\n",
              " 'sou',\n",
              " 'somos',\n",
              " 'são',\n",
              " 'era',\n",
              " 'éramos',\n",
              " 'eram',\n",
              " 'fui',\n",
              " 'foi',\n",
              " 'fomos',\n",
              " 'foram',\n",
              " 'fora',\n",
              " 'fôramos',\n",
              " 'seja',\n",
              " 'sejamos',\n",
              " 'sejam',\n",
              " 'fosse',\n",
              " 'fôssemos',\n",
              " 'fossem',\n",
              " 'for',\n",
              " 'formos',\n",
              " 'forem',\n",
              " 'serei',\n",
              " 'será',\n",
              " 'seremos',\n",
              " 'serão',\n",
              " 'seria',\n",
              " 'seríamos',\n",
              " 'seriam',\n",
              " 'tenho',\n",
              " 'tem',\n",
              " 'temos',\n",
              " 'tém',\n",
              " 'tinha',\n",
              " 'tínhamos',\n",
              " 'tinham',\n",
              " 'tive',\n",
              " 'teve',\n",
              " 'tivemos',\n",
              " 'tiveram',\n",
              " 'tivera',\n",
              " 'tivéramos',\n",
              " 'tenha',\n",
              " 'tenhamos',\n",
              " 'tenham',\n",
              " 'tivesse',\n",
              " 'tivéssemos',\n",
              " 'tivessem',\n",
              " 'tiver',\n",
              " 'tivermos',\n",
              " 'tiverem',\n",
              " 'terei',\n",
              " 'terá',\n",
              " 'teremos',\n",
              " 'terão',\n",
              " 'teria',\n",
              " 'teríamos',\n",
              " 'teriam',\n",
              " '!',\n",
              " '.',\n",
              " ',',\n",
              " ':',\n",
              " ';']"
            ]
          },
          "metadata": {},
          "execution_count": 196
        }
      ],
      "source": [
        "nltk_stopwords"
      ]
    },
    {
      "cell_type": "code",
      "execution_count": 197,
      "id": "20019d5b",
      "metadata": {
        "id": "20019d5b"
      },
      "outputs": [],
      "source": [
        "def removedor_stopwords(tokens, stopword_list):\n",
        "    ls = []\n",
        "\n",
        "    for tk_line in tokens:\n",
        "        new_tokens = []\n",
        "        \n",
        "        for word in tk_line:\n",
        "            if word.lower() not in stopword_list:\n",
        "                new_tokens.append(word) \n",
        "            \n",
        "        ls.append(new_tokens)\n",
        "        \n",
        "    return ls"
      ]
    },
    {
      "cell_type": "code",
      "execution_count": 198,
      "id": "d9c83175",
      "metadata": {
        "id": "d9c83175"
      },
      "outputs": [],
      "source": [
        "X_train = removedor_stopwords(X_train, nltk_stopwords)\n",
        "X_test = removedor_stopwords(X_test, nltk_stopwords)"
      ]
    },
    {
      "cell_type": "markdown",
      "id": "0781ff35",
      "metadata": {
        "id": "0781ff35"
      },
      "source": [
        "# Stemmer"
      ]
    },
    {
      "cell_type": "code",
      "execution_count": 199,
      "id": "824947a2",
      "metadata": {
        "id": "824947a2",
        "outputId": "c34a150a-a9b2-4847-c084-d4fab7266447",
        "colab": {
          "base_uri": "https://localhost:8080/"
        }
      },
      "outputs": [
        {
          "output_type": "stream",
          "name": "stdout",
          "text": [
            "[nltk_data] Downloading package rslp to /root/nltk_data...\n",
            "[nltk_data]   Package rslp is already up-to-date!\n"
          ]
        },
        {
          "output_type": "execute_result",
          "data": {
            "text/plain": [
              "True"
            ]
          },
          "metadata": {},
          "execution_count": 199
        }
      ],
      "source": [
        "import nltk\n",
        "nltk.download('rslp')"
      ]
    },
    {
      "cell_type": "code",
      "execution_count": 200,
      "id": "86d46cdd",
      "metadata": {
        "id": "86d46cdd"
      },
      "outputs": [],
      "source": [
        "def aplica_stemmer(tokens):\n",
        "    ls = []\n",
        "    stemmer = nltk.stem.RSLPStemmer()\n",
        "\n",
        "    for tk_line in tokens:\n",
        "        new_tokens = []\n",
        "        \n",
        "        for word in tk_line:\n",
        "            word = str(stemmer.stem(word))\n",
        "            new_tokens.append(word) \n",
        "            \n",
        "        ls.append(new_tokens)\n",
        "        \n",
        "    return ls"
      ]
    },
    {
      "cell_type": "code",
      "execution_count": 201,
      "id": "a07fcf6c",
      "metadata": {
        "id": "a07fcf6c"
      },
      "outputs": [],
      "source": [
        "X_train_stem = aplica_stemmer(X_train)\n",
        "X_test_stem = aplica_stemmer(X_test)"
      ]
    },
    {
      "cell_type": "markdown",
      "id": "e90cc362",
      "metadata": {
        "id": "e90cc362"
      },
      "source": [
        "### Visualizações iniciais"
      ]
    },
    {
      "cell_type": "code",
      "execution_count": 202,
      "id": "0ee5330c",
      "metadata": {
        "id": "0ee5330c"
      },
      "outputs": [],
      "source": [
        "def texto_para_cloud(tokens):\n",
        "    text = ''\n",
        "\n",
        "    for tk_line in tokens:\n",
        "        new_tokens = []\n",
        "        \n",
        "        for word in tk_line:\n",
        "            text += word + ' '\n",
        "        \n",
        "    return text"
      ]
    },
    {
      "cell_type": "code",
      "execution_count": 203,
      "id": "79e81cc6",
      "metadata": {
        "id": "79e81cc6"
      },
      "outputs": [],
      "source": [
        "x2=tokenizador(x)"
      ]
    },
    {
      "cell_type": "code",
      "execution_count": 204,
      "id": "ff93e4ff",
      "metadata": {
        "id": "ff93e4ff",
        "outputId": "da5f32c6-be72-4a75-e587-34f0f0501a89",
        "colab": {
          "base_uri": "https://localhost:8080/",
          "height": 0
        }
      },
      "outputs": [
        {
          "output_type": "display_data",
          "data": {
            "text/plain": [
              "<Figure size 1152x648 with 1 Axes>"
            ],
            "image/png": "[encoded data removed]"
          },
          "metadata": {
            "needs_background": "light"
          }
        }
      ],
      "source": [
        "text_cloud = texto_para_cloud(random.sample(x2, 3000))\n",
        "\n",
        "word_cloud = WordCloud(max_font_size = 100, width = 1520, height = 535)\n",
        "word_cloud.generate(text_cloud)\n",
        "plt.figure(figsize = (16, 9))\n",
        "plt.imshow(word_cloud)\n",
        "plt.axis('off')\n",
        "plt.show()"
      ]
    },
    {
      "cell_type": "markdown",
      "id": "cc4bf774",
      "metadata": {
        "id": "cc4bf774"
      },
      "source": [
        "### Frequencias"
      ]
    },
    {
      "cell_type": "code",
      "execution_count": 205,
      "id": "f09effd9",
      "metadata": {
        "id": "f09effd9"
      },
      "outputs": [],
      "source": [
        "def pega_freq(tokens):\n",
        "    ls = []\n",
        "\n",
        "    for tk_line in tokens:\n",
        "        for word in tk_line:\n",
        "            ls.append(word)\n",
        "\n",
        "    return ls"
      ]
    },
    {
      "cell_type": "code",
      "execution_count": 206,
      "id": "4d0e408d",
      "metadata": {
        "id": "4d0e408d",
        "outputId": "39c1f5a6-9ca9-4b97-9950-6eac180e8ef7",
        "colab": {
          "base_uri": "https://localhost:8080/"
        }
      },
      "outputs": [
        {
          "output_type": "stream",
          "name": "stdout",
          "text": [
            "<FreqDist with 2288 samples and 162845 outcomes>\n",
            "[('mous', 6590), ('produt', 3720), ('compr', 2802), ('bom', 2415), ('uso', 2387), ('bem', 1876), ('precis', 1754), ('funcion', 1685), ('vei', 1415), ('func', 1318), ('marc', 1264), ('dia', 1262), ('pilh', 1238), ('mes', 1189), ('problem', 1178), ('us', 1161), ('gost', 1151), ('rol', 1067), ('pouc', 1052), ('pra', 1039), ('ótim', 998), ('scroll', 991), ('(', 990), ('defeit', 988), ('outr', 950)] \n",
            "\n"
          ]
        }
      ],
      "source": [
        "# Frequency Distribution on training dataset\n",
        "fd_list = pega_freq(X_train_stem)\n",
        "fdist = FreqDist(fd_list)\n",
        "print(fdist)\n",
        "\n",
        "# most common words\n",
        "most_common = fdist.most_common(25)\n",
        "print(most_common,'\\n')"
      ]
    },
    {
      "cell_type": "code",
      "execution_count": 207,
      "id": "a98081fd",
      "metadata": {
        "id": "a98081fd",
        "outputId": "8133045f-1822-4ed0-88d0-da71e8e3e713",
        "colab": {
          "base_uri": "https://localhost:8080/"
        }
      },
      "outputs": [
        {
          "output_type": "stream",
          "name": "stdout",
          "text": [
            "['rt', 'gratific', 'aloj', 'ergônom', 'dhl', 'facíl', 'aaaa', 'daí', 'lasq', 'beste', 'recompens', '.,', 'ninguém', 'minuscul', 'típic', 'desemprenh', 'afim', 'tem', 'curvat', 'reflet', 'necessari', 'nan', 'seleç', 'honr', 'vlw', 'ultim', 'empenh', 'cãibr', 'crianç', 'net']\n"
          ]
        }
      ],
      "source": [
        "most_uncommon = fdist.hapaxes()\n",
        "print(most_uncommon[0:30])"
      ]
    },
    {
      "cell_type": "code",
      "execution_count": 208,
      "id": "2b592065",
      "metadata": {
        "id": "2b592065",
        "outputId": "500a18f0-71d3-4ae4-c92d-67f86fa4bdb5",
        "colab": {
          "base_uri": "https://localhost:8080/",
          "height": 0
        }
      },
      "outputs": [
        {
          "output_type": "display_data",
          "data": {
            "text/plain": [
              "<Figure size 432x288 with 1 Axes>"
            ],
            "image/png": "[encoded data removed]"
          },
          "metadata": {
            "needs_background": "light"
          }
        }
      ],
      "source": [
        "# print most common words\n",
        "series = pd.Series(data=[v for k, v in most_common], index=[k for k, v in most_common], name='')\n",
        "ax = series.plot(kind='bar', title='Frequency Distribution')\n",
        "ax.set_xlabel('Palavra')\n",
        "ax.set_ylabel('Contagem')\n",
        "plt.show()"
      ]
    },
    {
      "cell_type": "markdown",
      "id": "96df1266",
      "metadata": {
        "id": "96df1266"
      },
      "source": [
        "# Destransformando\n",
        "- Após o tratamento dos dados, com o uso do nltk, voltaremos os mesmos para o formato inicial, de string"
      ]
    },
    {
      "cell_type": "code",
      "execution_count": 209,
      "id": "d0f3c0a1",
      "metadata": {
        "id": "d0f3c0a1"
      },
      "outputs": [],
      "source": [
        "def _untokenize_text(tokens):\n",
        "    ls = []\n",
        "\n",
        "    for tk_line in tokens:\n",
        "        new_line = ''\n",
        "        \n",
        "        for word in tk_line:\n",
        "            new_line += word + ' '\n",
        "            \n",
        "        ls.append(new_line)\n",
        "        \n",
        "    return ls"
      ]
    },
    {
      "cell_type": "code",
      "execution_count": 210,
      "id": "5f1b5f3b",
      "metadata": {
        "id": "5f1b5f3b"
      },
      "outputs": [],
      "source": [
        "X_train = _untokenize_text(X_train)\n",
        "X_test = _untokenize_text(X_test)"
      ]
    },
    {
      "cell_type": "code",
      "execution_count": 211,
      "id": "60cc9ca7",
      "metadata": {
        "id": "60cc9ca7"
      },
      "outputs": [],
      "source": [
        "X_train_stem = _untokenize_text(X_train_stem)\n",
        "X_test_stem = _untokenize_text(X_test_stem)"
      ]
    },
    {
      "cell_type": "markdown",
      "id": "3a9bb2b4",
      "metadata": {
        "id": "3a9bb2b4"
      },
      "source": [
        "## Baseline - Bag of words/Naive Bayes"
      ]
    },
    {
      "cell_type": "code",
      "execution_count": 212,
      "id": "f5335121",
      "metadata": {
        "id": "f5335121"
      },
      "outputs": [],
      "source": [
        "vetores = CountVectorizer()\n",
        "#vetores2 = CountVectorizer()"
      ]
    },
    {
      "cell_type": "code",
      "execution_count": 213,
      "id": "8031217b",
      "metadata": {
        "scrolled": true,
        "id": "8031217b"
      },
      "outputs": [],
      "source": [
        "X_train = vetores.fit_transform(X_train)\n",
        "X_train = X_train.toarray()"
      ]
    },
    {
      "cell_type": "code",
      "execution_count": 214,
      "id": "a6c996da",
      "metadata": {
        "id": "a6c996da",
        "outputId": "0f11d3fc-fadf-46d5-d84f-3e66ad3a547a",
        "colab": {
          "base_uri": "https://localhost:8080/"
        }
      },
      "outputs": [
        {
          "output_type": "stream",
          "name": "stdout",
          "text": [
            "(10902, 3736)\n",
            "(960, 3736)\n"
          ]
        }
      ],
      "source": [
        "X_test = vetores.transform(X_test)\n",
        "X_test =  X_test.toarray()\n",
        "\n",
        "print(X_train.shape)\n",
        "print(X_test.shape)"
      ]
    },
    {
      "cell_type": "code",
      "execution_count": 215,
      "id": "fd17e8ca",
      "metadata": {
        "id": "fd17e8ca",
        "outputId": "593ec6c7-72c7-4c7b-f5e9-7ba0b6c1a9ac",
        "colab": {
          "base_uri": "https://localhost:8080/"
        }
      },
      "outputs": [
        {
          "output_type": "stream",
          "name": "stdout",
          "text": [
            "(10902, 3736)\n",
            "(960, 3736)\n"
          ]
        }
      ],
      "source": [
        "print(X_train.shape)\n",
        "print(X_test.shape)"
      ]
    },
    {
      "cell_type": "code",
      "execution_count": 216,
      "id": "19bb954b",
      "metadata": {
        "id": "19bb954b",
        "outputId": "2230070e-7480-4467-db0f-80a394bb6cff",
        "colab": {
          "base_uri": "https://localhost:8080/"
        }
      },
      "outputs": [
        {
          "output_type": "execute_result",
          "data": {
            "text/plain": [
              "MultinomialNB()"
            ]
          },
          "metadata": {},
          "execution_count": 216
        }
      ],
      "source": [
        "modelo_1 = MultinomialNB()\n",
        "modelo_1.fit(X_train,y_train)"
      ]
    },
    {
      "cell_type": "code",
      "execution_count": 217,
      "id": "1d963ffc",
      "metadata": {
        "id": "1d963ffc"
      },
      "outputs": [],
      "source": [
        "predict = modelo_1.predict(X_test)"
      ]
    },
    {
      "cell_type": "code",
      "execution_count": 218,
      "id": "2a8d3225",
      "metadata": {
        "id": "2a8d3225",
        "outputId": "fe2e6d04-235f-4958-d477-169f761d6713",
        "colab": {
          "base_uri": "https://localhost:8080/"
        }
      },
      "outputs": [
        {
          "output_type": "execute_result",
          "data": {
            "text/plain": [
              "0.9229166666666667"
            ]
          },
          "metadata": {},
          "execution_count": 218
        }
      ],
      "source": [
        "metrics.accuracy_score(predict, y_test)"
      ]
    },
    {
      "cell_type": "code",
      "execution_count": 219,
      "id": "a1a7f6fb",
      "metadata": {
        "id": "a1a7f6fb"
      },
      "outputs": [],
      "source": [
        "test = ['Melhor mouse do brasil',\n",
        "       'Péssimo mouse horrivel',\n",
        "       'mais ou menos, mas dá pra usar',\n",
        "       'compensa, entrega o que promete, mas nada muito além disso']"
      ]
    },
    {
      "cell_type": "code",
      "execution_count": 220,
      "id": "21d66ffe",
      "metadata": {
        "id": "21d66ffe"
      },
      "outputs": [],
      "source": [
        "test = tokenizador(test)\n",
        "test = padroniza_caracteres(test, std_list)\n",
        "test = removedor_stopwords(test,nltk_stopwords)\n",
        "test = _untokenize_text(test)"
      ]
    },
    {
      "cell_type": "code",
      "execution_count": 221,
      "id": "9ab077db",
      "metadata": {
        "id": "9ab077db"
      },
      "outputs": [],
      "source": [
        "vetor_test = vetores.transform(test)\n",
        "vetor_test = vetor_test.toarray()"
      ]
    },
    {
      "cell_type": "code",
      "execution_count": 222,
      "id": "e4cbe0d4",
      "metadata": {
        "id": "e4cbe0d4",
        "outputId": "ab99d7a3-ea46-425a-8775-5caa55cd2e8c",
        "colab": {
          "base_uri": "https://localhost:8080/"
        }
      },
      "outputs": [
        {
          "output_type": "execute_result",
          "data": {
            "text/plain": [
              "(4, 3736)"
            ]
          },
          "metadata": {},
          "execution_count": 222
        }
      ],
      "source": [
        "vetor_test.shape"
      ]
    },
    {
      "cell_type": "code",
      "execution_count": 223,
      "id": "4f39ea3b",
      "metadata": {
        "id": "4f39ea3b",
        "outputId": "a9d7f0d4-9e74-4525-9a32-ea6d68a2498e",
        "colab": {
          "base_uri": "https://localhost:8080/"
        }
      },
      "outputs": [
        {
          "output_type": "execute_result",
          "data": {
            "text/plain": [
              "array([2, 0, 0, 2])"
            ]
          },
          "metadata": {},
          "execution_count": 223
        }
      ],
      "source": [
        "modelo_1.predict(vetor_test)"
      ]
    },
    {
      "cell_type": "code",
      "execution_count": 224,
      "id": "b876d03e",
      "metadata": {
        "id": "b876d03e",
        "outputId": "e004e284-598f-474e-ad9f-91b90d7305df",
        "colab": {
          "base_uri": "https://localhost:8080/"
        }
      },
      "outputs": [
        {
          "output_type": "stream",
          "name": "stdout",
          "text": [
            "              precision    recall  f1-score   support\n",
            "\n",
            "           0       0.46      0.53      0.49        34\n",
            "           1       0.07      0.11      0.09        18\n",
            "           2       0.97      0.95      0.96       908\n",
            "\n",
            "    accuracy                           0.92       960\n",
            "   macro avg       0.50      0.53      0.51       960\n",
            "weighted avg       0.94      0.92      0.93       960\n",
            "\n"
          ]
        }
      ],
      "source": [
        "print(metrics.classification_report(y_test,predict))"
      ]
    },
    {
      "cell_type": "code",
      "execution_count": 225,
      "id": "5ed95307",
      "metadata": {
        "id": "5ed95307"
      },
      "outputs": [],
      "source": [
        "resultados = cross_val_score(modelo_1, X_train, y_train, cv = 10)"
      ]
    },
    {
      "cell_type": "code",
      "execution_count": 226,
      "id": "e51a803f",
      "metadata": {
        "scrolled": true,
        "id": "e51a803f",
        "outputId": "72e34d83-b20c-481a-8693-70cc7dd25074",
        "colab": {
          "base_uri": "https://localhost:8080/"
        }
      },
      "outputs": [
        {
          "output_type": "stream",
          "name": "stdout",
          "text": [
            "[0.96700275 0.9532539  0.95504587 0.96146789 0.96238532 0.95137615\n",
            " 0.9559633  0.95779817 0.95137615 0.96238532]\n"
          ]
        }
      ],
      "source": [
        "print(resultados)"
      ]
    },
    {
      "cell_type": "markdown",
      "id": "f1957fc3",
      "metadata": {
        "id": "f1957fc3"
      },
      "source": [
        "## Random Forest"
      ]
    },
    {
      "cell_type": "code",
      "execution_count": 227,
      "id": "527b0728",
      "metadata": {
        "id": "527b0728"
      },
      "outputs": [],
      "source": [
        "from sklearn.ensemble import RandomForestClassifier\n",
        "forest = RandomForestClassifier(n_estimators = 100)"
      ]
    },
    {
      "cell_type": "code",
      "execution_count": 228,
      "id": "d267a15f",
      "metadata": {
        "id": "d267a15f",
        "outputId": "88bab9cc-974b-428b-c119-2f15a7515f06",
        "colab": {
          "base_uri": "https://localhost:8080/"
        }
      },
      "outputs": [
        {
          "output_type": "execute_result",
          "data": {
            "text/plain": [
              "RandomForestClassifier()"
            ]
          },
          "metadata": {},
          "execution_count": 228
        }
      ],
      "source": [
        "forest.fit(X_train,y_train)"
      ]
    },
    {
      "cell_type": "code",
      "execution_count": 229,
      "id": "2aadac5c",
      "metadata": {
        "id": "2aadac5c",
        "outputId": "069e11a5-8afc-4d7a-e59c-b0f7a761a088",
        "colab": {
          "base_uri": "https://localhost:8080/"
        }
      },
      "outputs": [
        {
          "output_type": "stream",
          "name": "stdout",
          "text": [
            "              precision    recall  f1-score   support\n",
            "\n",
            "           0       0.58      0.21      0.30        34\n",
            "           1       0.00      0.00      0.00        18\n",
            "           2       0.96      1.00      0.98       908\n",
            "\n",
            "    accuracy                           0.95       960\n",
            "   macro avg       0.51      0.40      0.43       960\n",
            "weighted avg       0.93      0.95      0.93       960\n",
            "\n"
          ]
        }
      ],
      "source": [
        "print(metrics.classification_report(y_test,forest.predict(X_test)))"
      ]
    },
    {
      "cell_type": "code",
      "execution_count": 230,
      "id": "fded2427",
      "metadata": {
        "id": "fded2427",
        "outputId": "52f6a957-227d-4c3a-8822-86e0a69dc912",
        "colab": {
          "base_uri": "https://localhost:8080/"
        }
      },
      "outputs": [
        {
          "output_type": "execute_result",
          "data": {
            "text/plain": [
              "44.0"
            ]
          },
          "metadata": {},
          "execution_count": 230
        }
      ],
      "source": [
        "(98+0+34)/3"
      ]
    },
    {
      "cell_type": "code",
      "execution_count": 230,
      "id": "ab06d935",
      "metadata": {
        "id": "ab06d935"
      },
      "outputs": [],
      "source": [
        ""
      ]
    },
    {
      "cell_type": "markdown",
      "source": [
        "## LSTM"
      ],
      "metadata": {
        "id": "cCLcyjLgb33d"
      },
      "id": "cCLcyjLgb33d"
    },
    {
      "cell_type": "code",
      "source": [
        "import tensorflow as tf\n",
        "from keras.datasets import mnist"
      ],
      "metadata": {
        "id": "nY_FxyHsb7TP"
      },
      "id": "nY_FxyHsb7TP",
      "execution_count": 231,
      "outputs": []
    },
    {
      "cell_type": "code",
      "source": [
        "(X_train, y_train), (X_test, y_test) = mnist.load_data()"
      ],
      "metadata": {
        "id": "Vr3VBuOtb_X5"
      },
      "id": "Vr3VBuOtb_X5",
      "execution_count": 232,
      "outputs": []
    },
    {
      "cell_type": "code",
      "source": [
        "# Analisando os shapes\n",
        "print(\"X_train: {0}\".format(X_train.shape))\n",
        "print(\"y_train: {0}\".format(y_train.shape))\n",
        "print(\"X_test: {0}\".format(X_test.shape))\n",
        "print(\"y_test: {0}\".format(y_test.shape))"
      ],
      "metadata": {
        "colab": {
          "base_uri": "https://localhost:8080/"
        },
        "id": "kgEypQzscUYp",
        "outputId": "97391e3d-f8c5-4cf3-8b84-203383e8354f"
      },
      "id": "kgEypQzscUYp",
      "execution_count": 233,
      "outputs": [
        {
          "output_type": "stream",
          "name": "stdout",
          "text": [
            "X_train: (60000, 28, 28)\n",
            "y_train: (60000,)\n",
            "X_test: (10000, 28, 28)\n",
            "y_test: (10000,)\n"
          ]
        }
      ]
    },
    {
      "cell_type": "code",
      "source": [
        "# Visualizando os labels\n",
        "import numpy as np\n",
        "np.unique(y_train)"
      ],
      "metadata": {
        "colab": {
          "base_uri": "https://localhost:8080/"
        },
        "id": "YG8NjuiVcYXI",
        "outputId": "58bcb97b-685c-4216-b85c-6180ef7419ff"
      },
      "id": "YG8NjuiVcYXI",
      "execution_count": 234,
      "outputs": [
        {
          "output_type": "execute_result",
          "data": {
            "text/plain": [
              "array([0, 1, 2, 3, 4, 5, 6, 7, 8, 9], dtype=uint8)"
            ]
          },
          "metadata": {},
          "execution_count": 234
        }
      ]
    },
    {
      "cell_type": "code",
      "source": [
        "from tensorflow.keras import Sequential\n",
        "from tensorflow.keras.layers import Dense, Dropout, Embedding, LSTM, Conv2D, Input\n",
        "\n",
        "model = Sequential()\n",
        "\n",
        "# Defina a camada escondida, utilize 'relu' como função de ativação\n",
        "model.add(LSTM(100, input_shape=(28, 28), activation='tanh'))\n",
        "\n",
        "# Outras camadas adicionais\n",
        "model.add(Dense(200, activation='relu'))\n",
        "model.add(Dropout(0.3))\n",
        "model.add(Dense(100, activation = \"relu\"))\n",
        "model.add(Dropout(0.3))\n",
        "model.add(Dense(50, activation = \"relu\"))\n",
        "\n",
        "# Defina a camada de saída, utilize 'softmax' como função de ativação\n",
        "# O número de neurônios na camada de saída será o número de labels\n",
        "# no caso do mnist = 10\n",
        "model.add(Dense(10, activation='softmax'))\n",
        "model.summary()"
      ],
      "metadata": {
        "colab": {
          "base_uri": "https://localhost:8080/"
        },
        "id": "yFK4x1jZclFY",
        "outputId": "47b4f9d8-3c20-4045-8cfe-1523e090d73c"
      },
      "id": "yFK4x1jZclFY",
      "execution_count": 235,
      "outputs": [
        {
          "output_type": "stream",
          "name": "stdout",
          "text": [
            "Model: \"sequential_2\"\n",
            "_________________________________________________________________\n",
            " Layer (type)                Output Shape              Param #   \n",
            "=================================================================\n",
            " lstm_1 (LSTM)               (None, 100)               51600     \n",
            "                                                                 \n",
            " dense_6 (Dense)             (None, 200)               20200     \n",
            "                                                                 \n",
            " dropout_2 (Dropout)         (None, 200)               0         \n",
            "                                                                 \n",
            " dense_7 (Dense)             (None, 100)               20100     \n",
            "                                                                 \n",
            " dropout_3 (Dropout)         (None, 100)               0         \n",
            "                                                                 \n",
            " dense_8 (Dense)             (None, 50)                5050      \n",
            "                                                                 \n",
            " dense_9 (Dense)             (None, 10)                510       \n",
            "                                                                 \n",
            "=================================================================\n",
            "Total params: 97,460\n",
            "Trainable params: 97,460\n",
            "Non-trainable params: 0\n",
            "_________________________________________________________________\n"
          ]
        }
      ]
    },
    {
      "cell_type": "code",
      "source": [
        "model.compile(\n",
        " optimizer = \"adam\",\n",
        " loss = \"sparse_categorical_crossentropy\",\n",
        " metrics = [\"accuracy\"]\n",
        ")"
      ],
      "metadata": {
        "id": "DYF50KIsc3vN"
      },
      "id": "DYF50KIsc3vN",
      "execution_count": 236,
      "outputs": []
    },
    {
      "cell_type": "code",
      "source": [
        "results = model.fit(\n",
        " X_train, y_train,\n",
        " epochs= 10,\n",
        " batch_size = 1000,\n",
        " validation_data = (X_test, y_test)\n",
        ")"
      ],
      "metadata": {
        "colab": {
          "base_uri": "https://localhost:8080/"
        },
        "id": "SkhfZ2eMc7Vo",
        "outputId": "8ab256ea-7f57-4386-e8d9-e93309d8782c"
      },
      "id": "SkhfZ2eMc7Vo",
      "execution_count": 237,
      "outputs": [
        {
          "output_type": "stream",
          "name": "stdout",
          "text": [
            "Epoch 1/10\n",
            "60/60 [==============================] - 27s 418ms/step - loss: 1.5612 - accuracy: 0.4313 - val_loss: 0.8089 - val_accuracy: 0.7177\n",
            "Epoch 2/10\n",
            "60/60 [==============================] - 26s 440ms/step - loss: 0.7178 - accuracy: 0.7485 - val_loss: 0.5395 - val_accuracy: 0.8093\n",
            "Epoch 3/10\n",
            "60/60 [==============================] - 24s 407ms/step - loss: 0.5324 - accuracy: 0.8207 - val_loss: 0.4402 - val_accuracy: 0.8479\n",
            "Epoch 4/10\n",
            "60/60 [==============================] - 24s 396ms/step - loss: 0.4436 - accuracy: 0.8520 - val_loss: 0.3924 - val_accuracy: 0.8658\n",
            "Epoch 5/10\n",
            "60/60 [==============================] - 23s 391ms/step - loss: 0.3920 - accuracy: 0.8698 - val_loss: 0.3552 - val_accuracy: 0.8770\n",
            "Epoch 6/10\n",
            "60/60 [==============================] - 24s 401ms/step - loss: 0.3471 - accuracy: 0.8851 - val_loss: 0.3317 - val_accuracy: 0.8844\n",
            "Epoch 7/10\n",
            "60/60 [==============================] - 24s 396ms/step - loss: 0.3147 - accuracy: 0.8964 - val_loss: 0.3107 - val_accuracy: 0.8969\n",
            "Epoch 8/10\n",
            "60/60 [==============================] - 24s 400ms/step - loss: 0.2959 - accuracy: 0.9023 - val_loss: 0.3038 - val_accuracy: 0.8954\n",
            "Epoch 9/10\n",
            "60/60 [==============================] - 24s 400ms/step - loss: 0.2716 - accuracy: 0.9116 - val_loss: 0.2940 - val_accuracy: 0.9020\n",
            "Epoch 10/10\n",
            "60/60 [==============================] - 24s 401ms/step - loss: 0.2577 - accuracy: 0.9153 - val_loss: 0.2804 - val_accuracy: 0.9079\n"
          ]
        }
      ]
    },
    {
      "cell_type": "markdown",
      "source": [
        "## CNN"
      ],
      "metadata": {
        "id": "ZdGmFnI10Lm8"
      },
      "id": "ZdGmFnI10Lm8"
    },
    {
      "cell_type": "markdown",
      "source": [
        "### Prepare Train Test Split"
      ],
      "metadata": {
        "id": "qax_ebxI9Vw8"
      },
      "id": "qax_ebxI9Vw8"
    },
    {
      "cell_type": "code",
      "source": [
        "# build train and test datasets\n",
        "reviews = df['description'].values\n",
        "sentiments = df['score'].values\n",
        "\n",
        "train_reviews = reviews[:35000]\n",
        "train_sentiments = sentiments[:35000]\n",
        "\n",
        "test_reviews = reviews[35000:]\n",
        "test_sentiments = sentiments[35000:]"
      ],
      "metadata": {
        "id": "fbHu68Cs9Wud"
      },
      "id": "fbHu68Cs9Wud",
      "execution_count": 238,
      "outputs": []
    },
    {
      "cell_type": "markdown",
      "source": [
        "## Text Wrangling & Normalization"
      ],
      "metadata": {
        "id": "i8idhZn9ANda"
      },
      "id": "i8idhZn9ANda"
    },
    {
      "cell_type": "code",
      "source": [
        "import contractions\n",
        "from bs4 import BeautifulSoup\n",
        "import numpy as np\n",
        "import re\n",
        "import tqdm\n",
        "import unicodedata\n",
        "\n",
        "\n",
        "def strip_html_tags(text):\n",
        "  soup = BeautifulSoup(text, \"html.parser\")\n",
        "  [s.extract() for s in soup(['iframe', 'script'])]\n",
        "  stripped_text = soup.get_text()\n",
        "  stripped_text = re.sub(r'[\\r|\\n|\\r\\n]+', '\\n', stripped_text)\n",
        "  return stripped_text\n",
        "\n",
        "def remove_accented_chars(text):\n",
        "  text = unicodedata.normalize('NFKD', text).encode('ascii', 'ignore').decode('utf-8', 'ignore')\n",
        "  return text\n",
        "\n",
        "def pre_process_corpus(docs):\n",
        "  norm_docs = []\n",
        "  for doc in tqdm.tqdm(docs):\n",
        "    doc = strip_html_tags(doc)\n",
        "    doc = doc.translate(doc.maketrans(\"\\n\\t\\r\", \"   \"))\n",
        "    doc = doc.lower()\n",
        "    doc = remove_accented_chars(doc)\n",
        "    doc = contractions.fix(doc)\n",
        "    # lower case and remove special characters\\whitespaces\n",
        "    doc = re.sub(r'[^a-zA-Z0-9\\s]', '', doc, re.I|re.A)\n",
        "    doc = re.sub(' +', ' ', doc)\n",
        "    doc = doc.strip()  \n",
        "    norm_docs.append(doc)\n",
        "  \n",
        "  return norm_docs"
      ],
      "metadata": {
        "id": "0Gvum7bgAdIn"
      },
      "id": "0Gvum7bgAdIn",
      "execution_count": 239,
      "outputs": []
    },
    {
      "cell_type": "code",
      "source": [
        "%%time\n",
        "\n",
        "norm_train_reviews = pre_process_corpus(train_reviews)\n",
        "norm_test_reviews = pre_process_corpus(test_reviews)"
      ],
      "metadata": {
        "colab": {
          "base_uri": "https://localhost:8080/"
        },
        "id": "BjpI-WBk_uo0",
        "outputId": "3c8edcef-2882-45fa-9368-58caf08d0d1e"
      },
      "id": "BjpI-WBk_uo0",
      "execution_count": 240,
      "outputs": [
        {
          "output_type": "stream",
          "name": "stderr",
          "text": [
            "100%|██████████| 4800/4800 [00:00<00:00, 6240.80it/s]\n",
            "0it [00:00, ?it/s]"
          ]
        },
        {
          "output_type": "stream",
          "name": "stdout",
          "text": [
            "CPU times: user 785 ms, sys: 49.6 ms, total: 834 ms\n",
            "Wall time: 794 ms\n"
          ]
        },
        {
          "output_type": "stream",
          "name": "stderr",
          "text": [
            "\n"
          ]
        }
      ]
    },
    {
      "cell_type": "markdown",
      "source": [
        "## Preprocessing"
      ],
      "metadata": {
        "id": "or4IZlSf_Kmk"
      },
      "id": "or4IZlSf_Kmk"
    },
    {
      "cell_type": "code",
      "source": [
        "t = Tokenizer(oov_token='<UNK>')\n",
        "# fit the tokenizer on the documents\n",
        "t.fit_on_texts(norm_train_reviews)\n",
        "t.word_index['<PAD>'] = 0"
      ],
      "metadata": {
        "id": "IArzrrba_LmJ"
      },
      "id": "IArzrrba_LmJ",
      "execution_count": 241,
      "outputs": []
    },
    {
      "cell_type": "code",
      "source": [
        "max([(k, v) for k, v in t.word_index.items()], key = lambda x:x[1]), min([(k, v) for k, v in t.word_index.items()], key = lambda x:x[1]), t.word_index['<UNK>']"
      ],
      "metadata": {
        "colab": {
          "base_uri": "https://localhost:8080/"
        },
        "id": "V6zK5atU_QwI",
        "outputId": "eb4afb58-b15d-4f88-a0e3-027f6e1619d0"
      },
      "id": "V6zK5atU_QwI",
      "execution_count": 242,
      "outputs": [
        {
          "output_type": "execute_result",
          "data": {
            "text/plain": [
              "(('desconfortavelindicaria', 4737), ('<PAD>', 0), 1)"
            ]
          },
          "metadata": {},
          "execution_count": 242
        }
      ]
    },
    {
      "cell_type": "code",
      "source": [
        "train_sequences = t.texts_to_sequences(norm_train_reviews)"
      ],
      "metadata": {
        "id": "MdT-dt3A_YKE"
      },
      "id": "MdT-dt3A_YKE",
      "execution_count": 243,
      "outputs": []
    },
    {
      "cell_type": "code",
      "source": [
        "test_sequences = t.texts_to_sequences(norm_test_reviews)"
      ],
      "metadata": {
        "id": "vEZPiG4o_bw0"
      },
      "id": "vEZPiG4o_bw0",
      "execution_count": 244,
      "outputs": []
    },
    {
      "cell_type": "markdown",
      "source": [
        "### Sequence Normalization"
      ],
      "metadata": {
        "id": "iB05dfG28cW6"
      },
      "id": "iB05dfG28cW6"
    },
    {
      "cell_type": "code",
      "source": [
        "MAX_SEQUENCE_LENGTH = 1000"
      ],
      "metadata": {
        "id": "rSs7QorJ8dZg"
      },
      "id": "rSs7QorJ8dZg",
      "execution_count": 245,
      "outputs": []
    },
    {
      "cell_type": "code",
      "source": [
        "# pad dataset to a maximum review length in words\n",
        "X_train = sequence.pad_sequences(train_sequences, maxlen=MAX_SEQUENCE_LENGTH)\n",
        "X_test = sequence.pad_sequences(test_sequences, maxlen=MAX_SEQUENCE_LENGTH)\n",
        "X_train.shape, X_test.shape"
      ],
      "metadata": {
        "colab": {
          "base_uri": "https://localhost:8080/"
        },
        "id": "LI0xcQmk8hC3",
        "outputId": "9ce0f2ee-f85c-4484-ad25-52c7646400a1"
      },
      "id": "LI0xcQmk8hC3",
      "execution_count": 246,
      "outputs": [
        {
          "output_type": "execute_result",
          "data": {
            "text/plain": [
              "((4800, 1000), (0, 1000))"
            ]
          },
          "metadata": {},
          "execution_count": 246
        }
      ]
    },
    {
      "cell_type": "markdown",
      "source": [
        "### Encoding Labels"
      ],
      "metadata": {
        "id": "og3vr-uX7jUx"
      },
      "id": "og3vr-uX7jUx"
    },
    {
      "cell_type": "code",
      "source": [
        "le = LabelEncoder()\n",
        "num_classes=2 # positive -> 2, negative -> 1, negative -> 0"
      ],
      "metadata": {
        "id": "4RcfDVHF7i1O"
      },
      "id": "4RcfDVHF7i1O",
      "execution_count": 247,
      "outputs": []
    },
    {
      "cell_type": "code",
      "source": [
        "y_train = le.fit_transform(train_sentiments)\n",
        "y_test = le.transform(test_sentiments)"
      ],
      "metadata": {
        "id": "m_lUfrZ_7oBn"
      },
      "id": "m_lUfrZ_7oBn",
      "execution_count": 248,
      "outputs": []
    },
    {
      "cell_type": "code",
      "source": [
        "VOCAB_SIZE = len(t.word_index)"
      ],
      "metadata": {
        "id": "8k2TzB-R7rVm"
      },
      "id": "8k2TzB-R7rVm",
      "execution_count": 249,
      "outputs": []
    },
    {
      "cell_type": "markdown",
      "source": [
        "## Prepare the Model"
      ],
      "metadata": {
        "id": "flUIlobq7zVW"
      },
      "id": "flUIlobq7zVW"
    },
    {
      "cell_type": "code",
      "source": [
        "EMBED_SIZE = 300\n",
        "EPOCHS=2\n",
        "BATCH_SIZE=128"
      ],
      "metadata": {
        "id": "12O6Sn-yqRNk"
      },
      "id": "12O6Sn-yqRNk",
      "execution_count": 250,
      "outputs": []
    },
    {
      "cell_type": "code",
      "source": [
        "# create the model\n",
        "model = Sequential()\n",
        "model.add(Embedding(VOCAB_SIZE, EMBED_SIZE, input_length=MAX_SEQUENCE_LENGTH))\n",
        "model.add(Conv1D(filters=128, kernel_size=4, padding='same', activation='relu'))\n",
        "model.add(MaxPooling1D(pool_size=2))\n",
        "model.add(Conv1D(filters=64, kernel_size=4, padding='same', activation='relu'))\n",
        "model.add(MaxPooling1D(pool_size=2))\n",
        "model.add(Conv1D(filters=32, kernel_size=4, padding='same', activation='relu'))\n",
        "model.add(MaxPooling1D(pool_size=2))\n",
        "model.add(Flatten())\n",
        "model.add(Dense(256, activation='relu'))\n",
        "model.add(Dense(1, activation='sigmoid'))\n",
        "model.compile(loss='binary_crossentropy', optimizer='adam', metrics=['accuracy'])\n",
        "model.summary()"
      ],
      "metadata": {
        "colab": {
          "base_uri": "https://localhost:8080/"
        },
        "id": "O6mZ3Cw-qSZQ",
        "outputId": "47e2c5b1-291b-4af0-997e-3d3b213e2bfd"
      },
      "id": "O6mZ3Cw-qSZQ",
      "execution_count": 251,
      "outputs": [
        {
          "output_type": "stream",
          "name": "stdout",
          "text": [
            "Model: \"sequential_3\"\n",
            "_________________________________________________________________\n",
            " Layer (type)                Output Shape              Param #   \n",
            "=================================================================\n",
            " embedding_1 (Embedding)     (None, 1000, 300)         1421400   \n",
            "                                                                 \n",
            " conv1d_3 (Conv1D)           (None, 1000, 128)         153728    \n",
            "                                                                 \n",
            " max_pooling1d_3 (MaxPooling  (None, 500, 128)         0         \n",
            " 1D)                                                             \n",
            "                                                                 \n",
            " conv1d_4 (Conv1D)           (None, 500, 64)           32832     \n",
            "                                                                 \n",
            " max_pooling1d_4 (MaxPooling  (None, 250, 64)          0         \n",
            " 1D)                                                             \n",
            "                                                                 \n",
            " conv1d_5 (Conv1D)           (None, 250, 32)           8224      \n",
            "                                                                 \n",
            " max_pooling1d_5 (MaxPooling  (None, 125, 32)          0         \n",
            " 1D)                                                             \n",
            "                                                                 \n",
            " flatten_1 (Flatten)         (None, 4000)              0         \n",
            "                                                                 \n",
            " dense_10 (Dense)            (None, 256)               1024256   \n",
            "                                                                 \n",
            " dense_11 (Dense)            (None, 1)                 257       \n",
            "                                                                 \n",
            "=================================================================\n",
            "Total params: 2,640,697\n",
            "Trainable params: 2,640,697\n",
            "Non-trainable params: 0\n",
            "_________________________________________________________________\n"
          ]
        }
      ]
    },
    {
      "cell_type": "markdown",
      "source": [
        "## Model Training"
      ],
      "metadata": {
        "id": "q2XPsPo_qdVP"
      },
      "id": "q2XPsPo_qdVP"
    },
    {
      "cell_type": "code",
      "source": [
        "# Fit the model\n",
        "model.fit(X_train, y_train, \n",
        "          validation_split=0.1,\n",
        "          epochs=EPOCHS, \n",
        "          batch_size=BATCH_SIZE, \n",
        "          verbose=1)"
      ],
      "metadata": {
        "colab": {
          "base_uri": "https://localhost:8080/"
        },
        "id": "62acqjA9qea8",
        "outputId": "c0aefd95-1d9c-411d-d077-798ec328d31f"
      },
      "id": "62acqjA9qea8",
      "execution_count": 252,
      "outputs": [
        {
          "output_type": "stream",
          "name": "stdout",
          "text": [
            "Epoch 1/2\n",
            "34/34 [==============================] - 103s 3s/step - loss: -13673.7295 - accuracy: 0.0194 - val_loss: -128621.0703 - val_accuracy: 0.0125\n",
            "Epoch 2/2\n",
            "34/34 [==============================] - 102s 3s/step - loss: -5080909.0000 - accuracy: 0.0188 - val_loss: -25281050.0000 - val_accuracy: 0.0125\n"
          ]
        },
        {
          "output_type": "execute_result",
          "data": {
            "text/plain": [
              "<keras.callbacks.History at 0x7f675e835e90>"
            ]
          },
          "metadata": {},
          "execution_count": 252
        }
      ]
    },
    {
      "cell_type": "markdown",
      "source": [
        "## Model Evaluation"
      ],
      "metadata": {
        "id": "EUO3ewRbB8JO"
      },
      "id": "EUO3ewRbB8JO"
    },
    {
      "cell_type": "code",
      "source": [
        "# Final evaluation of the model\n",
        "scores = model.evaluate(X_test, y_test, verbose=1)\n",
        "print(\"Accuracy: %.2f%%\" % (scores[1]*100))"
      ],
      "metadata": {
        "colab": {
          "base_uri": "https://localhost:8080/",
          "height": 381
        },
        "id": "hdwnn3MnB9ID",
        "outputId": "6ec3ad54-ce0b-47ea-ba67-deaea2643c14"
      },
      "id": "hdwnn3MnB9ID",
      "execution_count": 268,
      "outputs": [
        {
          "output_type": "stream",
          "name": "stderr",
          "text": [
            "/usr/local/lib/python3.7/dist-packages/keras/utils/generic_utils.py:923: RuntimeWarning: divide by zero encountered in log10\n",
            "  numdigits = int(np.log10(self.target)) + 1\n"
          ]
        },
        {
          "output_type": "error",
          "ename": "OverflowError",
          "evalue": "ignored",
          "traceback": [
            "\u001b[0;31m---------------------------------------------------------------------------\u001b[0m",
            "\u001b[0;31mOverflowError\u001b[0m                             Traceback (most recent call last)",
            "\u001b[0;32m<ipython-input-268-220d75bbab49>\u001b[0m in \u001b[0;36m<module>\u001b[0;34m()\u001b[0m\n\u001b[1;32m      1\u001b[0m \u001b[0;31m# Final evaluation of the model\u001b[0m\u001b[0;34m\u001b[0m\u001b[0;34m\u001b[0m\u001b[0;34m\u001b[0m\u001b[0m\n\u001b[0;32m----> 2\u001b[0;31m \u001b[0mscores\u001b[0m \u001b[0;34m=\u001b[0m \u001b[0mmodel\u001b[0m\u001b[0;34m.\u001b[0m\u001b[0mevaluate\u001b[0m\u001b[0;34m(\u001b[0m\u001b[0mX_test\u001b[0m\u001b[0;34m,\u001b[0m \u001b[0my_test\u001b[0m\u001b[0;34m,\u001b[0m \u001b[0mverbose\u001b[0m\u001b[0;34m=\u001b[0m\u001b[0;36m1\u001b[0m\u001b[0;34m)\u001b[0m\u001b[0;34m\u001b[0m\u001b[0;34m\u001b[0m\u001b[0m\n\u001b[0m\u001b[1;32m      3\u001b[0m \u001b[0mprint\u001b[0m\u001b[0;34m(\u001b[0m\u001b[0;34m\"Accuracy: %.2f%%\"\u001b[0m \u001b[0;34m%\u001b[0m \u001b[0;34m(\u001b[0m\u001b[0mscores\u001b[0m\u001b[0;34m[\u001b[0m\u001b[0;36m1\u001b[0m\u001b[0;34m]\u001b[0m\u001b[0;34m*\u001b[0m\u001b[0;36m100\u001b[0m\u001b[0;34m)\u001b[0m\u001b[0;34m)\u001b[0m\u001b[0;34m\u001b[0m\u001b[0;34m\u001b[0m\u001b[0m\n",
            "\u001b[0;32m/usr/local/lib/python3.7/dist-packages/keras/utils/traceback_utils.py\u001b[0m in \u001b[0;36merror_handler\u001b[0;34m(*args, **kwargs)\u001b[0m\n\u001b[1;32m     65\u001b[0m     \u001b[0;32mexcept\u001b[0m \u001b[0mException\u001b[0m \u001b[0;32mas\u001b[0m \u001b[0me\u001b[0m\u001b[0;34m:\u001b[0m  \u001b[0;31m# pylint: disable=broad-except\u001b[0m\u001b[0;34m\u001b[0m\u001b[0;34m\u001b[0m\u001b[0m\n\u001b[1;32m     66\u001b[0m       \u001b[0mfiltered_tb\u001b[0m \u001b[0;34m=\u001b[0m \u001b[0m_process_traceback_frames\u001b[0m\u001b[0;34m(\u001b[0m\u001b[0me\u001b[0m\u001b[0;34m.\u001b[0m\u001b[0m__traceback__\u001b[0m\u001b[0;34m)\u001b[0m\u001b[0;34m\u001b[0m\u001b[0;34m\u001b[0m\u001b[0m\n\u001b[0;32m---> 67\u001b[0;31m       \u001b[0;32mraise\u001b[0m \u001b[0me\u001b[0m\u001b[0;34m.\u001b[0m\u001b[0mwith_traceback\u001b[0m\u001b[0;34m(\u001b[0m\u001b[0mfiltered_tb\u001b[0m\u001b[0;34m)\u001b[0m \u001b[0;32mfrom\u001b[0m \u001b[0;32mNone\u001b[0m\u001b[0;34m\u001b[0m\u001b[0;34m\u001b[0m\u001b[0m\n\u001b[0m\u001b[1;32m     68\u001b[0m     \u001b[0;32mfinally\u001b[0m\u001b[0;34m:\u001b[0m\u001b[0;34m\u001b[0m\u001b[0;34m\u001b[0m\u001b[0m\n\u001b[1;32m     69\u001b[0m       \u001b[0;32mdel\u001b[0m \u001b[0mfiltered_tb\u001b[0m\u001b[0;34m\u001b[0m\u001b[0;34m\u001b[0m\u001b[0m\n",
            "\u001b[0;32m/usr/local/lib/python3.7/dist-packages/keras/utils/generic_utils.py\u001b[0m in \u001b[0;36mupdate\u001b[0;34m(self, current, values, finalize)\u001b[0m\n\u001b[1;32m    921\u001b[0m \u001b[0;34m\u001b[0m\u001b[0m\n\u001b[1;32m    922\u001b[0m       \u001b[0;32mif\u001b[0m \u001b[0mself\u001b[0m\u001b[0;34m.\u001b[0m\u001b[0mtarget\u001b[0m \u001b[0;32mis\u001b[0m \u001b[0;32mnot\u001b[0m \u001b[0;32mNone\u001b[0m\u001b[0;34m:\u001b[0m\u001b[0;34m\u001b[0m\u001b[0;34m\u001b[0m\u001b[0m\n\u001b[0;32m--> 923\u001b[0;31m         \u001b[0mnumdigits\u001b[0m \u001b[0;34m=\u001b[0m \u001b[0mint\u001b[0m\u001b[0;34m(\u001b[0m\u001b[0mnp\u001b[0m\u001b[0;34m.\u001b[0m\u001b[0mlog10\u001b[0m\u001b[0;34m(\u001b[0m\u001b[0mself\u001b[0m\u001b[0;34m.\u001b[0m\u001b[0mtarget\u001b[0m\u001b[0;34m)\u001b[0m\u001b[0;34m)\u001b[0m \u001b[0;34m+\u001b[0m \u001b[0;36m1\u001b[0m\u001b[0;34m\u001b[0m\u001b[0;34m\u001b[0m\u001b[0m\n\u001b[0m\u001b[1;32m    924\u001b[0m         \u001b[0mbar\u001b[0m \u001b[0;34m=\u001b[0m \u001b[0;34m(\u001b[0m\u001b[0;34m'%'\u001b[0m \u001b[0;34m+\u001b[0m \u001b[0mstr\u001b[0m\u001b[0;34m(\u001b[0m\u001b[0mnumdigits\u001b[0m\u001b[0;34m)\u001b[0m \u001b[0;34m+\u001b[0m \u001b[0;34m'd/%d ['\u001b[0m\u001b[0;34m)\u001b[0m \u001b[0;34m%\u001b[0m \u001b[0;34m(\u001b[0m\u001b[0mcurrent\u001b[0m\u001b[0;34m,\u001b[0m \u001b[0mself\u001b[0m\u001b[0;34m.\u001b[0m\u001b[0mtarget\u001b[0m\u001b[0;34m)\u001b[0m\u001b[0;34m\u001b[0m\u001b[0;34m\u001b[0m\u001b[0m\n\u001b[1;32m    925\u001b[0m         \u001b[0mprog\u001b[0m \u001b[0;34m=\u001b[0m \u001b[0mfloat\u001b[0m\u001b[0;34m(\u001b[0m\u001b[0mcurrent\u001b[0m\u001b[0;34m)\u001b[0m \u001b[0;34m/\u001b[0m \u001b[0mself\u001b[0m\u001b[0;34m.\u001b[0m\u001b[0mtarget\u001b[0m\u001b[0;34m\u001b[0m\u001b[0;34m\u001b[0m\u001b[0m\n",
            "\u001b[0;31mOverflowError\u001b[0m: cannot convert float infinity to integer"
          ]
        }
      ]
    },
    {
      "cell_type": "code",
      "source": [
        "predictions = model.predict_classes(X_test).ravel()\n",
        "predictions[:10]"
      ],
      "metadata": {
        "colab": {
          "base_uri": "https://localhost:8080/",
          "height": 184
        },
        "id": "0E-jt22bCGz0",
        "outputId": "d0ef4dda-0868-4b64-fd1b-f2762eb02f90"
      },
      "id": "0E-jt22bCGz0",
      "execution_count": 254,
      "outputs": [
        {
          "output_type": "error",
          "ename": "AttributeError",
          "evalue": "ignored",
          "traceback": [
            "\u001b[0;31m---------------------------------------------------------------------------\u001b[0m",
            "\u001b[0;31mAttributeError\u001b[0m                            Traceback (most recent call last)",
            "\u001b[0;32m<ipython-input-254-cb5d9830b2ab>\u001b[0m in \u001b[0;36m<module>\u001b[0;34m()\u001b[0m\n\u001b[0;32m----> 1\u001b[0;31m \u001b[0mpredictions\u001b[0m \u001b[0;34m=\u001b[0m \u001b[0mmodel\u001b[0m\u001b[0;34m.\u001b[0m\u001b[0mpredict_classes\u001b[0m\u001b[0;34m(\u001b[0m\u001b[0mX_test\u001b[0m\u001b[0;34m)\u001b[0m\u001b[0;34m.\u001b[0m\u001b[0mravel\u001b[0m\u001b[0;34m(\u001b[0m\u001b[0;34m)\u001b[0m\u001b[0;34m\u001b[0m\u001b[0;34m\u001b[0m\u001b[0m\n\u001b[0m\u001b[1;32m      2\u001b[0m \u001b[0mpredictions\u001b[0m\u001b[0;34m[\u001b[0m\u001b[0;34m:\u001b[0m\u001b[0;36m10\u001b[0m\u001b[0;34m]\u001b[0m\u001b[0;34m\u001b[0m\u001b[0;34m\u001b[0m\u001b[0m\n",
            "\u001b[0;31mAttributeError\u001b[0m: 'Sequential' object has no attribute 'predict_classes'"
          ]
        }
      ]
    },
    {
      "cell_type": "code",
      "source": [
        "predictions = ['positive' if item == 2 else 'negative' for item in predictions]\n",
        "predictions[:10]"
      ],
      "metadata": {
        "colab": {
          "base_uri": "https://localhost:8080/",
          "height": 184
        },
        "id": "tWnF1a2bCJ8p",
        "outputId": "c8615437-093c-47d4-e1e8-f4ecc765f10b"
      },
      "id": "tWnF1a2bCJ8p",
      "execution_count": 259,
      "outputs": [
        {
          "output_type": "error",
          "ename": "NameError",
          "evalue": "ignored",
          "traceback": [
            "\u001b[0;31m---------------------------------------------------------------------------\u001b[0m",
            "\u001b[0;31mNameError\u001b[0m                                 Traceback (most recent call last)",
            "\u001b[0;32m<ipython-input-259-c00513b8969b>\u001b[0m in \u001b[0;36m<module>\u001b[0;34m()\u001b[0m\n\u001b[0;32m----> 1\u001b[0;31m \u001b[0mpredictions\u001b[0m \u001b[0;34m=\u001b[0m \u001b[0;34m[\u001b[0m\u001b[0;34m'positive'\u001b[0m \u001b[0;32mif\u001b[0m \u001b[0mitem\u001b[0m \u001b[0;34m==\u001b[0m \u001b[0;36m2\u001b[0m \u001b[0;32melse\u001b[0m \u001b[0;34m'negative'\u001b[0m \u001b[0;32mfor\u001b[0m \u001b[0mitem\u001b[0m \u001b[0;32min\u001b[0m \u001b[0mpredictions\u001b[0m\u001b[0;34m]\u001b[0m\u001b[0;34m\u001b[0m\u001b[0;34m\u001b[0m\u001b[0m\n\u001b[0m\u001b[1;32m      2\u001b[0m \u001b[0mpredictions\u001b[0m\u001b[0;34m[\u001b[0m\u001b[0;34m:\u001b[0m\u001b[0;36m10\u001b[0m\u001b[0;34m]\u001b[0m\u001b[0;34m\u001b[0m\u001b[0;34m\u001b[0m\u001b[0m\n",
            "\u001b[0;31mNameError\u001b[0m: name 'predictions' is not defined"
          ]
        }
      ]
    },
    {
      "cell_type": "code",
      "source": [
        "from sklearn.metrics import confusion_matrix, classification_report\n",
        "\n",
        "labels = ['negative', 'positive']\n",
        "print(classification_report(test_sentiments, predictions))\n",
        "pd.DataFrame(confusion_matrix(test_sentiments, predictions), index=labels, columns=labels)"
      ],
      "metadata": {
        "id": "W-zLNdXpCV62"
      },
      "id": "W-zLNdXpCV62",
      "execution_count": null,
      "outputs": []
    }
  ],
  "metadata": {
    "kernelspec": {
      "display_name": "Python 3 (ipykernel)",
      "language": "python",
      "name": "python3"
    },
    "language_info": {
      "codemirror_mode": {
        "name": "ipython",
        "version": 3
      },
      "file_extension": ".py",
      "mimetype": "text/x-python",
      "name": "python",
      "nbconvert_exporter": "python",
      "pygments_lexer": "ipython3",
      "version": "3.7.11"
    },
    "colab": {
      "name": "Cópia de 01_ajustes e testes-LSTM-CNN.ipynb",
      "provenance": [],
      "collapsed_sections": [
        "a011f201",
        "0781ff35",
        "cc4bf774"
      ],
      "include_colab_link": true
    }
  },
  "nbformat": 4,
  "nbformat_minor": 5
}