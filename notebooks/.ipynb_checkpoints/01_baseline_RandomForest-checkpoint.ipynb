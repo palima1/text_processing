{
 "cells": [
  {
   "cell_type": "code",
   "execution_count": 5,
   "id": "ee852c72",
   "metadata": {},
   "outputs": [],
   "source": [
    "#tratamentos iniciais\n",
    "import pandas as pd\n",
    "import numpy as np\n",
    "#divisão dos dados\n",
    "from sklearn.model_selection import train_test_split\n",
    "#modelos baseline\n",
    "from sklearn.feature_extraction.text import CountVectorizer\n",
    "from sklearn.naive_bayes import MultinomialNB\n",
    "from sklearn import metrics\n",
    "from sklearn.model_selection import cross_val_predict, cross_val_score\n",
    "#text processing\n",
    "import nltk\n",
    "from nltk.tokenize import word_tokenize\n",
    "from nltk.tokenize import wordpunct_tokenize\n",
    "# from nltk.tokenize import sent_tokenize (Tokenization)\n",
    "from nltk.probability import FreqDist\n",
    "from nltk.metrics import ConfusionMatrix\n",
    "#visualização \n",
    "from wordcloud import WordCloud\n",
    "import random\n",
    "from matplotlib import pyplot as plt"
   ]
  },
  {
   "cell_type": "code",
   "execution_count": 15,
   "id": "dcd605a5",
   "metadata": {},
   "outputs": [],
   "source": [
    "df = pd.read_csv('..\\datasets\\mouse.csv')"
   ]
  },
  {
   "cell_type": "code",
   "execution_count": 16,
   "id": "9947d879",
   "metadata": {},
   "outputs": [
    {
     "data": {
      "text/html": [
       "<div>\n",
       "<style scoped>\n",
       "    .dataframe tbody tr th:only-of-type {\n",
       "        vertical-align: middle;\n",
       "    }\n",
       "\n",
       "    .dataframe tbody tr th {\n",
       "        vertical-align: top;\n",
       "    }\n",
       "\n",
       "    .dataframe thead th {\n",
       "        text-align: right;\n",
       "    }\n",
       "</style>\n",
       "<table border=\"1\" class=\"dataframe\">\n",
       "  <thead>\n",
       "    <tr style=\"text-align: right;\">\n",
       "      <th></th>\n",
       "      <th>score</th>\n",
       "      <th>description</th>\n",
       "      <th>date</th>\n",
       "    </tr>\n",
       "  </thead>\n",
       "  <tbody>\n",
       "    <tr>\n",
       "      <th>0</th>\n",
       "      <td>1,0</td>\n",
       "      <td>O produto aparece usado...em baixo do aparelho...</td>\n",
       "      <td>13 de novembro de 2019</td>\n",
       "    </tr>\n",
       "    <tr>\n",
       "      <th>1</th>\n",
       "      <td>5,0</td>\n",
       "      <td>Mouse sem fio ótimo, sem delay, nano receptor ...</td>\n",
       "      <td>19 de agosto de 2019</td>\n",
       "    </tr>\n",
       "    <tr>\n",
       "      <th>2</th>\n",
       "      <td>3,0</td>\n",
       "      <td>A construção do mouse em si é boa, os clicks s...</td>\n",
       "      <td>15 de março de 2019</td>\n",
       "    </tr>\n",
       "    <tr>\n",
       "      <th>3</th>\n",
       "      <td>5,0</td>\n",
       "      <td>A mídia não pôde ser carregada.\\r\\n           ...</td>\n",
       "      <td>31 de julho de 2020</td>\n",
       "    </tr>\n",
       "    <tr>\n",
       "      <th>4</th>\n",
       "      <td>1,0</td>\n",
       "      <td>O mouse está em boas condições, funcionando be...</td>\n",
       "      <td>21 de junho de 2020</td>\n",
       "    </tr>\n",
       "  </tbody>\n",
       "</table>\n",
       "</div>"
      ],
      "text/plain": [
       "  score                                        description  \\\n",
       "0   1,0  O produto aparece usado...em baixo do aparelho...   \n",
       "1   5,0  Mouse sem fio ótimo, sem delay, nano receptor ...   \n",
       "2   3,0  A construção do mouse em si é boa, os clicks s...   \n",
       "3   5,0  A mídia não pôde ser carregada.\\r\\n           ...   \n",
       "4   1,0  O mouse está em boas condições, funcionando be...   \n",
       "\n",
       "                     date  \n",
       "0  13 de novembro de 2019  \n",
       "1    19 de agosto de 2019  \n",
       "2     15 de março de 2019  \n",
       "3     31 de julho de 2020  \n",
       "4     21 de junho de 2020  "
      ]
     },
     "execution_count": 16,
     "metadata": {},
     "output_type": "execute_result"
    }
   ],
   "source": [
    "df.head()"
   ]
  },
  {
   "cell_type": "markdown",
   "id": "03f5f608",
   "metadata": {},
   "source": [
    "# Pre-processing"
   ]
  },
  {
   "cell_type": "markdown",
   "id": "bea46fd5",
   "metadata": {},
   "source": [
    "### Contagem e remoção de dados nulos"
   ]
  },
  {
   "cell_type": "code",
   "execution_count": 17,
   "id": "c61f707d",
   "metadata": {},
   "outputs": [
    {
     "data": {
      "text/plain": [
       "score           0\n",
       "description    18\n",
       "date            0\n",
       "dtype: int64"
      ]
     },
     "execution_count": 17,
     "metadata": {},
     "output_type": "execute_result"
    }
   ],
   "source": [
    "df.isnull().sum()"
   ]
  },
  {
   "cell_type": "code",
   "execution_count": 18,
   "id": "475de4cb",
   "metadata": {},
   "outputs": [],
   "source": [
    "df.dropna(axis=0,inplace=True)"
   ]
  },
  {
   "cell_type": "markdown",
   "id": "ae61a610",
   "metadata": {},
   "source": [
    "### Definição das categorias"
   ]
  },
  {
   "cell_type": "code",
   "execution_count": 19,
   "id": "8fcf1a26",
   "metadata": {},
   "outputs": [],
   "source": [
    "def categoriza(dados):\n",
    "    scores = []\n",
    "    i = 0\n",
    "    for dado in dados:\n",
    "        if (dado == '1,0' or dado == '2,0'):\n",
    "            scores.append(0)  #avaliação ruim\n",
    "        if (dado =='3,0'):\n",
    "            scores.append(1)  #avaliação ruim        \n",
    "        if (dado == '4,0' or dado == '5,0'):\n",
    "            scores.append(2) #avaliação boa\n",
    "        i+=1\n",
    "    return(scores)"
   ]
  },
  {
   "cell_type": "code",
   "execution_count": 20,
   "id": "a00617d1",
   "metadata": {},
   "outputs": [],
   "source": [
    "df['score'] = categoriza(df['score'])"
   ]
  },
  {
   "cell_type": "code",
   "execution_count": 21,
   "id": "e0a3024c",
   "metadata": {},
   "outputs": [
    {
     "data": {
      "text/html": [
       "<div>\n",
       "<style scoped>\n",
       "    .dataframe tbody tr th:only-of-type {\n",
       "        vertical-align: middle;\n",
       "    }\n",
       "\n",
       "    .dataframe tbody tr th {\n",
       "        vertical-align: top;\n",
       "    }\n",
       "\n",
       "    .dataframe thead th {\n",
       "        text-align: right;\n",
       "    }\n",
       "</style>\n",
       "<table border=\"1\" class=\"dataframe\">\n",
       "  <thead>\n",
       "    <tr style=\"text-align: right;\">\n",
       "      <th></th>\n",
       "      <th>score</th>\n",
       "      <th>description</th>\n",
       "      <th>date</th>\n",
       "    </tr>\n",
       "  </thead>\n",
       "  <tbody>\n",
       "    <tr>\n",
       "      <th>0</th>\n",
       "      <td>0</td>\n",
       "      <td>O produto aparece usado...em baixo do aparelho...</td>\n",
       "      <td>13 de novembro de 2019</td>\n",
       "    </tr>\n",
       "    <tr>\n",
       "      <th>1</th>\n",
       "      <td>2</td>\n",
       "      <td>Mouse sem fio ótimo, sem delay, nano receptor ...</td>\n",
       "      <td>19 de agosto de 2019</td>\n",
       "    </tr>\n",
       "    <tr>\n",
       "      <th>2</th>\n",
       "      <td>1</td>\n",
       "      <td>A construção do mouse em si é boa, os clicks s...</td>\n",
       "      <td>15 de março de 2019</td>\n",
       "    </tr>\n",
       "    <tr>\n",
       "      <th>3</th>\n",
       "      <td>2</td>\n",
       "      <td>A mídia não pôde ser carregada.\\r\\n           ...</td>\n",
       "      <td>31 de julho de 2020</td>\n",
       "    </tr>\n",
       "    <tr>\n",
       "      <th>4</th>\n",
       "      <td>0</td>\n",
       "      <td>O mouse está em boas condições, funcionando be...</td>\n",
       "      <td>21 de junho de 2020</td>\n",
       "    </tr>\n",
       "    <tr>\n",
       "      <th>...</th>\n",
       "      <td>...</td>\n",
       "      <td>...</td>\n",
       "      <td>...</td>\n",
       "    </tr>\n",
       "    <tr>\n",
       "      <th>4812</th>\n",
       "      <td>2</td>\n",
       "      <td>A mídia não pôde ser carregada.</td>\n",
       "      <td>25 de março de 2022</td>\n",
       "    </tr>\n",
       "    <tr>\n",
       "      <th>4813</th>\n",
       "      <td>2</td>\n",
       "      <td>ele é um pouco pequeno, mas tem uma resposta r...</td>\n",
       "      <td>23 de março de 2022</td>\n",
       "    </tr>\n",
       "    <tr>\n",
       "      <th>4814</th>\n",
       "      <td>2</td>\n",
       "      <td>logitech né?! sem comentários, mouse maravilhoso</td>\n",
       "      <td>21 de março de 2022</td>\n",
       "    </tr>\n",
       "    <tr>\n",
       "      <th>4815</th>\n",
       "      <td>2</td>\n",
       "      <td>Muito bom e bonito</td>\n",
       "      <td>17 de janeiro de 2022</td>\n",
       "    </tr>\n",
       "    <tr>\n",
       "      <th>4816</th>\n",
       "      <td>2</td>\n",
       "      <td>Excelente aquisição por um preço ótimo!</td>\n",
       "      <td>26 de março de 2022</td>\n",
       "    </tr>\n",
       "  </tbody>\n",
       "</table>\n",
       "<p>4800 rows × 3 columns</p>\n",
       "</div>"
      ],
      "text/plain": [
       "      score                                        description  \\\n",
       "0         0  O produto aparece usado...em baixo do aparelho...   \n",
       "1         2  Mouse sem fio ótimo, sem delay, nano receptor ...   \n",
       "2         1  A construção do mouse em si é boa, os clicks s...   \n",
       "3         2  A mídia não pôde ser carregada.\\r\\n           ...   \n",
       "4         0  O mouse está em boas condições, funcionando be...   \n",
       "...     ...                                                ...   \n",
       "4812      2                    A mídia não pôde ser carregada.   \n",
       "4813      2  ele é um pouco pequeno, mas tem uma resposta r...   \n",
       "4814      2   logitech né?! sem comentários, mouse maravilhoso   \n",
       "4815      2                                 Muito bom e bonito   \n",
       "4816      2            Excelente aquisição por um preço ótimo!   \n",
       "\n",
       "                        date  \n",
       "0     13 de novembro de 2019  \n",
       "1       19 de agosto de 2019  \n",
       "2        15 de março de 2019  \n",
       "3        31 de julho de 2020  \n",
       "4        21 de junho de 2020  \n",
       "...                      ...  \n",
       "4812     25 de março de 2022  \n",
       "4813     23 de março de 2022  \n",
       "4814     21 de março de 2022  \n",
       "4815   17 de janeiro de 2022  \n",
       "4816     26 de março de 2022  \n",
       "\n",
       "[4800 rows x 3 columns]"
      ]
     },
     "execution_count": 21,
     "metadata": {},
     "output_type": "execute_result"
    }
   ],
   "source": [
    "df"
   ]
  },
  {
   "cell_type": "markdown",
   "id": "f890418a",
   "metadata": {},
   "source": [
    "### Divisão dos dados"
   ]
  },
  {
   "cell_type": "code",
   "execution_count": 22,
   "id": "c33dc542",
   "metadata": {},
   "outputs": [],
   "source": [
    "y = df['score']\n",
    "x = df.iloc[:,1]\n",
    "\n",
    "#divisão do treino e teste\n",
    "\n",
    "X_train, X_test, y_train, y_test = train_test_split(x, y, test_size=0.2, random_state=42,stratify=y)"
   ]
  },
  {
   "cell_type": "code",
   "execution_count": 23,
   "id": "c7adc843",
   "metadata": {},
   "outputs": [
    {
     "data": {
      "text/plain": [
       "2    3634\n",
       "0     137\n",
       "1      69\n",
       "Name: score, dtype: int64"
      ]
     },
     "execution_count": 23,
     "metadata": {},
     "output_type": "execute_result"
    }
   ],
   "source": [
    "y_train.value_counts()"
   ]
  },
  {
   "cell_type": "code",
   "execution_count": 24,
   "id": "dc3e2b17",
   "metadata": {},
   "outputs": [
    {
     "data": {
      "text/plain": [
       "2    908\n",
       "0     34\n",
       "1     18\n",
       "Name: score, dtype: int64"
      ]
     },
     "execution_count": 24,
     "metadata": {},
     "output_type": "execute_result"
    }
   ],
   "source": [
    "y_test.value_counts()"
   ]
  },
  {
   "cell_type": "markdown",
   "id": "f06aa0b1",
   "metadata": {},
   "source": [
    "### Resolvendo o desbalanceamento dos dados de treino"
   ]
  },
  {
   "cell_type": "code",
   "execution_count": 25,
   "id": "67fa6488",
   "metadata": {},
   "outputs": [],
   "source": [
    "from imblearn.over_sampling import RandomOverSampler"
   ]
  },
  {
   "cell_type": "code",
   "execution_count": 26,
   "id": "c9ed1757",
   "metadata": {},
   "outputs": [],
   "source": [
    "ros = RandomOverSampler(random_state=42)\n",
    "X_resampled, y_resampled = ros.fit_resample(np.array(X_train).reshape(-1, 1), np.array(y_train).reshape(-1, 1))"
   ]
  },
  {
   "cell_type": "code",
   "execution_count": 27,
   "id": "88cd10b2",
   "metadata": {
    "scrolled": false
   },
   "outputs": [
    {
     "name": "stdout",
     "output_type": "stream",
     "text": [
      "(10902, 1)\n",
      "(10902,)\n",
      "\n",
      " 0    3634\n",
      "1    3634\n",
      "2    3634\n",
      "dtype: int64\n"
     ]
    }
   ],
   "source": [
    "print(X_resampled.shape)\n",
    "print(y_resampled.shape)\n",
    "print('\\n',pd.DataFrame(y_resampled).value_counts())"
   ]
  },
  {
   "cell_type": "code",
   "execution_count": 28,
   "id": "bb3b3987",
   "metadata": {},
   "outputs": [],
   "source": [
    "X_train , y_train = pd.DataFrame(X_resampled), y_resampled"
   ]
  },
  {
   "cell_type": "code",
   "execution_count": 29,
   "id": "e83daeb0",
   "metadata": {},
   "outputs": [],
   "source": [
    "X_train = np.array(X_train[0])"
   ]
  },
  {
   "cell_type": "code",
   "execution_count": 38,
   "id": "e9c05313",
   "metadata": {},
   "outputs": [],
   "source": [
    "pd.DataFrame(X_train).to_csv('../datasets/x_treino_bal.csv')\n",
    "pd.DataFrame(y_train).to_csv('../datasets/y_treino_bal.csv')"
   ]
  },
  {
   "cell_type": "markdown",
   "id": "ef71d289",
   "metadata": {},
   "source": [
    "### Tokenização"
   ]
  },
  {
   "cell_type": "code",
   "execution_count": 39,
   "id": "1bd971c1",
   "metadata": {},
   "outputs": [],
   "source": [
    "def tokenizador(data):\n",
    "    ls = []\n",
    "\n",
    "    for line in data:\n",
    "        tokens = wordpunct_tokenize(line)\n",
    "        ls.append(tokens)\n",
    "\n",
    "    return ls"
   ]
  },
  {
   "cell_type": "code",
   "execution_count": 40,
   "id": "21af4d15",
   "metadata": {},
   "outputs": [],
   "source": [
    "X_train = tokenizador(X_train)\n",
    "X_test = tokenizador(X_test)"
   ]
  },
  {
   "cell_type": "markdown",
   "id": "a011f201",
   "metadata": {},
   "source": [
    "### Padronização de algumas escritas"
   ]
  },
  {
   "cell_type": "code",
   "execution_count": 41,
   "id": "9884efd2",
   "metadata": {},
   "outputs": [],
   "source": [
    "def padroniza_caracteres(tokens, std_list):\n",
    "    ls = []\n",
    "\n",
    "    for tk_line in tokens:\n",
    "        new_tokens = []\n",
    "        \n",
    "        for word in tk_line:\n",
    "            if word.lower() in std_list:\n",
    "                word = std_list[word.lower()]\n",
    "                \n",
    "            new_tokens.append(word) \n",
    "            \n",
    "        ls.append(new_tokens)\n",
    "\n",
    "    return ls"
   ]
  },
  {
   "cell_type": "code",
   "execution_count": 42,
   "id": "af12c095",
   "metadata": {},
   "outputs": [],
   "source": [
    "std_list = {'eh': 'é', 'vc': 'você', 'vcs': 'vocês','tb': 'também', 'tbm': 'também',\n",
    "            'obg': 'obrigado', 'gnt': 'gente', 'q': 'que', 'n': 'não', 'cmg': 'comigo',\n",
    "            'p': 'para', 'ta': 'está', 'to': 'estou', 'vdd': 'verdade'}"
   ]
  },
  {
   "cell_type": "code",
   "execution_count": 43,
   "id": "649c1340",
   "metadata": {},
   "outputs": [],
   "source": [
    "X_train = padroniza_caracteres(X_train,std_list)\n",
    "X_test = padroniza_caracteres(X_test,std_list)"
   ]
  },
  {
   "cell_type": "markdown",
   "id": "d735cce2",
   "metadata": {},
   "source": [
    "### Remoção de stop words"
   ]
  },
  {
   "cell_type": "code",
   "execution_count": 44,
   "id": "5652073d",
   "metadata": {},
   "outputs": [
    {
     "name": "stderr",
     "output_type": "stream",
     "text": [
      "[nltk_data] Downloading package stopwords to\n",
      "[nltk_data]     C:\\Users\\efvs\\AppData\\Roaming\\nltk_data...\n",
      "[nltk_data]   Package stopwords is already up-to-date!\n"
     ]
    },
    {
     "data": {
      "text/plain": [
       "True"
      ]
     },
     "execution_count": 44,
     "metadata": {},
     "output_type": "execute_result"
    }
   ],
   "source": [
    "nltk.download('stopwords')"
   ]
  },
  {
   "cell_type": "code",
   "execution_count": 45,
   "id": "b5c9a5a4",
   "metadata": {},
   "outputs": [],
   "source": [
    "nltk_stopwords = nltk.corpus.stopwords.words('portuguese')"
   ]
  },
  {
   "cell_type": "code",
   "execution_count": 46,
   "id": "197bd621",
   "metadata": {},
   "outputs": [],
   "source": [
    "pontos = ['!','.',',',':',';']\n",
    "\n",
    "for sinal in pontos:\n",
    "    nltk_stopwords.append(sinal)"
   ]
  },
  {
   "cell_type": "code",
   "execution_count": 47,
   "id": "9c7b52cb",
   "metadata": {},
   "outputs": [
    {
     "data": {
      "text/plain": [
       "['de',\n",
       " 'a',\n",
       " 'o',\n",
       " 'que',\n",
       " 'e',\n",
       " 'é',\n",
       " 'do',\n",
       " 'da',\n",
       " 'em',\n",
       " 'um',\n",
       " 'para',\n",
       " 'com',\n",
       " 'não',\n",
       " 'uma',\n",
       " 'os',\n",
       " 'no',\n",
       " 'se',\n",
       " 'na',\n",
       " 'por',\n",
       " 'mais',\n",
       " 'as',\n",
       " 'dos',\n",
       " 'como',\n",
       " 'mas',\n",
       " 'ao',\n",
       " 'ele',\n",
       " 'das',\n",
       " 'à',\n",
       " 'seu',\n",
       " 'sua',\n",
       " 'ou',\n",
       " 'quando',\n",
       " 'muito',\n",
       " 'nos',\n",
       " 'já',\n",
       " 'eu',\n",
       " 'também',\n",
       " 'só',\n",
       " 'pelo',\n",
       " 'pela',\n",
       " 'até',\n",
       " 'isso',\n",
       " 'ela',\n",
       " 'entre',\n",
       " 'depois',\n",
       " 'sem',\n",
       " 'mesmo',\n",
       " 'aos',\n",
       " 'seus',\n",
       " 'quem',\n",
       " 'nas',\n",
       " 'me',\n",
       " 'esse',\n",
       " 'eles',\n",
       " 'você',\n",
       " 'essa',\n",
       " 'num',\n",
       " 'nem',\n",
       " 'suas',\n",
       " 'meu',\n",
       " 'às',\n",
       " 'minha',\n",
       " 'numa',\n",
       " 'pelos',\n",
       " 'elas',\n",
       " 'qual',\n",
       " 'nós',\n",
       " 'lhe',\n",
       " 'deles',\n",
       " 'essas',\n",
       " 'esses',\n",
       " 'pelas',\n",
       " 'este',\n",
       " 'dele',\n",
       " 'tu',\n",
       " 'te',\n",
       " 'vocês',\n",
       " 'vos',\n",
       " 'lhes',\n",
       " 'meus',\n",
       " 'minhas',\n",
       " 'teu',\n",
       " 'tua',\n",
       " 'teus',\n",
       " 'tuas',\n",
       " 'nosso',\n",
       " 'nossa',\n",
       " 'nossos',\n",
       " 'nossas',\n",
       " 'dela',\n",
       " 'delas',\n",
       " 'esta',\n",
       " 'estes',\n",
       " 'estas',\n",
       " 'aquele',\n",
       " 'aquela',\n",
       " 'aqueles',\n",
       " 'aquelas',\n",
       " 'isto',\n",
       " 'aquilo',\n",
       " 'estou',\n",
       " 'está',\n",
       " 'estamos',\n",
       " 'estão',\n",
       " 'estive',\n",
       " 'esteve',\n",
       " 'estivemos',\n",
       " 'estiveram',\n",
       " 'estava',\n",
       " 'estávamos',\n",
       " 'estavam',\n",
       " 'estivera',\n",
       " 'estivéramos',\n",
       " 'esteja',\n",
       " 'estejamos',\n",
       " 'estejam',\n",
       " 'estivesse',\n",
       " 'estivéssemos',\n",
       " 'estivessem',\n",
       " 'estiver',\n",
       " 'estivermos',\n",
       " 'estiverem',\n",
       " 'hei',\n",
       " 'há',\n",
       " 'havemos',\n",
       " 'hão',\n",
       " 'houve',\n",
       " 'houvemos',\n",
       " 'houveram',\n",
       " 'houvera',\n",
       " 'houvéramos',\n",
       " 'haja',\n",
       " 'hajamos',\n",
       " 'hajam',\n",
       " 'houvesse',\n",
       " 'houvéssemos',\n",
       " 'houvessem',\n",
       " 'houver',\n",
       " 'houvermos',\n",
       " 'houverem',\n",
       " 'houverei',\n",
       " 'houverá',\n",
       " 'houveremos',\n",
       " 'houverão',\n",
       " 'houveria',\n",
       " 'houveríamos',\n",
       " 'houveriam',\n",
       " 'sou',\n",
       " 'somos',\n",
       " 'são',\n",
       " 'era',\n",
       " 'éramos',\n",
       " 'eram',\n",
       " 'fui',\n",
       " 'foi',\n",
       " 'fomos',\n",
       " 'foram',\n",
       " 'fora',\n",
       " 'fôramos',\n",
       " 'seja',\n",
       " 'sejamos',\n",
       " 'sejam',\n",
       " 'fosse',\n",
       " 'fôssemos',\n",
       " 'fossem',\n",
       " 'for',\n",
       " 'formos',\n",
       " 'forem',\n",
       " 'serei',\n",
       " 'será',\n",
       " 'seremos',\n",
       " 'serão',\n",
       " 'seria',\n",
       " 'seríamos',\n",
       " 'seriam',\n",
       " 'tenho',\n",
       " 'tem',\n",
       " 'temos',\n",
       " 'tém',\n",
       " 'tinha',\n",
       " 'tínhamos',\n",
       " 'tinham',\n",
       " 'tive',\n",
       " 'teve',\n",
       " 'tivemos',\n",
       " 'tiveram',\n",
       " 'tivera',\n",
       " 'tivéramos',\n",
       " 'tenha',\n",
       " 'tenhamos',\n",
       " 'tenham',\n",
       " 'tivesse',\n",
       " 'tivéssemos',\n",
       " 'tivessem',\n",
       " 'tiver',\n",
       " 'tivermos',\n",
       " 'tiverem',\n",
       " 'terei',\n",
       " 'terá',\n",
       " 'teremos',\n",
       " 'terão',\n",
       " 'teria',\n",
       " 'teríamos',\n",
       " 'teriam',\n",
       " '!',\n",
       " '.',\n",
       " ',',\n",
       " ':',\n",
       " ';']"
      ]
     },
     "execution_count": 47,
     "metadata": {},
     "output_type": "execute_result"
    }
   ],
   "source": [
    "nltk_stopwords"
   ]
  },
  {
   "cell_type": "code",
   "execution_count": 48,
   "id": "20019d5b",
   "metadata": {},
   "outputs": [],
   "source": [
    "def removedor_stopwords(tokens, stopword_list):\n",
    "    ls = []\n",
    "\n",
    "    for tk_line in tokens:\n",
    "        new_tokens = []\n",
    "        \n",
    "        for word in tk_line:\n",
    "            if word.lower() not in stopword_list:\n",
    "                new_tokens.append(word) \n",
    "            \n",
    "        ls.append(new_tokens)\n",
    "        \n",
    "    return ls"
   ]
  },
  {
   "cell_type": "code",
   "execution_count": 49,
   "id": "d9c83175",
   "metadata": {},
   "outputs": [],
   "source": [
    "X_train = removedor_stopwords(X_train, nltk_stopwords)\n",
    "X_test = removedor_stopwords(X_test, nltk_stopwords)"
   ]
  },
  {
   "cell_type": "markdown",
   "id": "0781ff35",
   "metadata": {},
   "source": [
    "# Stemmer"
   ]
  },
  {
   "cell_type": "code",
   "execution_count": 165,
   "id": "824947a2",
   "metadata": {},
   "outputs": [
    {
     "name": "stderr",
     "output_type": "stream",
     "text": [
      "[nltk_data] Downloading package rslp to\n",
      "[nltk_data]     C:\\Users\\efvs\\AppData\\Roaming\\nltk_data...\n",
      "[nltk_data]   Package rslp is already up-to-date!\n"
     ]
    },
    {
     "data": {
      "text/plain": [
       "True"
      ]
     },
     "execution_count": 165,
     "metadata": {},
     "output_type": "execute_result"
    }
   ],
   "source": [
    "import nltk\n",
    "nltk.download('rslp')"
   ]
  },
  {
   "cell_type": "code",
   "execution_count": 51,
   "id": "86d46cdd",
   "metadata": {},
   "outputs": [],
   "source": [
    "def aplica_stemmer(tokens):\n",
    "    ls = []\n",
    "    stemmer = nltk.stem.RSLPStemmer()\n",
    "\n",
    "    for tk_line in tokens:\n",
    "        new_tokens = []\n",
    "        \n",
    "        for word in tk_line:\n",
    "            word = str(stemmer.stem(word))\n",
    "            new_tokens.append(word) \n",
    "            \n",
    "        ls.append(new_tokens)\n",
    "        \n",
    "    return ls"
   ]
  },
  {
   "cell_type": "code",
   "execution_count": 52,
   "id": "a07fcf6c",
   "metadata": {},
   "outputs": [],
   "source": [
    "X_train_stem = aplica_stemmer(X_train)\n",
    "X_test_stem = aplica_stemmer(X_test)"
   ]
  },
  {
   "cell_type": "markdown",
   "id": "e90cc362",
   "metadata": {},
   "source": [
    "### Visualizações iniciais"
   ]
  },
  {
   "cell_type": "code",
   "execution_count": 53,
   "id": "0ee5330c",
   "metadata": {},
   "outputs": [],
   "source": [
    "def texto_para_cloud(tokens):\n",
    "    text = ''\n",
    "\n",
    "    for tk_line in tokens:\n",
    "        new_tokens = []\n",
    "        \n",
    "        for word in tk_line:\n",
    "            text += word + ' '\n",
    "        \n",
    "    return text"
   ]
  },
  {
   "cell_type": "code",
   "execution_count": 54,
   "id": "79e81cc6",
   "metadata": {},
   "outputs": [],
   "source": [
    "x2=tokenizador(x)"
   ]
  },
  {
   "cell_type": "code",
   "execution_count": 55,
   "id": "ff93e4ff",
   "metadata": {},
   "outputs": [
    {
     "data": {
      "image/png": "[encoded data removed]",
      "text/plain": [
       "<Figure size 1152x648 with 1 Axes>"
      ]
     },
     "metadata": {
      "needs_background": "light"
     },
     "output_type": "display_data"
    }
   ],
   "source": [
    "text_cloud = texto_para_cloud(random.sample(x2, 3000))\n",
    "\n",
    "word_cloud = WordCloud(max_font_size = 100, width = 1520, height = 535)\n",
    "word_cloud.generate(text_cloud)\n",
    "plt.figure(figsize = (16, 9))\n",
    "plt.imshow(word_cloud)\n",
    "plt.axis('off')\n",
    "plt.show()"
   ]
  },
  {
   "cell_type": "markdown",
   "id": "cc4bf774",
   "metadata": {},
   "source": [
    "### Frequencias"
   ]
  },
  {
   "cell_type": "code",
   "execution_count": 56,
   "id": "f09effd9",
   "metadata": {},
   "outputs": [],
   "source": [
    "def pega_freq(tokens):\n",
    "    ls = []\n",
    "\n",
    "    for tk_line in tokens:\n",
    "        for word in tk_line:\n",
    "            ls.append(word)\n",
    "\n",
    "    return ls"
   ]
  },
  {
   "cell_type": "code",
   "execution_count": 57,
   "id": "4d0e408d",
   "metadata": {},
   "outputs": [
    {
     "name": "stdout",
     "output_type": "stream",
     "text": [
      "<FreqDist with 2288 samples and 162845 outcomes>\n",
      "[('mous', 6590), ('produt', 3720), ('compr', 2802), ('bom', 2415), ('uso', 2387), ('bem', 1876), ('precis', 1754), ('funcion', 1685), ('vei', 1415), ('func', 1318), ('marc', 1264), ('dia', 1262), ('pilh', 1238), ('mes', 1189), ('problem', 1178), ('us', 1161), ('gost', 1151), ('rol', 1067), ('pouc', 1052), ('pra', 1039), ('ótim', 998), ('scroll', 991), ('(', 990), ('defeit', 988), ('outr', 950)] \n",
      "\n"
     ]
    }
   ],
   "source": [
    "# Frequency Distribution on training dataset\n",
    "fd_list = pega_freq(X_train_stem)\n",
    "fdist = FreqDist(fd_list)\n",
    "print(fdist)\n",
    "\n",
    "# most common words\n",
    "most_common = fdist.most_common(25)\n",
    "print(most_common,'\\n')"
   ]
  },
  {
   "cell_type": "code",
   "execution_count": 58,
   "id": "a98081fd",
   "metadata": {},
   "outputs": [
    {
     "name": "stdout",
     "output_type": "stream",
     "text": [
      "['rt', 'gratific', 'aloj', 'ergônom', 'dhl', 'facíl', 'aaaa', 'daí', 'lasq', 'beste', 'recompens', '.,', 'ninguém', 'minuscul', 'típic', 'desemprenh', 'afim', 'tem', 'curvat', 'reflet', 'necessari', 'nan', 'seleç', 'honr', 'vlw', 'ultim', 'empenh', 'cãibr', 'crianç', 'net']\n"
     ]
    }
   ],
   "source": [
    "most_uncommon = fdist.hapaxes()\n",
    "print(most_uncommon[0:30])"
   ]
  },
  {
   "cell_type": "code",
   "execution_count": 59,
   "id": "2b592065",
   "metadata": {},
   "outputs": [
    {
     "data": {
      "image/png": "[encoded data removed]",
      "text/plain": [
       "<Figure size 432x288 with 1 Axes>"
      ]
     },
     "metadata": {
      "needs_background": "light"
     },
     "output_type": "display_data"
    }
   ],
   "source": [
    "# print most common words\n",
    "series = pd.Series(data=[v for k, v in most_common], index=[k for k, v in most_common], name='')\n",
    "ax = series.plot(kind='bar', title='Frequency Distribution')\n",
    "ax.set_xlabel('Palavra')\n",
    "ax.set_ylabel('Contagem')\n",
    "plt.show()"
   ]
  },
  {
   "cell_type": "markdown",
   "id": "96df1266",
   "metadata": {},
   "source": [
    "# Destransformando\n",
    "- Após o tratamento dos dados, com o uso do nltk, voltaremos os mesmos para o formato inicial, de string"
   ]
  },
  {
   "cell_type": "code",
   "execution_count": 60,
   "id": "d0f3c0a1",
   "metadata": {},
   "outputs": [],
   "source": [
    "def _untokenize_text(tokens):\n",
    "    ls = []\n",
    "\n",
    "    for tk_line in tokens:\n",
    "        new_line = ''\n",
    "        \n",
    "        for word in tk_line:\n",
    "            new_line += word + ' '\n",
    "            \n",
    "        ls.append(new_line)\n",
    "        \n",
    "    return ls"
   ]
  },
  {
   "cell_type": "code",
   "execution_count": 61,
   "id": "5f1b5f3b",
   "metadata": {},
   "outputs": [],
   "source": [
    "X_train = _untokenize_text(X_train)\n",
    "X_test = _untokenize_text(X_test)"
   ]
  },
  {
   "cell_type": "code",
   "execution_count": 64,
   "id": "7d44c9b9",
   "metadata": {},
   "outputs": [],
   "source": [
    "pd.DataFrame(X_train).to_csv('../datasets/x_treino_bal_tratado.csv')\n",
    "pd.DataFrame(X_test).to_csv('../datasets/x_test_bal_tratado.csv')"
   ]
  },
  {
   "cell_type": "code",
   "execution_count": 62,
   "id": "60cc9ca7",
   "metadata": {},
   "outputs": [],
   "source": [
    "X_train_stem = _untokenize_text(X_train_stem)\n",
    "X_test_stem = _untokenize_text(X_test_stem)"
   ]
  },
  {
   "cell_type": "code",
   "execution_count": 65,
   "id": "909076b2",
   "metadata": {},
   "outputs": [],
   "source": [
    "pd.DataFrame(X_train_stem).to_csv('../datasets/x_treino_bal_tratado_stem.csv')\n",
    "pd.DataFrame(X_test_stem).to_csv('../datasets/x_test_bal_tratado_stem.csv')"
   ]
  },
  {
   "cell_type": "markdown",
   "id": "3a9bb2b4",
   "metadata": {},
   "source": [
    "## Baseline - Bag of words/Naive Bayes"
   ]
  },
  {
   "cell_type": "code",
   "execution_count": 178,
   "id": "f5335121",
   "metadata": {},
   "outputs": [],
   "source": [
    "vetores = CountVectorizer()\n",
    "#vetores2 = CountVectorizer()"
   ]
  },
  {
   "cell_type": "code",
   "execution_count": 179,
   "id": "8031217b",
   "metadata": {
    "scrolled": true
   },
   "outputs": [],
   "source": [
    "X_train = vetores.fit_transform(X_train)\n",
    "X_train = X_train.toarray()"
   ]
  },
  {
   "cell_type": "code",
   "execution_count": 180,
   "id": "a6c996da",
   "metadata": {},
   "outputs": [
    {
     "name": "stdout",
     "output_type": "stream",
     "text": [
      "(10902, 3736)\n",
      "(960, 3736)\n"
     ]
    }
   ],
   "source": [
    "X_test = vetores.transform(X_test)\n",
    "X_test =  X_test.toarray()\n",
    "\n",
    "print(X_train.shape)\n",
    "print(X_test.shape)"
   ]
  },
  {
   "cell_type": "code",
   "execution_count": 181,
   "id": "fd17e8ca",
   "metadata": {},
   "outputs": [
    {
     "name": "stdout",
     "output_type": "stream",
     "text": [
      "(10902, 3736)\n",
      "(960, 3736)\n"
     ]
    }
   ],
   "source": [
    "print(X_train.shape)\n",
    "print(X_test.shape)"
   ]
  },
  {
   "cell_type": "code",
   "execution_count": 182,
   "id": "19bb954b",
   "metadata": {},
   "outputs": [
    {
     "data": {
      "text/plain": [
       "MultinomialNB()"
      ]
     },
     "execution_count": 182,
     "metadata": {},
     "output_type": "execute_result"
    }
   ],
   "source": [
    "modelo_1 = MultinomialNB()\n",
    "modelo_1.fit(X_train,y_train)"
   ]
  },
  {
   "cell_type": "code",
   "execution_count": 183,
   "id": "1d963ffc",
   "metadata": {},
   "outputs": [],
   "source": [
    "predict = modelo_1.predict(X_test)"
   ]
  },
  {
   "cell_type": "code",
   "execution_count": 184,
   "id": "2a8d3225",
   "metadata": {},
   "outputs": [
    {
     "data": {
      "text/plain": [
       "0.9229166666666667"
      ]
     },
     "execution_count": 184,
     "metadata": {},
     "output_type": "execute_result"
    }
   ],
   "source": [
    "metrics.accuracy_score(predict, y_test)"
   ]
  },
  {
   "cell_type": "code",
   "execution_count": 185,
   "id": "a1a7f6fb",
   "metadata": {},
   "outputs": [],
   "source": [
    "test = ['Melhor mouse do brasil',\n",
    "       'Péssimo mouse horrivel',\n",
    "       'mais ou menos, mas dá pra usar',\n",
    "       'compensa, entrega o que promete, mas nada muito além disso']"
   ]
  },
  {
   "cell_type": "code",
   "execution_count": 186,
   "id": "21d66ffe",
   "metadata": {},
   "outputs": [],
   "source": [
    "test = tokenizador(test)\n",
    "test = padroniza_caracteres(test, std_list)\n",
    "test = removedor_stopwords(test,nltk_stopwords)\n",
    "test = _untokenize_text(test)"
   ]
  },
  {
   "cell_type": "code",
   "execution_count": 187,
   "id": "9ab077db",
   "metadata": {},
   "outputs": [],
   "source": [
    "vetor_test = vetores.transform(test)\n",
    "vetor_test = vetor_test.toarray()"
   ]
  },
  {
   "cell_type": "code",
   "execution_count": 188,
   "id": "e4cbe0d4",
   "metadata": {},
   "outputs": [
    {
     "data": {
      "text/plain": [
       "(4, 3736)"
      ]
     },
     "execution_count": 188,
     "metadata": {},
     "output_type": "execute_result"
    }
   ],
   "source": [
    "vetor_test.shape"
   ]
  },
  {
   "cell_type": "code",
   "execution_count": 189,
   "id": "4f39ea3b",
   "metadata": {},
   "outputs": [
    {
     "data": {
      "text/plain": [
       "array([2, 0, 0, 2], dtype=int64)"
      ]
     },
     "execution_count": 189,
     "metadata": {},
     "output_type": "execute_result"
    }
   ],
   "source": [
    "modelo_1.predict(vetor_test)"
   ]
  },
  {
   "cell_type": "code",
   "execution_count": 190,
   "id": "b876d03e",
   "metadata": {},
   "outputs": [
    {
     "name": "stdout",
     "output_type": "stream",
     "text": [
      "              precision    recall  f1-score   support\n",
      "\n",
      "           0       0.46      0.53      0.49        34\n",
      "           1       0.07      0.11      0.09        18\n",
      "           2       0.97      0.95      0.96       908\n",
      "\n",
      "    accuracy                           0.92       960\n",
      "   macro avg       0.50      0.53      0.51       960\n",
      "weighted avg       0.94      0.92      0.93       960\n",
      "\n"
     ]
    }
   ],
   "source": [
    "print(metrics.classification_report(y_test,predict))"
   ]
  },
  {
   "cell_type": "code",
   "execution_count": 191,
   "id": "5ed95307",
   "metadata": {},
   "outputs": [],
   "source": [
    "resultados = cross_val_score(modelo_1, X_train, y_train, cv = 10)"
   ]
  },
  {
   "cell_type": "code",
   "execution_count": 192,
   "id": "e51a803f",
   "metadata": {
    "scrolled": true
   },
   "outputs": [
    {
     "name": "stdout",
     "output_type": "stream",
     "text": [
      "[0.96700275 0.9532539  0.95504587 0.96146789 0.96238532 0.95137615\n",
      " 0.9559633  0.95779817 0.95137615 0.96238532]\n"
     ]
    }
   ],
   "source": [
    "print(resultados)"
   ]
  },
  {
   "cell_type": "markdown",
   "id": "f1957fc3",
   "metadata": {},
   "source": [
    "## Random Forest"
   ]
  },
  {
   "cell_type": "code",
   "execution_count": 193,
   "id": "527b0728",
   "metadata": {},
   "outputs": [],
   "source": [
    "from sklearn.ensemble import RandomForestClassifier\n",
    "#finetuning\n",
    "from sklearn.model_selection import StratifiedKFold, cross_val_score, train_test_split\n",
    "from sklearn.metrics import classification_report, ConfusionMatrixDisplay, precision_score\n",
    "from imblearn.pipeline import Pipeline\n",
    "from sklearn.ensemble import RandomForestClassifier\n",
    "from tqdm import tqdm \n",
    "from itertools import product\n",
    "\n",
    "forest = RandomForestClassifier()"
   ]
  },
  {
   "cell_type": "markdown",
   "id": "9d6c39b6",
   "metadata": {},
   "source": [
    "<b> `Fine Tuning`"
   ]
  },
  {
   "cell_type": "code",
   "execution_count": 194,
   "id": "3028650b",
   "metadata": {},
   "outputs": [],
   "source": [
    "def search_cross_valid(search_space, X_train, y_train, SEED=42):\n",
    "    scores_test, scores_valid, params = [], [], []\n",
    "\n",
    "    for n_est, crt, max_f in tqdm(search_space, desc=\"Treinamento: \"):\n",
    "        model = RandomForestClassifier(n_estimators=n_est, criterion=crt, max_features=max_f, random_state=SEED)\n",
    "\n",
    "        cv = StratifiedKFold(n_splits=10, random_state=SEED, shuffle=True)\n",
    "\n",
    "        steps = [('model', model)]\n",
    "        pipeline = Pipeline(steps=steps)\n",
    "\n",
    "        scores = cross_val_score(pipeline, X_train, y_train, scoring='f1_micro', cv=cv, n_jobs=-1)\n",
    "        \n",
    "        model.fit(X_train, y_train)\n",
    "        score_test = precision_score(y_test, model.predict(X_test), average=\"micro\")\n",
    "        \n",
    "        print('Mean f1: %.3f' % np.mean(scores))\n",
    "        print('Accuracy test: %.3f' % score_test)\n",
    "\n",
    "        parm = dict(n_estimators=n_est, criterion=crt, max_features=max_f)\n",
    "\n",
    "        print(\"Parameters: \", parm)\n",
    "        print(\"Score of validation: \", np.mean(scores))\n",
    "\n",
    "        scores_valid.append(np.mean(scores))\n",
    "        scores_test.append(score_test)\n",
    "        params.append(parm)\n",
    "\n",
    "    zipped_results = zip(scores_test, scores_valid, params)\n",
    "    best_result =  max(zipped_results, key = lambda res: res[1])\n",
    "    best_score_test, best_score_valid, best_params = best_result\n",
    "\n",
    "    print('------------------------------')\n",
    "    print(\"Best parameters: \", best_params)\n",
    "    print(\"Best validation score: \", best_score_valid)\n",
    "    print(\"Best validation score: \", best_score_test)\n",
    "    \n",
    "    return scores_test, best_score_test, scores_valid, best_score_valid, params, best_params"
   ]
  },
  {
   "cell_type": "code",
   "execution_count": 195,
   "id": "8c4180f3",
   "metadata": {},
   "outputs": [],
   "source": [
    "n_estimators = list(range(100, 400, 50))\n",
    "criterions = [\"gini\", \"entropy\"]\n",
    "max_features = [\"sqrt\", \"auto\", \"log2\"]\n",
    "\n",
    "search_space = tuple(product(n_estimators, criterions, max_features))"
   ]
  },
  {
   "cell_type": "code",
   "execution_count": 196,
   "id": "621c22cb",
   "metadata": {
    "scrolled": true
   },
   "outputs": [
    {
     "name": "stderr",
     "output_type": "stream",
     "text": [
      "Treinamento:   3%|█▉                                                                    | 1/36 [01:20<46:54, 80.40s/it]"
     ]
    },
    {
     "name": "stdout",
     "output_type": "stream",
     "text": [
      "Mean f1: 0.989\n",
      "Accuracy test: 0.949\n",
      "Parameters:  {'n_estimators': 100, 'criterion': 'gini', 'max_features': 'sqrt'}\n",
      "Score of validation:  0.989267989135462\n"
     ]
    },
    {
     "name": "stderr",
     "output_type": "stream",
     "text": [
      "\r",
      "Treinamento:   6%|███▉                                                                  | 2/36 [02:40<45:25, 80.15s/it]"
     ]
    },
    {
     "name": "stdout",
     "output_type": "stream",
     "text": [
      "Mean f1: 0.989\n",
      "Accuracy test: 0.949\n",
      "Parameters:  {'n_estimators': 100, 'criterion': 'gini', 'max_features': 'auto'}\n",
      "Score of validation:  0.989267989135462\n"
     ]
    },
    {
     "name": "stderr",
     "output_type": "stream",
     "text": [
      "\r",
      "Treinamento:   8%|█████▊                                                                | 3/36 [03:21<34:15, 62.28s/it]"
     ]
    },
    {
     "name": "stdout",
     "output_type": "stream",
     "text": [
      "Mean f1: 0.990\n",
      "Accuracy test: 0.953\n",
      "Parameters:  {'n_estimators': 100, 'criterion': 'gini', 'max_features': 'log2'}\n",
      "Score of validation:  0.990276995265685\n"
     ]
    },
    {
     "name": "stderr",
     "output_type": "stream",
     "text": [
      "\r",
      "Treinamento:  11%|███████▊                                                              | 4/36 [04:41<37:01, 69.42s/it]"
     ]
    },
    {
     "name": "stdout",
     "output_type": "stream",
     "text": [
      "Mean f1: 0.989\n",
      "Accuracy test: 0.951\n",
      "Parameters:  {'n_estimators': 100, 'criterion': 'entropy', 'max_features': 'sqrt'}\n",
      "Score of validation:  0.9889927597776638\n"
     ]
    },
    {
     "name": "stderr",
     "output_type": "stream",
     "text": [
      "\r",
      "Treinamento:  14%|█████████▋                                                            | 5/36 [06:03<38:05, 73.72s/it]"
     ]
    },
    {
     "name": "stdout",
     "output_type": "stream",
     "text": [
      "Mean f1: 0.989\n",
      "Accuracy test: 0.951\n",
      "Parameters:  {'n_estimators': 100, 'criterion': 'entropy', 'max_features': 'auto'}\n",
      "Score of validation:  0.9889927597776638\n"
     ]
    },
    {
     "name": "stderr",
     "output_type": "stream",
     "text": [
      "\r",
      "Treinamento:  17%|███████████▋                                                          | 6/36 [06:39<30:35, 61.18s/it]"
     ]
    },
    {
     "name": "stdout",
     "output_type": "stream",
     "text": [
      "Mean f1: 0.990\n",
      "Accuracy test: 0.952\n",
      "Parameters:  {'n_estimators': 100, 'criterion': 'entropy', 'max_features': 'log2'}\n",
      "Score of validation:  0.9904604815042172\n"
     ]
    },
    {
     "name": "stderr",
     "output_type": "stream",
     "text": [
      "\r",
      "Treinamento:  19%|█████████████▌                                                        | 7/36 [08:41<39:10, 81.07s/it]"
     ]
    },
    {
     "name": "stdout",
     "output_type": "stream",
     "text": [
      "Mean f1: 0.989\n",
      "Accuracy test: 0.951\n",
      "Parameters:  {'n_estimators': 150, 'criterion': 'gini', 'max_features': 'sqrt'}\n",
      "Score of validation:  0.989267989135462\n"
     ]
    },
    {
     "name": "stderr",
     "output_type": "stream",
     "text": [
      "\r",
      "Treinamento:  22%|███████████████▌                                                      | 8/36 [10:42<43:42, 93.65s/it]"
     ]
    },
    {
     "name": "stdout",
     "output_type": "stream",
     "text": [
      "Mean f1: 0.989\n",
      "Accuracy test: 0.951\n",
      "Parameters:  {'n_estimators': 150, 'criterion': 'gini', 'max_features': 'auto'}\n",
      "Score of validation:  0.989267989135462\n"
     ]
    },
    {
     "name": "stderr",
     "output_type": "stream",
     "text": [
      "\r",
      "Treinamento:  25%|█████████████████▌                                                    | 9/36 [11:43<37:31, 83.38s/it]"
     ]
    },
    {
     "name": "stdout",
     "output_type": "stream",
     "text": [
      "Mean f1: 0.990\n",
      "Accuracy test: 0.952\n",
      "Parameters:  {'n_estimators': 150, 'criterion': 'gini', 'max_features': 'log2'}\n",
      "Score of validation:  0.990276995265685\n"
     ]
    },
    {
     "name": "stderr",
     "output_type": "stream",
     "text": [
      "\r",
      "Treinamento:  28%|███████████████████▏                                                 | 10/36 [13:37<40:12, 92.80s/it]"
     ]
    },
    {
     "name": "stdout",
     "output_type": "stream",
     "text": [
      "Mean f1: 0.989\n",
      "Accuracy test: 0.950\n",
      "Parameters:  {'n_estimators': 150, 'criterion': 'entropy', 'max_features': 'sqrt'}\n",
      "Score of validation:  0.989267989135462\n"
     ]
    },
    {
     "name": "stderr",
     "output_type": "stream",
     "text": [
      "\r",
      "Treinamento:  31%|████████████████████▊                                               | 11/36 [15:44<43:07, 103.49s/it]"
     ]
    },
    {
     "name": "stdout",
     "output_type": "stream",
     "text": [
      "Mean f1: 0.989\n",
      "Accuracy test: 0.950\n",
      "Parameters:  {'n_estimators': 150, 'criterion': 'entropy', 'max_features': 'auto'}\n",
      "Score of validation:  0.989267989135462\n"
     ]
    },
    {
     "name": "stderr",
     "output_type": "stream",
     "text": [
      "\r",
      "Treinamento:  33%|███████████████████████                                              | 12/36 [16:44<36:05, 90.24s/it]"
     ]
    },
    {
     "name": "stdout",
     "output_type": "stream",
     "text": [
      "Mean f1: 0.991\n",
      "Accuracy test: 0.953\n",
      "Parameters:  {'n_estimators': 150, 'criterion': 'entropy', 'max_features': 'log2'}\n",
      "Score of validation:  0.9905522246234832\n"
     ]
    },
    {
     "name": "stderr",
     "output_type": "stream",
     "text": [
      "\r",
      "Treinamento:  36%|████████████████████████▌                                           | 13/36 [19:15<41:39, 108.67s/it]"
     ]
    },
    {
     "name": "stdout",
     "output_type": "stream",
     "text": [
      "Mean f1: 0.989\n",
      "Accuracy test: 0.951\n",
      "Parameters:  {'n_estimators': 200, 'criterion': 'gini', 'max_features': 'sqrt'}\n",
      "Score of validation:  0.989267989135462\n"
     ]
    },
    {
     "name": "stderr",
     "output_type": "stream",
     "text": [
      "\r",
      "Treinamento:  39%|██████████████████████████▍                                         | 14/36 [21:41<43:58, 119.94s/it]"
     ]
    },
    {
     "name": "stdout",
     "output_type": "stream",
     "text": [
      "Mean f1: 0.989\n",
      "Accuracy test: 0.951\n",
      "Parameters:  {'n_estimators': 200, 'criterion': 'gini', 'max_features': 'auto'}\n",
      "Score of validation:  0.989267989135462\n"
     ]
    },
    {
     "name": "stderr",
     "output_type": "stream",
     "text": [
      "\r",
      "Treinamento:  42%|████████████████████████████▎                                       | 15/36 [22:57<37:20, 106.67s/it]"
     ]
    },
    {
     "name": "stdout",
     "output_type": "stream",
     "text": [
      "Mean f1: 0.990\n",
      "Accuracy test: 0.951\n",
      "Parameters:  {'n_estimators': 200, 'criterion': 'gini', 'max_features': 'log2'}\n",
      "Score of validation:  0.9903687383849512\n"
     ]
    },
    {
     "name": "stderr",
     "output_type": "stream",
     "text": [
      "\r",
      "Treinamento:  44%|██████████████████████████████▏                                     | 16/36 [25:21<39:14, 117.74s/it]"
     ]
    },
    {
     "name": "stdout",
     "output_type": "stream",
     "text": [
      "Mean f1: 0.989\n",
      "Accuracy test: 0.951\n",
      "Parameters:  {'n_estimators': 200, 'criterion': 'entropy', 'max_features': 'sqrt'}\n",
      "Score of validation:  0.9891762460161958\n"
     ]
    },
    {
     "name": "stderr",
     "output_type": "stream",
     "text": [
      "\r",
      "Treinamento:  47%|████████████████████████████████                                    | 17/36 [27:44<39:42, 125.37s/it]"
     ]
    },
    {
     "name": "stdout",
     "output_type": "stream",
     "text": [
      "Mean f1: 0.989\n",
      "Accuracy test: 0.951\n",
      "Parameters:  {'n_estimators': 200, 'criterion': 'entropy', 'max_features': 'auto'}\n",
      "Score of validation:  0.9891762460161958\n"
     ]
    },
    {
     "name": "stderr",
     "output_type": "stream",
     "text": [
      "\r",
      "Treinamento:  50%|██████████████████████████████████                                  | 18/36 [28:59<33:05, 110.29s/it]"
     ]
    },
    {
     "name": "stdout",
     "output_type": "stream",
     "text": [
      "Mean f1: 0.991\n",
      "Accuracy test: 0.952\n",
      "Parameters:  {'n_estimators': 200, 'criterion': 'entropy', 'max_features': 'log2'}\n",
      "Score of validation:  0.9905522246234832\n"
     ]
    },
    {
     "name": "stderr",
     "output_type": "stream",
     "text": [
      "\r",
      "Treinamento:  53%|███████████████████████████████████▉                                | 19/36 [32:02<37:23, 131.99s/it]"
     ]
    },
    {
     "name": "stdout",
     "output_type": "stream",
     "text": [
      "Mean f1: 0.989\n",
      "Accuracy test: 0.951\n",
      "Parameters:  {'n_estimators': 250, 'criterion': 'gini', 'max_features': 'sqrt'}\n",
      "Score of validation:  0.9893597322547281\n"
     ]
    },
    {
     "name": "stderr",
     "output_type": "stream",
     "text": [
      "\r",
      "Treinamento:  56%|█████████████████████████████████████▊                              | 20/36 [35:04<39:14, 147.17s/it]"
     ]
    },
    {
     "name": "stdout",
     "output_type": "stream",
     "text": [
      "Mean f1: 0.989\n",
      "Accuracy test: 0.951\n",
      "Parameters:  {'n_estimators': 250, 'criterion': 'gini', 'max_features': 'auto'}\n",
      "Score of validation:  0.9893597322547281\n"
     ]
    },
    {
     "name": "stderr",
     "output_type": "stream",
     "text": [
      "\r",
      "Treinamento:  58%|███████████████████████████████████████▋                            | 21/36 [36:38<32:47, 131.15s/it]"
     ]
    },
    {
     "name": "stdout",
     "output_type": "stream",
     "text": [
      "Mean f1: 0.990\n",
      "Accuracy test: 0.952\n",
      "Parameters:  {'n_estimators': 250, 'criterion': 'gini', 'max_features': 'log2'}\n",
      "Score of validation:  0.9904604815042172\n"
     ]
    },
    {
     "name": "stderr",
     "output_type": "stream",
     "text": [
      "\r",
      "Treinamento:  61%|█████████████████████████████████████████▌                          | 22/36 [39:36<33:53, 145.24s/it]"
     ]
    },
    {
     "name": "stdout",
     "output_type": "stream",
     "text": [
      "Mean f1: 0.989\n",
      "Accuracy test: 0.951\n",
      "Parameters:  {'n_estimators': 250, 'criterion': 'entropy', 'max_features': 'sqrt'}\n",
      "Score of validation:  0.9893597322547281\n"
     ]
    },
    {
     "name": "stderr",
     "output_type": "stream",
     "text": [
      "\r",
      "Treinamento:  64%|███████████████████████████████████████████▍                        | 23/36 [42:35<33:40, 155.42s/it]"
     ]
    },
    {
     "name": "stdout",
     "output_type": "stream",
     "text": [
      "Mean f1: 0.989\n",
      "Accuracy test: 0.951\n",
      "Parameters:  {'n_estimators': 250, 'criterion': 'entropy', 'max_features': 'auto'}\n",
      "Score of validation:  0.9893597322547281\n"
     ]
    },
    {
     "name": "stderr",
     "output_type": "stream",
     "text": [
      "\r",
      "Treinamento:  67%|█████████████████████████████████████████████▎                      | 24/36 [44:09<27:21, 136.81s/it]"
     ]
    },
    {
     "name": "stdout",
     "output_type": "stream",
     "text": [
      "Mean f1: 0.991\n",
      "Accuracy test: 0.953\n",
      "Parameters:  {'n_estimators': 250, 'criterion': 'entropy', 'max_features': 'log2'}\n",
      "Score of validation:  0.9905522246234832\n"
     ]
    },
    {
     "name": "stderr",
     "output_type": "stream",
     "text": [
      "\r",
      "Treinamento:  69%|███████████████████████████████████████████████▏                    | 25/36 [47:48<29:36, 161.51s/it]"
     ]
    },
    {
     "name": "stdout",
     "output_type": "stream",
     "text": [
      "Mean f1: 0.989\n",
      "Accuracy test: 0.952\n",
      "Parameters:  {'n_estimators': 300, 'criterion': 'gini', 'max_features': 'sqrt'}\n",
      "Score of validation:  0.9893597322547281\n"
     ]
    },
    {
     "name": "stderr",
     "output_type": "stream",
     "text": [
      "\r",
      "Treinamento:  72%|█████████████████████████████████████████████████                   | 26/36 [51:28<29:50, 179.01s/it]"
     ]
    },
    {
     "name": "stdout",
     "output_type": "stream",
     "text": [
      "Mean f1: 0.989\n",
      "Accuracy test: 0.952\n",
      "Parameters:  {'n_estimators': 300, 'criterion': 'gini', 'max_features': 'auto'}\n",
      "Score of validation:  0.9893597322547281\n"
     ]
    },
    {
     "name": "stderr",
     "output_type": "stream",
     "text": [
      "\r",
      "Treinamento:  75%|███████████████████████████████████████████████████                 | 27/36 [53:20<23:50, 158.93s/it]"
     ]
    },
    {
     "name": "stdout",
     "output_type": "stream",
     "text": [
      "Mean f1: 0.991\n",
      "Accuracy test: 0.951\n",
      "Parameters:  {'n_estimators': 300, 'criterion': 'gini', 'max_features': 'log2'}\n",
      "Score of validation:  0.9905522246234832\n"
     ]
    },
    {
     "name": "stderr",
     "output_type": "stream",
     "text": [
      "\r",
      "Treinamento:  78%|████████████████████████████████████████████████████▉               | 28/36 [56:54<23:25, 175.66s/it]"
     ]
    },
    {
     "name": "stdout",
     "output_type": "stream",
     "text": [
      "Mean f1: 0.989\n",
      "Accuracy test: 0.950\n",
      "Parameters:  {'n_estimators': 300, 'criterion': 'entropy', 'max_features': 'sqrt'}\n",
      "Score of validation:  0.989267989135462\n"
     ]
    },
    {
     "name": "stderr",
     "output_type": "stream",
     "text": [
      "\r",
      "Treinamento:  81%|█████████████████████████████████████████████████████▏            | 29/36 [1:00:29<21:51, 187.35s/it]"
     ]
    },
    {
     "name": "stdout",
     "output_type": "stream",
     "text": [
      "Mean f1: 0.989\n",
      "Accuracy test: 0.950\n",
      "Parameters:  {'n_estimators': 300, 'criterion': 'entropy', 'max_features': 'auto'}\n",
      "Score of validation:  0.989267989135462\n"
     ]
    },
    {
     "name": "stderr",
     "output_type": "stream",
     "text": [
      "\r",
      "Treinamento:  83%|███████████████████████████████████████████████████████           | 30/36 [1:02:21<16:28, 164.79s/it]"
     ]
    },
    {
     "name": "stdout",
     "output_type": "stream",
     "text": [
      "Mean f1: 0.991\n",
      "Accuracy test: 0.953\n",
      "Parameters:  {'n_estimators': 300, 'criterion': 'entropy', 'max_features': 'log2'}\n",
      "Score of validation:  0.9905522246234832\n"
     ]
    },
    {
     "name": "stderr",
     "output_type": "stream",
     "text": [
      "\r",
      "Treinamento:  86%|████████████████████████████████████████████████████████▊         | 31/36 [1:06:36<15:59, 191.89s/it]"
     ]
    },
    {
     "name": "stdout",
     "output_type": "stream",
     "text": [
      "Mean f1: 0.989\n",
      "Accuracy test: 0.952\n",
      "Parameters:  {'n_estimators': 350, 'criterion': 'gini', 'max_features': 'sqrt'}\n",
      "Score of validation:  0.989267989135462\n"
     ]
    },
    {
     "name": "stderr",
     "output_type": "stream",
     "text": [
      "\r",
      "Treinamento:  89%|██████████████████████████████████████████████████████████▋       | 32/36 [1:10:49<14:00, 210.01s/it]"
     ]
    },
    {
     "name": "stdout",
     "output_type": "stream",
     "text": [
      "Mean f1: 0.989\n",
      "Accuracy test: 0.952\n",
      "Parameters:  {'n_estimators': 350, 'criterion': 'gini', 'max_features': 'auto'}\n",
      "Score of validation:  0.989267989135462\n"
     ]
    },
    {
     "name": "stderr",
     "output_type": "stream",
     "text": [
      "\r",
      "Treinamento:  92%|████████████████████████████████████████████████████████████▌     | 33/36 [1:12:59<09:18, 186.22s/it]"
     ]
    },
    {
     "name": "stdout",
     "output_type": "stream",
     "text": [
      "Mean f1: 0.991\n",
      "Accuracy test: 0.951\n",
      "Parameters:  {'n_estimators': 350, 'criterion': 'gini', 'max_features': 'log2'}\n",
      "Score of validation:  0.9905522246234832\n"
     ]
    },
    {
     "name": "stderr",
     "output_type": "stream",
     "text": [
      "\r",
      "Treinamento:  94%|██████████████████████████████████████████████████████████████▎   | 34/36 [1:17:10<06:51, 205.63s/it]"
     ]
    },
    {
     "name": "stdout",
     "output_type": "stream",
     "text": [
      "Mean f1: 0.989\n",
      "Accuracy test: 0.950\n",
      "Parameters:  {'n_estimators': 350, 'criterion': 'entropy', 'max_features': 'sqrt'}\n",
      "Score of validation:  0.9891762460161958\n"
     ]
    },
    {
     "name": "stderr",
     "output_type": "stream",
     "text": [
      "\r",
      "Treinamento:  97%|████████████████████████████████████████████████████████████████▏ | 35/36 [1:21:21<03:39, 219.22s/it]"
     ]
    },
    {
     "name": "stdout",
     "output_type": "stream",
     "text": [
      "Mean f1: 0.989\n",
      "Accuracy test: 0.950\n",
      "Parameters:  {'n_estimators': 350, 'criterion': 'entropy', 'max_features': 'auto'}\n",
      "Score of validation:  0.9891762460161958\n"
     ]
    },
    {
     "name": "stderr",
     "output_type": "stream",
     "text": [
      "Treinamento: 100%|██████████████████████████████████████████████████████████████████| 36/36 [1:23:32<00:00, 139.22s/it]"
     ]
    },
    {
     "name": "stdout",
     "output_type": "stream",
     "text": [
      "Mean f1: 0.990\n",
      "Accuracy test: 0.953\n",
      "Parameters:  {'n_estimators': 350, 'criterion': 'entropy', 'max_features': 'log2'}\n",
      "Score of validation:  0.9904604815042172\n",
      "------------------------------\n",
      "Best parameters:  {'n_estimators': 150, 'criterion': 'entropy', 'max_features': 'log2'}\n",
      "Best validation score:  0.9905522246234832\n",
      "Best validation score:  0.953125\n"
     ]
    },
    {
     "name": "stderr",
     "output_type": "stream",
     "text": [
      "\n"
     ]
    }
   ],
   "source": [
    "scores_test, best_score_test, scores_valid, best_score_valid, params, best_params = search_cross_valid(search_space, X_train, y_train)"
   ]
  },
  {
   "cell_type": "code",
   "execution_count": 204,
   "id": "f80badde",
   "metadata": {
    "scrolled": true
   },
   "outputs": [
    {
     "data": {
      "text/plain": [
       "{'n_estimators': 150, 'criterion': 'entropy', 'max_features': 'log2'}"
      ]
     },
     "execution_count": 204,
     "metadata": {},
     "output_type": "execute_result"
    }
   ],
   "source": [
    "best_params"
   ]
  },
  {
   "cell_type": "code",
   "execution_count": 200,
   "id": "d267a15f",
   "metadata": {},
   "outputs": [],
   "source": [
    "model_best = RandomForestClassifier(**best_params, random_state=42)"
   ]
  },
  {
   "cell_type": "code",
   "execution_count": 202,
   "id": "5ae55077",
   "metadata": {},
   "outputs": [
    {
     "data": {
      "text/plain": [
       "RandomForestClassifier(criterion='entropy', max_features='log2',\n",
       "                       n_estimators=150, random_state=42)"
      ]
     },
     "execution_count": 202,
     "metadata": {},
     "output_type": "execute_result"
    }
   ],
   "source": [
    "model_best.fit(X_train, y_train)"
   ]
  },
  {
   "cell_type": "code",
   "execution_count": 203,
   "id": "1de17e42",
   "metadata": {},
   "outputs": [
    {
     "name": "stdout",
     "output_type": "stream",
     "text": [
      "              precision    recall  f1-score   support\n",
      "\n",
      "           0       1.00      0.21      0.34        34\n",
      "           1       0.00      0.00      0.00        18\n",
      "           2       0.95      1.00      0.98       908\n",
      "\n",
      "    accuracy                           0.95       960\n",
      "   macro avg       0.65      0.40      0.44       960\n",
      "weighted avg       0.94      0.95      0.94       960\n",
      "\n"
     ]
    }
   ],
   "source": [
    "print(classification_report(y_test, model_best.predict(X_test)))"
   ]
  },
  {
   "cell_type": "markdown",
   "id": "62d5d56c",
   "metadata": {},
   "source": [
    "<b> `Exporting model`"
   ]
  },
  {
   "cell_type": "code",
   "execution_count": 210,
   "id": "7d164d58",
   "metadata": {},
   "outputs": [
    {
     "data": {
      "text/plain": [
       "['random_forest.joblib']"
      ]
     },
     "execution_count": 210,
     "metadata": {},
     "output_type": "execute_result"
    }
   ],
   "source": [
    "from joblib import dump\n",
    "dump(model_best, 'random_forest.joblib')"
   ]
  }
 ],
 "metadata": {
  "kernelspec": {
   "display_name": "Python 3 (ipykernel)",
   "language": "python",
   "name": "python3"
  },
  "language_info": {
   "codemirror_mode": {
    "name": "ipython",
    "version": 3
   },
   "file_extension": ".py",
   "mimetype": "text/x-python",
   "name": "python",
   "nbconvert_exporter": "python",
   "pygments_lexer": "ipython3",
   "version": "3.9.7"
  }
 },
 "nbformat": 4,
 "nbformat_minor": 5
}
