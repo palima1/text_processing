{
 "cells": [
  {
   "cell_type": "code",
   "execution_count": null,
   "id": "ee852c72",
   "metadata": {
    "id": "ee852c72"
   },
   "outputs": [],
   "source": [
    "#tratamentos iniciais\n",
    "import pandas as pd\n",
    "import numpy as np\n",
    "#divisão dos dados\n",
    "from sklearn.model_selection import train_test_split\n",
    "#visualização \n",
    "from wordcloud import WordCloud\n",
    "import random\n",
    "from matplotlib import pyplot as plt\n",
    "# LSTM\n",
    "from keras.layers import Dense, Embedding, LSTM, SpatialDropout1D\n",
    "from keras.preprocessing.text import Tokenizer\n",
    "from keras.preprocessing.sequence import pad_sequences\n",
    "# CNN\n",
    "import os \n",
    "from bs4 import BeautifulSoup\n",
    "from tensorflow.keras.models import Sequential\n",
    "from tensorflow.keras.layers import Dense\n",
    "from tensorflow.keras.layers import Flatten\n",
    "from tensorflow.keras.layers import Conv1D\n",
    "from tensorflow.keras.layers import MaxPooling1D\n",
    "from tensorflow.keras.layers import Embedding\n",
    "from tensorflow.keras.preprocessing.text import Tokenizer\n",
    "from tensorflow.keras.preprocessing import sequence\n",
    "from sklearn.preprocessing import LabelEncoder"
   ]
  },
  {
   "cell_type": "code",
   "execution_count": null,
   "id": "dcd605a5",
   "metadata": {
    "id": "dcd605a5"
   },
   "outputs": [],
   "source": [
    "df = pd.read_csv('mouse_ajust.csv')"
   ]
  },
  {
   "cell_type": "code",
   "execution_count": null,
   "id": "9947d879",
   "metadata": {
    "colab": {
     "base_uri": "https://localhost:8080/",
     "height": 206
    },
    "id": "9947d879",
    "outputId": "b2ee72cb-bf3f-4f99-954c-94b69ee85a28"
   },
   "outputs": [
    {
     "data": {
      "text/html": [
       "\n",
       "  <div id=\"df-16c9730e-e9d1-4bd7-a62b-574ef6a8ce03\">\n",
       "    <div class=\"colab-df-container\">\n",
       "      <div>\n",
       "<style scoped>\n",
       "    .dataframe tbody tr th:only-of-type {\n",
       "        vertical-align: middle;\n",
       "    }\n",
       "\n",
       "    .dataframe tbody tr th {\n",
       "        vertical-align: top;\n",
       "    }\n",
       "\n",
       "    .dataframe thead th {\n",
       "        text-align: right;\n",
       "    }\n",
       "</style>\n",
       "<table border=\"1\" class=\"dataframe\">\n",
       "  <thead>\n",
       "    <tr style=\"text-align: right;\">\n",
       "      <th></th>\n",
       "      <th>Unnamed: 0</th>\n",
       "      <th>score</th>\n",
       "      <th>description</th>\n",
       "      <th>date</th>\n",
       "    </tr>\n",
       "  </thead>\n",
       "  <tbody>\n",
       "    <tr>\n",
       "      <th>0</th>\n",
       "      <td>0</td>\n",
       "      <td>0</td>\n",
       "      <td>O produto aparece usado...em baixo do aparelho...</td>\n",
       "      <td>13 de novembro de 2019</td>\n",
       "    </tr>\n",
       "    <tr>\n",
       "      <th>1</th>\n",
       "      <td>1</td>\n",
       "      <td>2</td>\n",
       "      <td>Mouse sem fio ótimo, sem delay, nano receptor ...</td>\n",
       "      <td>19 de agosto de 2019</td>\n",
       "    </tr>\n",
       "    <tr>\n",
       "      <th>2</th>\n",
       "      <td>2</td>\n",
       "      <td>1</td>\n",
       "      <td>A construção do mouse em si é boa, os clicks s...</td>\n",
       "      <td>15 de março de 2019</td>\n",
       "    </tr>\n",
       "    <tr>\n",
       "      <th>3</th>\n",
       "      <td>3</td>\n",
       "      <td>2</td>\n",
       "      <td>A mídia não pôde ser carregada.\\r\\n           ...</td>\n",
       "      <td>31 de julho de 2020</td>\n",
       "    </tr>\n",
       "    <tr>\n",
       "      <th>4</th>\n",
       "      <td>4</td>\n",
       "      <td>0</td>\n",
       "      <td>O mouse está em boas condições, funcionando be...</td>\n",
       "      <td>21 de junho de 2020</td>\n",
       "    </tr>\n",
       "  </tbody>\n",
       "</table>\n",
       "</div>\n",
       "      <button class=\"colab-df-convert\" onclick=\"convertToInteractive('df-16c9730e-e9d1-4bd7-a62b-574ef6a8ce03')\"\n",
       "              title=\"Convert this dataframe to an interactive table.\"\n",
       "              style=\"display:none;\">\n",
       "        \n",
       "  <svg xmlns=\"http://www.w3.org/2000/svg\" height=\"24px\"viewBox=\"0 0 24 24\"\n",
       "       width=\"24px\">\n",
       "    <path d=\"M0 0h24v24H0V0z\" fill=\"none\"/>\n",
       "    <path d=\"M18.56 5.44l.94 2.06.94-2.06 2.06-.94-2.06-.94-.94-2.06-.94 2.06-2.06.94zm-11 1L8.5 8.5l.94-2.06 2.06-.94-2.06-.94L8.5 2.5l-.94 2.06-2.06.94zm10 10l.94 2.06.94-2.06 2.06-.94-2.06-.94-.94-2.06-.94 2.06-2.06.94z\"/><path d=\"M17.41 7.96l-1.37-1.37c-.4-.4-.92-.59-1.43-.59-.52 0-1.04.2-1.43.59L10.3 9.45l-7.72 7.72c-.78.78-.78 2.05 0 2.83L4 21.41c.39.39.9.59 1.41.59.51 0 1.02-.2 1.41-.59l7.78-7.78 2.81-2.81c.8-.78.8-2.07 0-2.86zM5.41 20L4 18.59l7.72-7.72 1.47 1.35L5.41 20z\"/>\n",
       "  </svg>\n",
       "      </button>\n",
       "      \n",
       "  <style>\n",
       "    .colab-df-container {\n",
       "      display:flex;\n",
       "      flex-wrap:wrap;\n",
       "      gap: 12px;\n",
       "    }\n",
       "\n",
       "    .colab-df-convert {\n",
       "      background-color: #E8F0FE;\n",
       "      border: none;\n",
       "      border-radius: 50%;\n",
       "      cursor: pointer;\n",
       "      display: none;\n",
       "      fill: #1967D2;\n",
       "      height: 32px;\n",
       "      padding: 0 0 0 0;\n",
       "      width: 32px;\n",
       "    }\n",
       "\n",
       "    .colab-df-convert:hover {\n",
       "      background-color: #E2EBFA;\n",
       "      box-shadow: 0px 1px 2px rgba(60, 64, 67, 0.3), 0px 1px 3px 1px rgba(60, 64, 67, 0.15);\n",
       "      fill: #174EA6;\n",
       "    }\n",
       "\n",
       "    [theme=dark] .colab-df-convert {\n",
       "      background-color: #3B4455;\n",
       "      fill: #D2E3FC;\n",
       "    }\n",
       "\n",
       "    [theme=dark] .colab-df-convert:hover {\n",
       "      background-color: #434B5C;\n",
       "      box-shadow: 0px 1px 3px 1px rgba(0, 0, 0, 0.15);\n",
       "      filter: drop-shadow(0px 1px 2px rgba(0, 0, 0, 0.3));\n",
       "      fill: #FFFFFF;\n",
       "    }\n",
       "  </style>\n",
       "\n",
       "      <script>\n",
       "        const buttonEl =\n",
       "          document.querySelector('#df-16c9730e-e9d1-4bd7-a62b-574ef6a8ce03 button.colab-df-convert');\n",
       "        buttonEl.style.display =\n",
       "          google.colab.kernel.accessAllowed ? 'block' : 'none';\n",
       "\n",
       "        async function convertToInteractive(key) {\n",
       "          const element = document.querySelector('#df-16c9730e-e9d1-4bd7-a62b-574ef6a8ce03');\n",
       "          const dataTable =\n",
       "            await google.colab.kernel.invokeFunction('convertToInteractive',\n",
       "                                                     [key], {});\n",
       "          if (!dataTable) return;\n",
       "\n",
       "          const docLinkHtml = 'Like what you see? Visit the ' +\n",
       "            '<a target=\"_blank\" href=https://colab.research.google.com/notebooks/data_table.ipynb>data table notebook</a>'\n",
       "            + ' to learn more about interactive tables.';\n",
       "          element.innerHTML = '';\n",
       "          dataTable['output_type'] = 'display_data';\n",
       "          await google.colab.output.renderOutput(dataTable, element);\n",
       "          const docLink = document.createElement('div');\n",
       "          docLink.innerHTML = docLinkHtml;\n",
       "          element.appendChild(docLink);\n",
       "        }\n",
       "      </script>\n",
       "    </div>\n",
       "  </div>\n",
       "  "
      ],
      "text/plain": [
       "   Unnamed: 0  score                                        description  \\\n",
       "0           0      0  O produto aparece usado...em baixo do aparelho...   \n",
       "1           1      2  Mouse sem fio ótimo, sem delay, nano receptor ...   \n",
       "2           2      1  A construção do mouse em si é boa, os clicks s...   \n",
       "3           3      2  A mídia não pôde ser carregada.\\r\\n           ...   \n",
       "4           4      0  O mouse está em boas condições, funcionando be...   \n",
       "\n",
       "                     date  \n",
       "0  13 de novembro de 2019  \n",
       "1    19 de agosto de 2019  \n",
       "2     15 de março de 2019  \n",
       "3     31 de julho de 2020  \n",
       "4     21 de junho de 2020  "
      ]
     },
     "execution_count": 3,
     "metadata": {},
     "output_type": "execute_result"
    }
   ],
   "source": [
    "df.head()"
   ]
  },
  {
   "cell_type": "markdown",
   "id": "f890418a",
   "metadata": {
    "id": "f890418a"
   },
   "source": [
    "### Divisão dos dados"
   ]
  },
  {
   "cell_type": "code",
   "execution_count": null,
   "id": "c33dc542",
   "metadata": {
    "id": "c33dc542"
   },
   "outputs": [],
   "source": [
    "# Dados desbalanceados\n",
    "x, y = df['description'], df['score']\n",
    "X_train, X_test, y_train, y_test = train_test_split(x, y, test_size=0.2, random_state=42,stratify=y)\n",
    "\n",
    "#Dados balanceados\n",
    "X_train_bal = pd.read_csv('x_treino_bal_tratado.csv')\n",
    "y_train_bal = pd.read_csv('y_treino_bal.csv') "
   ]
  },
  {
   "cell_type": "code",
   "execution_count": null,
   "id": "dC_HWn0sHnnD",
   "metadata": {
    "id": "dC_HWn0sHnnD"
   },
   "outputs": [],
   "source": [
    "X_train_bal.drop('Unnamed: 0',axis=1,inplace=True)\n",
    "y_train_bal.drop('Unnamed: 0',axis=1,inplace=True)"
   ]
  },
  {
   "cell_type": "code",
   "execution_count": null,
   "id": "Gu80VRvXBLuh",
   "metadata": {
    "colab": {
     "base_uri": "https://localhost:8080/"
    },
    "id": "Gu80VRvXBLuh",
    "outputId": "9f878238-6ded-48a8-ad23-f9389dc98cbe"
   },
   "outputs": [
    {
     "name": "stdout",
     "output_type": "stream",
     "text": [
      "x de treino normal: (3840,)\n",
      "x de treino balanceado: (10902, 1)\n",
      "y de treino normal: (3840,)\n",
      "y de treino balanceado: (10902, 1)\n"
     ]
    }
   ],
   "source": [
    "print('x de treino normal:',X_train.shape)\n",
    "print('x de treino balanceado:',X_train_bal.shape)\n",
    "print('y de treino normal:',y_train.shape)\n",
    "print('y de treino balanceado:',y_train_bal.shape)"
   ]
  },
  {
   "cell_type": "markdown",
   "id": "81f61a4a",
   "metadata": {
    "id": "81f61a4a"
   },
   "source": [
    "- Tokenização inicial dos dados"
   ]
  },
  {
   "cell_type": "markdown",
   "id": "ZtFicIzW-h-D",
   "metadata": {
    "id": "ZtFicIzW-h-D"
   },
   "source": [
    "## Inicialização"
   ]
  },
  {
   "cell_type": "code",
   "execution_count": null,
   "id": "8958fc35",
   "metadata": {
    "id": "8958fc35"
   },
   "outputs": [],
   "source": [
    "max_fatures = 2000\n",
    "tokenizer = Tokenizer(num_words=max_fatures, split=' ')\n",
    "tokenizer.fit_on_texts(df['description'])"
   ]
  },
  {
   "cell_type": "code",
   "execution_count": null,
   "id": "b418dfc0",
   "metadata": {
    "id": "b418dfc0"
   },
   "outputs": [],
   "source": [
    "X_train = tokenizer.texts_to_sequences(X_train.values)\n",
    "X_test = tokenizer.texts_to_sequences(X_test.values)"
   ]
  },
  {
   "cell_type": "code",
   "execution_count": null,
   "id": "221d64fd",
   "metadata": {
    "id": "221d64fd"
   },
   "outputs": [],
   "source": [
    "# Corrigindo diferença nos shapes\n",
    "\n",
    "new_x_train = np.zeros((3840,300))\n",
    "new_x_test = np.zeros((960,300))"
   ]
  },
  {
   "cell_type": "code",
   "execution_count": null,
   "id": "14930902",
   "metadata": {
    "id": "14930902"
   },
   "outputs": [],
   "source": [
    "line_count=0\n",
    "for i in X_train:\n",
    "    for j in range(len(i)):\n",
    "        new_x_train[line_count][j]=i[j]\n",
    "    line_count+=1"
   ]
  },
  {
   "cell_type": "code",
   "execution_count": null,
   "id": "a0dbe84f",
   "metadata": {
    "id": "a0dbe84f"
   },
   "outputs": [],
   "source": [
    "line_count=0\n",
    "for i in X_test:\n",
    "    for j in range(len(i)):\n",
    "        new_x_test[line_count][j]=i[j]\n",
    "    line_count+=1"
   ]
  },
  {
   "cell_type": "code",
   "execution_count": null,
   "id": "31ec7aed",
   "metadata": {
    "id": "31ec7aed"
   },
   "outputs": [],
   "source": [
    "X_train = new_x_train\n",
    "X_test = new_x_test"
   ]
  },
  {
   "cell_type": "markdown",
   "id": "5tA_utPW-mkU",
   "metadata": {
    "id": "5tA_utPW-mkU"
   },
   "source": [
    "### Estruturação do Modelo e Treinamento"
   ]
  },
  {
   "cell_type": "code",
   "execution_count": null,
   "id": "RqK8j-YEJs0H",
   "metadata": {
    "colab": {
     "base_uri": "https://localhost:8080/"
    },
    "id": "RqK8j-YEJs0H",
    "outputId": "5e663675-93fe-4a0b-c705-d841e76bf84c",
    "scrolled": false
   },
   "outputs": [
    {
     "name": "stdout",
     "output_type": "stream",
     "text": [
      "Model: \"sequential\"\n",
      "_________________________________________________________________\n",
      " Layer (type)                Output Shape              Param #   \n",
      "=================================================================\n",
      " embedding (Embedding)       (None, 300, 128)          1280000   \n",
      "                                                                 \n",
      " spatial_dropout1d (SpatialD  (None, 300, 128)         0         \n",
      " ropout1D)                                                       \n",
      "                                                                 \n",
      " lstm (LSTM)                 (None, 196)               254800    \n",
      "                                                                 \n",
      " dense (Dense)               (None, 3)                 591       \n",
      "                                                                 \n",
      "=================================================================\n",
      "Total params: 1,535,391\n",
      "Trainable params: 1,535,391\n",
      "Non-trainable params: 0\n",
      "_________________________________________________________________\n",
      "None\n"
     ]
    }
   ],
   "source": [
    "import tensorflow as tf\n",
    "\n",
    "########################\n",
    "#valores iniciais, a serem tunados\n",
    "max_review_length = X_train.shape[1]\n",
    "top_words = 10000\n",
    "embedding_dim = 128\n",
    "########################\n",
    "\n",
    "model = Sequential()\n",
    "model.add(Embedding(input_dim=top_words, output_dim=embedding_dim, input_length=max_review_length))\n",
    "model.add(SpatialDropout1D(0.4))\n",
    "model.add(LSTM(196))\n",
    "model.add(Dense(units=3, activation='softmax'))\n",
    "\n",
    "model.compile(loss='sparse_categorical_crossentropy', optimizer='adam', metrics=['accuracy'])\n",
    "print(model.summary())"
   ]
  },
  {
   "cell_type": "code",
   "execution_count": null,
   "id": "2545398f",
   "metadata": {
    "colab": {
     "base_uri": "https://localhost:8080/"
    },
    "id": "2545398f",
    "outputId": "ae8f08f4-15ff-4c4c-b1cd-11f4214a5ef8"
   },
   "outputs": [
    {
     "name": "stdout",
     "output_type": "stream",
     "text": [
      "Epoch 1/5\n",
      "60/60 [==============================] - 78s 1s/step - loss: 0.3002 - accuracy: 0.9451 - val_loss: 0.2521 - val_accuracy: 0.9458\n",
      "Epoch 2/5\n",
      "60/60 [==============================] - 89s 1s/step - loss: 0.2439 - accuracy: 0.9464 - val_loss: 0.2464 - val_accuracy: 0.9458\n",
      "Epoch 3/5\n",
      "60/60 [==============================] - 72s 1s/step - loss: 0.2460 - accuracy: 0.9464 - val_loss: 0.2475 - val_accuracy: 0.9458\n",
      "Epoch 4/5\n",
      "60/60 [==============================] - 73s 1s/step - loss: 0.2461 - accuracy: 0.9464 - val_loss: 0.2465 - val_accuracy: 0.9458\n",
      "Epoch 5/5\n",
      "60/60 [==============================] - 71s 1s/step - loss: 0.2459 - accuracy: 0.9464 - val_loss: 0.2463 - val_accuracy: 0.9458\n"
     ]
    }
   ],
   "source": [
    "history = model.fit(X_train, y_train, epochs=5, batch_size=64,verbose = 1,validation_data=(X_test,y_test))"
   ]
  },
  {
   "cell_type": "markdown",
   "id": "Z1xMXcpm-tmq",
   "metadata": {
    "id": "Z1xMXcpm-tmq"
   },
   "source": [
    "### Resultados"
   ]
  },
  {
   "cell_type": "code",
   "execution_count": null,
   "id": "3UnRg94BJ2zS",
   "metadata": {
    "colab": {
     "base_uri": "https://localhost:8080/",
     "height": 573
    },
    "id": "3UnRg94BJ2zS",
    "outputId": "1dca8e88-e27e-4504-bec6-c2b01ccbb75f"
   },
   "outputs": [
    {
     "data": {
      "image/png": "[encoded data removed]",
      "text/plain": [
       "<Figure size 432x288 with 1 Axes>"
      ]
     },
     "metadata": {
      "needs_background": "light"
     },
     "output_type": "display_data"
    },
    {
     "data": {
      "image/png": "[encoded data removed]",
      "text/plain": [
       "<Figure size 432x288 with 1 Axes>"
      ]
     },
     "metadata": {
      "needs_background": "light"
     },
     "output_type": "display_data"
    }
   ],
   "source": [
    "def show_train_history(train_history,train,validation):\n",
    "    plt.plot(train_history.history[train])\n",
    "    plt.plot(train_history.history[validation])\n",
    "    plt.title('Train History')\n",
    "    plt.ylabel(train)\n",
    "    plt.xlabel('Epoch')\n",
    "    plt.legend(['train', 'validation'], loc='upper left')\n",
    "    plt.show()\n",
    "    \n",
    "show_train_history(history,'accuracy','val_accuracy')\n",
    "show_train_history(history,'loss','val_loss')"
   ]
  },
  {
   "cell_type": "code",
   "execution_count": null,
   "id": "M_Y6KnUuKIvY",
   "metadata": {
    "colab": {
     "base_uri": "https://localhost:8080/"
    },
    "id": "M_Y6KnUuKIvY",
    "outputId": "7deea82f-78e7-4cf5-e301-4c038520c379"
   },
   "outputs": [
    {
     "name": "stdout",
     "output_type": "stream",
     "text": [
      "Training loss \t 0.24589796364307404\n",
      "Training accuracy  0.9463541507720947\n",
      "Validation loss  0.24633710086345673\n",
      "Validation accuracy  0.9458333253860474\n"
     ]
    }
   ],
   "source": [
    "print('Training loss \\t', history.history['loss'][-1])\n",
    "print('Training accuracy ',  history.history['accuracy'][-1])\n",
    "print('Validation loss ', history.history['val_loss'][-1])\n",
    "print('Validation accuracy ',  history.history['val_accuracy'][-1])"
   ]
  },
  {
   "cell_type": "code",
   "execution_count": null,
   "id": "-mP4xGMcZZkz",
   "metadata": {
    "colab": {
     "base_uri": "https://localhost:8080/"
    },
    "id": "-mP4xGMcZZkz",
    "outputId": "debf2e17-a789-4370-903f-266a333ee1ea"
   },
   "outputs": [
    {
     "name": "stdout",
     "output_type": "stream",
     "text": [
      "30/30 [==============================] - 7s 229ms/step - loss: 0.2463 - accuracy: 0.9458\n",
      "Testing loss \t 0.24633722007274628\n",
      "Testing accuracy  0.9458333253860474\n"
     ]
    }
   ],
   "source": [
    "# Final evaluation of the model using test dataset\n",
    "# Students will be starting their code from here:\n",
    "scores = model.evaluate(X_test, y_test, verbose=1)\n",
    "print('Testing loss \\t', scores[0])\n",
    "print('Testing accuracy ', scores[1])"
   ]
  },
  {
   "cell_type": "markdown",
   "id": "TZiryC-h_xYz",
   "metadata": {
    "id": "TZiryC-h_xYz"
   },
   "source": [
    "### LSTM com dados tratados e balanceados (sem stemming)"
   ]
  },
  {
   "cell_type": "code",
   "execution_count": null,
   "id": "78VM1UaYBVvZ",
   "metadata": {
    "id": "78VM1UaYBVvZ"
   },
   "outputs": [],
   "source": [
    "X_train_bal.dropna(inplace=True)"
   ]
  },
  {
   "cell_type": "code",
   "execution_count": null,
   "id": "BfuyNrpeH4X6",
   "metadata": {
    "id": "BfuyNrpeH4X6"
   },
   "outputs": [],
   "source": [
    "X_train_bal=X_train_bal['0']"
   ]
  },
  {
   "cell_type": "code",
   "execution_count": null,
   "id": "L7_dfbyyG9e7",
   "metadata": {
    "id": "L7_dfbyyG9e7"
   },
   "outputs": [],
   "source": [
    "X_train_bal = tokenizer.texts_to_sequences(X_train_bal.values)"
   ]
  },
  {
   "cell_type": "code",
   "execution_count": null,
   "id": "NCsXlOW6Bf_4",
   "metadata": {
    "id": "NCsXlOW6Bf_4"
   },
   "outputs": [],
   "source": [
    "# Corrigindo diferença nos shapes\n",
    "\n",
    "new_x_train = np.zeros((10902,300))\n",
    "\n",
    "line_count=0\n",
    "for i in X_train_bal:\n",
    "    for j in range(len(i)):\n",
    "        new_x_train[line_count][j]=i[j]\n",
    "    line_count+=1\n",
    "\n",
    "X_train_bal = new_x_train"
   ]
  },
  {
   "cell_type": "code",
   "execution_count": null,
   "id": "XwJ4z5H3B18f",
   "metadata": {
    "colab": {
     "base_uri": "https://localhost:8080/"
    },
    "id": "XwJ4z5H3B18f",
    "outputId": "14e3623a-7a30-4988-d992-aac9c5e67f50"
   },
   "outputs": [
    {
     "data": {
      "text/plain": [
       "(10902, 300)"
      ]
     },
     "execution_count": 120,
     "metadata": {},
     "output_type": "execute_result"
    }
   ],
   "source": [
    "X_train_bal.shape"
   ]
  },
  {
   "cell_type": "code",
   "execution_count": null,
   "id": "uAriTVS4IIDq",
   "metadata": {
    "id": "uAriTVS4IIDq"
   },
   "outputs": [],
   "source": [
    "y_train_bal=y_train_bal['0']"
   ]
  },
  {
   "cell_type": "code",
   "execution_count": null,
   "id": "LYe4Ija9_wvJ",
   "metadata": {
    "colab": {
     "base_uri": "https://localhost:8080/"
    },
    "id": "LYe4Ija9_wvJ",
    "outputId": "a2a26539-2711-42d1-9c0f-5b8665a52187"
   },
   "outputs": [
    {
     "name": "stdout",
     "output_type": "stream",
     "text": [
      "Epoch 1/5\n",
      "171/171 [==============================] - 213s 1s/step - loss: 1.1292 - accuracy: 0.3307 - val_loss: 1.1068 - val_accuracy: 0.0354\n",
      "Epoch 2/5\n",
      "171/171 [==============================] - 209s 1s/step - loss: 1.0990 - accuracy: 0.3332 - val_loss: 1.1444 - val_accuracy: 0.0354\n",
      "Epoch 3/5\n",
      "171/171 [==============================] - 210s 1s/step - loss: 1.0994 - accuracy: 0.3311 - val_loss: 1.1085 - val_accuracy: 0.0354\n",
      "Epoch 4/5\n",
      "171/171 [==============================] - 214s 1s/step - loss: 1.0990 - accuracy: 0.3287 - val_loss: 1.1186 - val_accuracy: 0.0354\n",
      "Epoch 5/5\n",
      "171/171 [==============================] - 208s 1s/step - loss: 1.0989 - accuracy: 0.3303 - val_loss: 1.1249 - val_accuracy: 0.0188\n"
     ]
    }
   ],
   "source": [
    "history = model.fit(X_train_bal, y_train_bal, epochs=5, batch_size=64,verbose = 1,validation_data=(X_test,y_test))"
   ]
  },
  {
   "cell_type": "markdown",
   "id": "41feb210",
   "metadata": {
    "id": "41feb210"
   },
   "source": [
    "# CNN"
   ]
  },
  {
   "cell_type": "code",
   "execution_count": null,
   "id": "B4U4cdUPKa0s",
   "metadata": {
    "colab": {
     "base_uri": "https://localhost:8080/"
    },
    "id": "B4U4cdUPKa0s",
    "outputId": "559f494c-2ea5-490d-8835-7d9a9b01d6fe"
   },
   "outputs": [
    {
     "name": "stdout",
     "output_type": "stream",
     "text": [
      "Model: \"sequential_2\"\n",
      "_________________________________________________________________\n",
      " Layer (type)                Output Shape              Param #   \n",
      "=================================================================\n",
      " embedding_2 (Embedding)     (None, 300, 32)           320000    \n",
      "                                                                 \n",
      " conv1d_1 (Conv1D)           (None, 300, 32)           3104      \n",
      "                                                                 \n",
      " max_pooling1d_1 (MaxPooling  (None, 150, 32)          0         \n",
      " 1D)                                                             \n",
      "                                                                 \n",
      " lstm_2 (LSTM)               (None, 100)               53200     \n",
      "                                                                 \n",
      " dense_2 (Dense)             (None, 3)                 303       \n",
      "                                                                 \n",
      "=================================================================\n",
      "Total params: 376,607\n",
      "Trainable params: 376,607\n",
      "Non-trainable params: 0\n",
      "_________________________________________________________________\n",
      "None\n",
      "Epoch 1/5\n",
      "60/60 [==============================] - 18s 251ms/step - loss: 0.3585 - accuracy: 0.9323 - val_loss: 0.2471 - val_accuracy: 0.9458\n",
      "Epoch 2/5\n",
      "60/60 [==============================] - 11s 186ms/step - loss: 0.2442 - accuracy: 0.9464 - val_loss: 0.2458 - val_accuracy: 0.9458\n",
      "Epoch 3/5\n",
      "60/60 [==============================] - 11s 185ms/step - loss: 0.2478 - accuracy: 0.9464 - val_loss: 0.2456 - val_accuracy: 0.9458\n",
      "Epoch 4/5\n",
      "60/60 [==============================] - 11s 185ms/step - loss: 0.2441 - accuracy: 0.9464 - val_loss: 0.2473 - val_accuracy: 0.9458\n",
      "Epoch 5/5\n",
      "60/60 [==============================] - 11s 186ms/step - loss: 0.2449 - accuracy: 0.9464 - val_loss: 0.2467 - val_accuracy: 0.9458\n"
     ]
    }
   ],
   "source": [
    "# create the model\n",
    "embedding_vector_length = 32\n",
    "cnn_model = Sequential()\n",
    "\n",
    "# Students will be starting their code from here:\n",
    "\n",
    "# Write the code for LSTM Based Classifcation\n",
    "# Embedding layer\n",
    "# Convolution-1D Layer : You are free to choose the hyperparameters and the number of layers\n",
    "# LSTM Layer : You are free to choose the hyperparameters and the number of layers\n",
    "# Dense Layer\n",
    "\n",
    "cnn_model.add(Embedding(input_dim=top_words, output_dim=embedding_vector_length, input_length=max_review_length))\n",
    "cnn_model.add(Conv1D(filters=32, kernel_size=3, padding='same', activation='relu'))\n",
    "cnn_model.add(MaxPooling1D(pool_size=2))\n",
    "cnn_model.add(LSTM(100))\n",
    "cnn_model.add(Dense(units=3, activation='softmax'))\n",
    "\n",
    "# Students will be ending their code here\n",
    "\n",
    "cnn_model.compile(loss='sparse_categorical_crossentropy', optimizer='adam', metrics=['accuracy'])\n",
    "print(cnn_model.summary())\n",
    "\n",
    "# Change the number of epochs and the batch size depending on the RAM Size\n",
    "\n",
    "history_c=cnn_model.fit(X_train, y_train, epochs=5, batch_size=64,verbose = 1,validation_data=(X_test,y_test))"
   ]
  },
  {
   "cell_type": "code",
   "execution_count": null,
   "id": "4hzCfe9pKjMo",
   "metadata": {
    "colab": {
     "base_uri": "https://localhost:8080/",
     "height": 642
    },
    "id": "4hzCfe9pKjMo",
    "outputId": "e80b990f-e03a-4a88-ddab-9dafca9a2f70"
   },
   "outputs": [
    {
     "data": {
      "image/png": "[encoded data removed]",
      "text/plain": [
       "<Figure size 432x288 with 1 Axes>"
      ]
     },
     "metadata": {
      "needs_background": "light"
     },
     "output_type": "display_data"
    },
    {
     "data": {
      "image/png": "[encoded data removed]",
      "text/plain": [
       "<Figure size 432x288 with 1 Axes>"
      ]
     },
     "metadata": {
      "needs_background": "light"
     },
     "output_type": "display_data"
    },
    {
     "name": "stdout",
     "output_type": "stream",
     "text": [
      "Training loss \t 24.491247534751892\n",
      "Training accuracy  94.63541507720947\n",
      "Validation loss  24.67443346977234\n",
      "Validation accuracy  94.58333253860474\n"
     ]
    }
   ],
   "source": [
    "# Final evaluation of the CNN + RNN model using the test data\n",
    "# Students will be starting their code from here:\n",
    "show_train_history(history_c,'accuracy','val_accuracy')\n",
    "show_train_history(history_c,'loss','val_loss')\n",
    "\n",
    "print('Training loss \\t', history_c.history['loss'][-1]*100)\n",
    "print('Training accuracy ',  history_c.history['accuracy'][-1]*100)\n",
    "print('Validation loss ', history_c.history['val_loss'][-1]*100)\n",
    "print('Validation accuracy ',  history_c.history['val_accuracy'][-1]*100)"
   ]
  },
  {
   "cell_type": "code",
   "execution_count": null,
   "id": "GOtsHmDmWWDz",
   "metadata": {
    "colab": {
     "base_uri": "https://localhost:8080/"
    },
    "id": "GOtsHmDmWWDz",
    "outputId": "9d3d3ba3-22ce-4d07-ffdc-8974400ab305"
   },
   "outputs": [
    {
     "name": "stdout",
     "output_type": "stream",
     "text": [
      "30/30 [==============================] - 2s 36ms/step - loss: 0.2467 - accuracy: 0.9458\n",
      "Testing loss \t 24.633722007274628\n",
      "Testing accuracy  94.58333253860474\n"
     ]
    }
   ],
   "source": [
    "# Final evaluation of the model using test dataset\n",
    "# Students will be starting their code from here:\n",
    "\n",
    "cnn_scores = cnn_model.evaluate(X_test, y_test, verbose=1)\n",
    "print('Testing loss \\t', scores[0]*100)\n",
    "print('Testing accuracy ', scores[1]*100)"
   ]
  },
  {
   "cell_type": "markdown",
   "id": "lsCWvrP3SZH7",
   "metadata": {
    "id": "lsCWvrP3SZH7"
   },
   "source": [
    "### CNN com dados balanceados"
   ]
  },
  {
   "cell_type": "code",
   "execution_count": null,
   "id": "36VJ9Q4JSQRg",
   "metadata": {
    "colab": {
     "base_uri": "https://localhost:8080/"
    },
    "id": "36VJ9Q4JSQRg",
    "outputId": "1261259a-078d-44ec-d01f-b42492668c7e"
   },
   "outputs": [
    {
     "name": "stdout",
     "output_type": "stream",
     "text": [
      "Epoch 1/5\n",
      "171/171 [==============================] - 43s 236ms/step - loss: 1.1322 - accuracy: 0.3387 - val_loss: 1.1363 - val_accuracy: 0.0354\n",
      "Epoch 2/5\n",
      "171/171 [==============================] - 34s 200ms/step - loss: 1.0989 - accuracy: 0.3209 - val_loss: 1.1096 - val_accuracy: 0.0188\n",
      "Epoch 3/5\n",
      "171/171 [==============================] - 40s 235ms/step - loss: 1.0990 - accuracy: 0.3319 - val_loss: 1.1083 - val_accuracy: 0.0354\n",
      "Epoch 4/5\n",
      "171/171 [==============================] - 36s 209ms/step - loss: 1.0988 - accuracy: 0.3317 - val_loss: 1.0858 - val_accuracy: 0.9458\n",
      "Epoch 5/5\n",
      "171/171 [==============================] - 34s 200ms/step - loss: 1.0989 - accuracy: 0.3345 - val_loss: 1.0884 - val_accuracy: 0.9458\n"
     ]
    }
   ],
   "source": [
    "history_c2=cnn_model.fit(X_train_bal, y_train_bal, epochs=5, batch_size=64,verbose = 1,validation_data=(X_test,y_test))"
   ]
  },
  {
   "cell_type": "markdown",
   "id": "9-_6qK43Ksp6",
   "metadata": {
    "id": "9-_6qK43Ksp6"
   },
   "source": [
    "## Comparing the models"
   ]
  },
  {
   "cell_type": "code",
   "execution_count": null,
   "id": "-4XGQQfiKuPb",
   "metadata": {
    "id": "-4XGQQfiKuPb"
   },
   "outputs": [],
   "source": [
    "#Creating a function to display values:\n",
    "def show_values_on_bars(axs, h_v=\"v\", space=0.2):\n",
    "    def _show_on_single_plot(ax):\n",
    "        if h_v == \"v\":\n",
    "            for p in ax.patches:\n",
    "                _x = p.get_x() + p.get_width() / 2\n",
    "                _y = p.get_y() + p.get_height()\n",
    "                value = \"{:.2f}\".format(p.get_height())\n",
    "                ax.text(_x, _y, value, ha=\"center\") \n",
    "        elif h_v == \"h\":\n",
    "            for p in ax.patches:\n",
    "                _x = p.get_x() + p.get_width() + float(space)\n",
    "                _y = p.get_y() + p.get_height()\n",
    "                value = \"{:.2f}\".format(p.get_width())\n",
    "                ax.text(_x, _y, value, ha=\"left\")\n",
    "\n",
    "    if isinstance(axs, np.ndarray):\n",
    "        for idx, ax in np.ndenumerate(axs):\n",
    "            _show_on_single_plot(ax)\n",
    "    else:\n",
    "        _show_on_single_plot(axs)\n",
    "\n"
   ]
  },
  {
   "cell_type": "code",
   "execution_count": null,
   "id": "JL45__Eck30u",
   "metadata": {
    "colab": {
     "base_uri": "https://localhost:8080/",
     "height": 606
    },
    "id": "JL45__Eck30u",
    "outputId": "1a08397b-9669-47d9-c4d1-4a4a5f9e1ebe"
   },
   "outputs": [
    {
     "data": {
      "image/png": "[encoded data removed]",
      "text/plain": [
       "<Figure size 720x720 with 1 Axes>"
      ]
     },
     "metadata": {
      "needs_background": "light"
     },
     "output_type": "display_data"
    }
   ],
   "source": [
    "#Creating a dataframe to draw out comparisons\n",
    "\n",
    "import seaborn as sns\n",
    "import pandas as pd\n",
    "\n",
    "results=[]\n",
    "results.append([scores[0], 'Loss', 'LSTM'])\n",
    "results.append([scores[1], 'Accuracy', 'LSTM'])\n",
    "results.append([cnn_scores[0], 'Loss', 'CNN+LSTM'])\n",
    "results.append([cnn_scores[1], 'Accuracy', 'CNN+LSTM'])\n",
    "\n",
    "\n",
    "comparison = pd.DataFrame(results, columns = ['Score', 'Metric', 'Model'])\n",
    "\n",
    "plt.figure(figsize=(10,10))\n",
    "plot = sns.barplot(x=comparison['Metric'],y=comparison['Score'], hue = comparison['Model'])\n",
    "\n",
    "show_values_on_bars(plot)"
   ]
  }
 ],
 "metadata": {
  "colab": {
   "collapsed_sections": [],
   "name": "01_ajustes e testes-CNN_LSTM.ipynb",
   "provenance": []
  },
  "kernelspec": {
   "display_name": "Python 3 (ipykernel)",
   "language": "python",
   "name": "python3"
  },
  "language_info": {
   "codemirror_mode": {
    "name": "ipython",
    "version": 3
   },
   "file_extension": ".py",
   "mimetype": "text/x-python",
   "name": "python",
   "nbconvert_exporter": "python",
   "pygments_lexer": "ipython3",
   "version": "3.7.11"
  }
 },
 "nbformat": 4,
 "nbformat_minor": 5
}
