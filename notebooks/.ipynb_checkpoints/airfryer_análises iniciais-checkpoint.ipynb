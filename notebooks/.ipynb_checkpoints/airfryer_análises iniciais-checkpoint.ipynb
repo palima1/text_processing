{
 "cells": [
  {
   "cell_type": "markdown",
   "metadata": {
    "colab_type": "text",
    "id": "view-in-github"
   },
   "source": [
    "<a href=\"https://colab.research.google.com/github/palima1/text_processing/blob/main/airfryer_tratamento_dados.ipynb\" target=\"_parent\"><img src=\"https://colab.research.google.com/assets/colab-badge.svg\" alt=\"Open In Colab\"/></a>"
   ]
  },
  {
   "cell_type": "code",
   "execution_count": 30,
   "metadata": {},
   "outputs": [],
   "source": [
    "# Para manipulações\n",
    "import pandas as pd\n",
    "import numpy as np\n",
    "# Processamento dos textos\n",
    "import pt_core_news_sm\n",
    "import spacy"
   ]
  },
  {
   "cell_type": "code",
   "execution_count": 31,
   "metadata": {
    "colab": {
     "base_uri": "https://localhost:8080/",
     "height": 206
    },
    "id": "t4hB6WgefYmr",
    "outputId": "ebe35c68-315b-4fd9-b35f-78154cf2c8b6"
   },
   "outputs": [
    {
     "data": {
      "text/html": [
       "<div>\n",
       "<style scoped>\n",
       "    .dataframe tbody tr th:only-of-type {\n",
       "        vertical-align: middle;\n",
       "    }\n",
       "\n",
       "    .dataframe tbody tr th {\n",
       "        vertical-align: top;\n",
       "    }\n",
       "\n",
       "    .dataframe thead th {\n",
       "        text-align: right;\n",
       "    }\n",
       "</style>\n",
       "<table border=\"1\" class=\"dataframe\">\n",
       "  <thead>\n",
       "    <tr style=\"text-align: right;\">\n",
       "      <th></th>\n",
       "      <th>score</th>\n",
       "      <th>description</th>\n",
       "      <th>date</th>\n",
       "    </tr>\n",
       "  </thead>\n",
       "  <tbody>\n",
       "    <tr>\n",
       "      <th>0</th>\n",
       "      <td>1,0</td>\n",
       "      <td>Bom dia ,Gostaria de saber como posso esta faz...</td>\n",
       "      <td>4 de agosto de 2020</td>\n",
       "    </tr>\n",
       "    <tr>\n",
       "      <th>1</th>\n",
       "      <td>1,0</td>\n",
       "      <td>O produto veio com defeito. O puxador quebrou ...</td>\n",
       "      <td>10 de agosto de 2020</td>\n",
       "    </tr>\n",
       "    <tr>\n",
       "      <th>2</th>\n",
       "      <td>3,0</td>\n",
       "      <td>Infelizmente minha fritadeira veio com problem...</td>\n",
       "      <td>28 de abril de 2020</td>\n",
       "    </tr>\n",
       "    <tr>\n",
       "      <th>3</th>\n",
       "      <td>5,0</td>\n",
       "      <td>Melhor custo benefício, ideal para casais.Reco...</td>\n",
       "      <td>15 de maio de 2021</td>\n",
       "    </tr>\n",
       "    <tr>\n",
       "      <th>4</th>\n",
       "      <td>2,0</td>\n",
       "      <td>A mídia não pôde ser carregada.\\r\\n           ...</td>\n",
       "      <td>13 de novembro de 2019</td>\n",
       "    </tr>\n",
       "  </tbody>\n",
       "</table>\n",
       "</div>"
      ],
      "text/plain": [
       "  score                                        description  \\\n",
       "0   1,0  Bom dia ,Gostaria de saber como posso esta faz...   \n",
       "1   1,0  O produto veio com defeito. O puxador quebrou ...   \n",
       "2   3,0  Infelizmente minha fritadeira veio com problem...   \n",
       "3   5,0  Melhor custo benefício, ideal para casais.Reco...   \n",
       "4   2,0  A mídia não pôde ser carregada.\\r\\n           ...   \n",
       "\n",
       "                     date  \n",
       "0     4 de agosto de 2020  \n",
       "1    10 de agosto de 2020  \n",
       "2     28 de abril de 2020  \n",
       "3      15 de maio de 2021  \n",
       "4  13 de novembro de 2019  "
      ]
     },
     "execution_count": 31,
     "metadata": {},
     "output_type": "execute_result"
    }
   ],
   "source": [
    "df = pd.read_csv(\"datasets/airfryer.csv\")\n",
    "df.head()"
   ]
  },
  {
   "cell_type": "code",
   "execution_count": 32,
   "metadata": {
    "colab": {
     "base_uri": "https://localhost:8080/"
    },
    "id": "hmYwGNmIhFaQ",
    "outputId": "c5d9b22f-c255-4131-81b9-ba7703482bef"
   },
   "outputs": [
    {
     "data": {
      "text/plain": [
       "(9560, 3)"
      ]
     },
     "execution_count": 32,
     "metadata": {},
     "output_type": "execute_result"
    }
   ],
   "source": [
    "df.shape"
   ]
  },
  {
   "cell_type": "markdown",
   "metadata": {},
   "source": [
    "# Pre proces"
   ]
  },
  {
   "cell_type": "code",
   "execution_count": null,
   "metadata": {},
   "outputs": [],
   "source": []
  },
  {
   "cell_type": "code",
   "execution_count": null,
   "metadata": {},
   "outputs": [],
   "source": []
  },
  {
   "cell_type": "code",
   "execution_count": null,
   "metadata": {},
   "outputs": [],
   "source": []
  },
  {
   "cell_type": "code",
   "execution_count": null,
   "metadata": {},
   "outputs": [],
   "source": []
  },
  {
   "cell_type": "code",
   "execution_count": null,
   "metadata": {},
   "outputs": [],
   "source": []
  },
  {
   "cell_type": "code",
   "execution_count": null,
   "metadata": {},
   "outputs": [],
   "source": []
  },
  {
   "cell_type": "code",
   "execution_count": null,
   "metadata": {},
   "outputs": [],
   "source": []
  },
  {
   "cell_type": "markdown",
   "metadata": {
    "id": "hYo3JIURg8vF"
   },
   "source": [
    "## Análises Iniciais"
   ]
  },
  {
   "cell_type": "code",
   "execution_count": 28,
   "metadata": {},
   "outputs": [],
   "source": [
    "nlp = pt_core_news_sm.load()"
   ]
  },
  {
   "cell_type": "code",
   "execution_count": 27,
   "metadata": {
    "colab": {
     "base_uri": "https://localhost:8080/"
    },
    "id": "XR4Eyh7koMAv",
    "outputId": "3757de1c-371e-4f54-a65f-bd7ea1691b19"
   },
   "outputs": [
    {
     "data": {
      "text/plain": [
       "9560"
      ]
     },
     "execution_count": 27,
     "metadata": {},
     "output_type": "execute_result"
    }
   ],
   "source": [
    "# 3.1. Número de documentos no dataset;\n",
    "len(df)"
   ]
  },
  {
   "cell_type": "code",
   "execution_count": 83,
   "metadata": {
    "id": "ARWY_dAEgX2k"
   },
   "outputs": [],
   "source": [
    "# Criando variável no formato spacy\n",
    "\n",
    "doc = pd.DataFrame()\n",
    "doc['docs'] = np.arange(0,len(df['description']))\n",
    "\n",
    "j=0\n",
    "for i in df['description']:\n",
    "    doc['docs'][j] = nlp(i)\n",
    "    j+=1"
   ]
  },
  {
   "cell_type": "code",
   "execution_count": 86,
   "metadata": {
    "colab": {
     "base_uri": "https://localhost:8080/"
    },
    "id": "D0_Cf23RoWG8",
    "outputId": "318852f0-804f-4f87-b895-f02bf081745c"
   },
   "outputs": [
    {
     "name": "stdout",
     "output_type": "stream",
     "text": [
      "O vocabulário bruto contém 330 palavras\n"
     ]
    }
   ],
   "source": [
    "# Tamanho do vocabulário (sem aplicar filtros);\n",
    "dic = {}\n",
    "for frases in doc.loc[:,'docs']:\n",
    "    for word in frases:\n",
    "        if word.text not in dic.keys():\n",
    "            dic[word.text]=1\n",
    "        if word.text in dic.keys():\n",
    "            dic[word.text] = dic[word.text]+1\n",
    "\n",
    "print('O vocabulário bruto contém {} palavras'.format(len(dic.keys())))"
   ]
  },
  {
   "cell_type": "code",
   "execution_count": 88,
   "metadata": {
    "colab": {
     "base_uri": "https://localhost:8080/"
    },
    "id": "tmuR-DXdovk4",
    "outputId": "2c1ac9b5-25a4-46a5-d395-44a1d2d3d0d6"
   },
   "outputs": [
    {
     "name": "stdout",
     "output_type": "stream",
     "text": [
      "O vocabulário sem pontos contém 323 palavras\n"
     ]
    }
   ],
   "source": [
    "# 3.3. Número de Tokens (filtre pontuação e simbolos especiais quando aparecerem sozinhos);\n",
    "dic2 = {}\n",
    "for frases in doc.loc[:,'docs']:\n",
    "    for word in frases:\n",
    "        if (word.text not in dic2.keys()) and not (word.is_punct):\n",
    "            dic2[word.text]=1\n",
    "        if (word.text in dic2.keys()) and not (word.is_punct):\n",
    "            dic2[word.text] = dic2[word.text]+1\n",
    "            \n",
    "print('O vocabulário sem pontos contém {} palavras'.format(len(dic2.keys())))"
   ]
  },
  {
   "cell_type": "code",
   "execution_count": 89,
   "metadata": {
    "colab": {
     "base_uri": "https://localhost:8080/"
    },
    "id": "Y7XjJ5hWpH0g",
    "outputId": "5713b6d2-29e1-4936-8d91-b6d715ab4c11"
   },
   "outputs": [
    {
     "data": {
      "text/plain": [
       "[('a', 18165),\n",
       " ('o', 17209),\n",
       " ('de', 16253),\n",
       " ('com', 14341),\n",
       " ('e', 13385),\n",
       " ('que', 12429),\n",
       " ('não', 11473),\n",
       " ('produto', 10517),\n",
       " ('uso', 8605),\n",
       " ('no', 7649),\n",
       " ('da', 6693),\n",
       " ('do', 6693),\n",
       " ('para', 5737),\n",
       " ('como', 4781),\n",
       " ('O', 4781),\n",
       " ('mais', 4781),\n",
       " ('é', 4781),\n",
       " ('um', 4781),\n",
       " ('em', 3825),\n",
       " ('ser', 3825)]"
      ]
     },
     "execution_count": 89,
     "metadata": {},
     "output_type": "execute_result"
    }
   ],
   "source": [
    "freq_s_pont = sorted(dic2.items(),reverse=True, key=lambda x:x[1])\n",
    "freq_s_pont[0:20]"
   ]
  },
  {
   "cell_type": "code",
   "execution_count": 70,
   "metadata": {
    "colab": {
     "base_uri": "https://localhost:8080/"
    },
    "id": "1rASXWOJkooh",
    "outputId": "7ab7c2b9-2026-41fe-e751-af99307c94a8"
   },
   "outputs": [
    {
     "data": {
      "text/plain": [
       "413"
      ]
     },
     "execution_count": 70,
     "metadata": {},
     "output_type": "execute_result"
    }
   ],
   "source": [
    "stopwords = nlp.Defaults.stop_words\n",
    "len(stopwords)"
   ]
  },
  {
   "cell_type": "code",
   "execution_count": 91,
   "metadata": {
    "colab": {
     "base_uri": "https://localhost:8080/"
    },
    "id": "5GfNg1uxpZmV",
    "outputId": "c42814f3-56ce-4f8c-fe86-f731b90dc64d"
   },
   "outputs": [
    {
     "name": "stdout",
     "output_type": "stream",
     "text": [
      "O vocabulário sem pontos e stopwords contém 223 palavras\n"
     ]
    },
    {
     "data": {
      "text/plain": [
       "[('a', 18165),\n",
       " ('o', 17209),\n",
       " ('e', 13385),\n",
       " ('produto', 10517),\n",
       " ('uso', 8605),\n",
       " ('O', 4781),\n",
       " (' ', 2869),\n",
       " ('pra', 2869),\n",
       " ('A', 2869),\n",
       " ('Mondial', 2869),\n",
       " ('comprar', 2869),\n",
       " ('Teflon', 2869),\n",
       " ('ficou', 2869),\n",
       " ('teflon', 2869),\n",
       " ('dia', 1913),\n",
       " ('fritadeira', 1913),\n",
       " ('6', 1913),\n",
       " ('veio', 1913),\n",
       " ('reais', 1913)]"
      ]
     },
     "execution_count": 91,
     "metadata": {},
     "output_type": "execute_result"
    }
   ],
   "source": [
    "# Número de Tokens sem stopwords\n",
    "\n",
    "dic3 = {}\n",
    "for frases in doc['docs']:\n",
    "    for word in frases:\n",
    "        if (word.text not in dic3) and not (word.is_punct) and not (word.is_stop):\n",
    "            dic3[word.text]=1\n",
    "        if (word.text in dic3) and not (word.is_punct) and not (word.is_stop):\n",
    "            dic3[word.text] = dic3[word.text]+1\n",
    "            \n",
    "print('O vocabulário sem pontos e stopwords contém {} palavras'.format(len(dic3.keys())))\n",
    "\n",
    "dic33 = sorted(dic3.items(),reverse=True, key=lambda x:x[1])\n",
    "dic33[0:19]"
   ]
  },
  {
   "cell_type": "code",
   "execution_count": 94,
   "metadata": {
    "colab": {
     "base_uri": "https://localhost:8080/"
    },
    "id": "FG6N747VpqQE",
    "outputId": "19734ceb-000d-4117-d9b2-1441e1358c47"
   },
   "outputs": [
    {
     "name": "stdout",
     "output_type": "stream",
     "text": [
      "O vocabulário LEMATIZADO contém 208 palavras\n"
     ]
    },
    {
     "data": {
      "text/plain": [
       "[('o', 35373),\n",
       " ('e', 13385),\n",
       " ('produto', 10517),\n",
       " ('usar', 10517),\n",
       " ('O', 4781),\n",
       " ('fazer', 3825),\n",
       " ('ficar', 3825),\n",
       " ('dia', 2869),\n",
       " (' ', 2869),\n",
       " ('fritadeira', 2869),\n",
       " ('pra', 2869),\n",
       " ('A', 2869),\n",
       " ('Mondial', 2869),\n",
       " ('comprar', 2869),\n",
       " ('Teflon', 2869),\n",
       " ('teflon', 2869),\n",
       " ('6', 1913),\n",
       " ('vir', 1913),\n",
       " ('real', 1913)]"
      ]
     },
     "execution_count": 94,
     "metadata": {},
     "output_type": "execute_result"
    }
   ],
   "source": [
    "# Número de Tokens após lematização\n",
    "\n",
    "dic4={}\n",
    "for frases in doc['docs']:\n",
    "    for word in frases:\n",
    "        if (word.lemma_ not in dic4) and not (word.is_punct) and not (word.is_stop):\n",
    "            dic4[word.lemma_]=1\n",
    "        if (word.lemma_ in dic4) and not (word.is_punct) and not (word.is_stop):\n",
    "            dic4[word.lemma_] = dic4[word.lemma_]+1\n",
    "            \n",
    "print('O vocabulário LEMATIZADO contém {} palavras'.format(len(dic4.keys())))\n",
    "\n",
    "dic44 = sorted(dic4.items(),reverse=True, key=lambda x:x[1])\n",
    "dic44[:19]"
   ]
  },
  {
   "cell_type": "code",
   "execution_count": 15,
   "metadata": {
    "colab": {
     "base_uri": "https://localhost:8080/"
    },
    "id": "UcX0-8oCp4AQ",
    "outputId": "0aa1d4be-53fb-4144-c1dc-ad4eb8edc427"
   },
   "outputs": [
    {
     "data": {
      "text/plain": [
       "2"
      ]
     },
     "execution_count": 15,
     "metadata": {},
     "output_type": "execute_result"
    }
   ],
   "source": [
    "'''# 3.9. Número de Tokens após aplicação de Stemming;\n",
    "stemmer = PorterStemmer()\n",
    "\n",
    "vocab_stem = {}\n",
    "\n",
    "for abs in df[:100]:\n",
    "  doc = nlp_pt(abs)\n",
    "  sentences = doc.sents\n",
    "\n",
    "  for sent in sentences:\n",
    "    tokens = nlp_pt(sent.text)\n",
    "\n",
    "    for tkn in tokens:\n",
    "      if tkn.is_punct == False and tkn.is_stop == False:\n",
    "        stem = stemmer.stem(tkn.text)\n",
    "        if stem in vocab_stem.keys():\n",
    "          vocab_stem[stem] += 1\n",
    "        elif stem not in vocab_lem.keys():\n",
    "          vocab_stem[stem] = 1\n",
    "len(vocab_stem)'''"
   ]
  }
 ],
 "metadata": {
  "colab": {
   "authorship_tag": "ABX9TyOlBErZpfUYJ7CtMCSbX+nq",
   "include_colab_link": true,
   "name": "airfryer_tratamento_dados.ipynb",
   "provenance": []
  },
  "kernelspec": {
   "display_name": "Python 3 (ipykernel)",
   "language": "python",
   "name": "python3"
  },
  "language_info": {
   "codemirror_mode": {
    "name": "ipython",
    "version": 3
   },
   "file_extension": ".py",
   "mimetype": "text/x-python",
   "name": "python",
   "nbconvert_exporter": "python",
   "pygments_lexer": "ipython3",
   "version": "3.7.11"
  }
 },
 "nbformat": 4,
 "nbformat_minor": 1
}
