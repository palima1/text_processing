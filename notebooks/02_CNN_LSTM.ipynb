{
 "cells": [
  {
   "cell_type": "markdown",
   "id": "a56e767f",
   "metadata": {
    "colab_type": "text",
    "id": "view-in-github"
   },
   "source": [
    "<a href=\"https://colab.research.google.com/github/palima1/text_processing/blob/main/C%C3%B3pia_01_ajustes_e_testes_CNN_LSTM.ipynb\" target=\"_parent\"><img src=\"https://colab.research.google.com/assets/colab-badge.svg\" alt=\"Open In Colab\"/></a>"
   ]
  },
  {
   "cell_type": "code",
   "execution_count": 345,
   "id": "mj22FcmF9-Yy",
   "metadata": {
    "colab": {
     "base_uri": "https://localhost:8080/"
    },
    "id": "mj22FcmF9-Yy",
    "outputId": "dddc5974-0968-4258-862a-4c3ad3782865"
   },
   "outputs": [
    {
     "name": "stdout",
     "output_type": "stream",
     "text": [
      "Requirement already satisfied: contractions in /usr/local/lib/python3.7/dist-packages (0.1.68)\n",
      "Requirement already satisfied: textsearch>=0.0.21 in /usr/local/lib/python3.7/dist-packages (from contractions) (0.0.21)\n",
      "Requirement already satisfied: anyascii in /usr/local/lib/python3.7/dist-packages (from textsearch>=0.0.21->contractions) (0.3.0)\n",
      "Requirement already satisfied: pyahocorasick in /usr/local/lib/python3.7/dist-packages (from textsearch>=0.0.21->contractions) (1.4.4)\n",
      "Requirement already satisfied: textsearch in /usr/local/lib/python3.7/dist-packages (0.0.21)\n",
      "Requirement already satisfied: pyahocorasick in /usr/local/lib/python3.7/dist-packages (from textsearch) (1.4.4)\n",
      "Requirement already satisfied: anyascii in /usr/local/lib/python3.7/dist-packages (from textsearch) (0.3.0)\n",
      "Requirement already satisfied: tqdm in /usr/local/lib/python3.7/dist-packages (4.63.0)\n"
     ]
    }
   ],
   "source": [
    "!pip install contractions\n",
    "!pip install textsearch\n",
    "!pip install tqdm"
   ]
  },
  {
   "cell_type": "code",
   "execution_count": 43,
   "id": "ee852c72",
   "metadata": {
    "id": "ee852c72"
   },
   "outputs": [],
   "source": [
    "#tratamentos iniciais\n",
    "import pandas as pd\n",
    "import numpy as np\n",
    "#divisão dos dados\n",
    "from sklearn.model_selection import train_test_split\n",
    "#visualização \n",
    "from wordcloud import WordCloud\n",
    "import random\n",
    "from matplotlib import pyplot as plt\n",
    "# LSTM\n",
    "from keras.layers import Dense, Embedding, LSTM, SpatialDropout1D\n",
    "from keras.preprocessing.text import Tokenizer\n",
    "from keras.preprocessing.sequence import pad_sequences\n",
    "# CNN\n",
    "import os \n",
    "from bs4 import BeautifulSoup\n",
    "from tensorflow.keras.models import Sequential\n",
    "from tensorflow.keras.layers import Dense\n",
    "from tensorflow.keras.layers import Flatten\n",
    "from tensorflow.keras.layers import Conv1D\n",
    "from tensorflow.keras.layers import MaxPooling1D\n",
    "from tensorflow.keras.layers import Embedding\n",
    "from tensorflow.keras.preprocessing.text import Tokenizer\n",
    "from tensorflow.keras.preprocessing import sequence\n",
    "from sklearn.preprocessing import LabelEncoder"
   ]
  },
  {
   "cell_type": "code",
   "execution_count": 4,
   "id": "dcd605a5",
   "metadata": {
    "id": "dcd605a5"
   },
   "outputs": [],
   "source": [
    "df = pd.read_csv('../datasets/mouse_ajust.csv')"
   ]
  },
  {
   "cell_type": "code",
   "execution_count": 7,
   "id": "9947d879",
   "metadata": {
    "colab": {
     "base_uri": "https://localhost:8080/",
     "height": 206
    },
    "id": "9947d879",
    "outputId": "5769f1fb-e5d6-486f-fb5f-145ae471e1d1"
   },
   "outputs": [
    {
     "data": {
      "text/html": [
       "<div>\n",
       "<style scoped>\n",
       "    .dataframe tbody tr th:only-of-type {\n",
       "        vertical-align: middle;\n",
       "    }\n",
       "\n",
       "    .dataframe tbody tr th {\n",
       "        vertical-align: top;\n",
       "    }\n",
       "\n",
       "    .dataframe thead th {\n",
       "        text-align: right;\n",
       "    }\n",
       "</style>\n",
       "<table border=\"1\" class=\"dataframe\">\n",
       "  <thead>\n",
       "    <tr style=\"text-align: right;\">\n",
       "      <th></th>\n",
       "      <th>score</th>\n",
       "      <th>description</th>\n",
       "      <th>date</th>\n",
       "    </tr>\n",
       "  </thead>\n",
       "  <tbody>\n",
       "    <tr>\n",
       "      <th>0</th>\n",
       "      <td>0</td>\n",
       "      <td>O produto aparece usado...em baixo do aparelho...</td>\n",
       "      <td>13 de novembro de 2019</td>\n",
       "    </tr>\n",
       "    <tr>\n",
       "      <th>1</th>\n",
       "      <td>2</td>\n",
       "      <td>Mouse sem fio ótimo, sem delay, nano receptor ...</td>\n",
       "      <td>19 de agosto de 2019</td>\n",
       "    </tr>\n",
       "    <tr>\n",
       "      <th>2</th>\n",
       "      <td>1</td>\n",
       "      <td>A construção do mouse em si é boa, os clicks s...</td>\n",
       "      <td>15 de março de 2019</td>\n",
       "    </tr>\n",
       "    <tr>\n",
       "      <th>3</th>\n",
       "      <td>2</td>\n",
       "      <td>A mídia não pôde ser carregada.\\r\\n           ...</td>\n",
       "      <td>31 de julho de 2020</td>\n",
       "    </tr>\n",
       "    <tr>\n",
       "      <th>4</th>\n",
       "      <td>0</td>\n",
       "      <td>O mouse está em boas condições, funcionando be...</td>\n",
       "      <td>21 de junho de 2020</td>\n",
       "    </tr>\n",
       "  </tbody>\n",
       "</table>\n",
       "</div>"
      ],
      "text/plain": [
       "   score                                        description  \\\n",
       "0      0  O produto aparece usado...em baixo do aparelho...   \n",
       "1      2  Mouse sem fio ótimo, sem delay, nano receptor ...   \n",
       "2      1  A construção do mouse em si é boa, os clicks s...   \n",
       "3      2  A mídia não pôde ser carregada.\\r\\n           ...   \n",
       "4      0  O mouse está em boas condições, funcionando be...   \n",
       "\n",
       "                     date  \n",
       "0  13 de novembro de 2019  \n",
       "1    19 de agosto de 2019  \n",
       "2     15 de março de 2019  \n",
       "3     31 de julho de 2020  \n",
       "4     21 de junho de 2020  "
      ]
     },
     "execution_count": 7,
     "metadata": {},
     "output_type": "execute_result"
    }
   ],
   "source": [
    "df.head()"
   ]
  },
  {
   "cell_type": "markdown",
   "id": "f890418a",
   "metadata": {
    "id": "f890418a"
   },
   "source": [
    "### Divisão dos dados"
   ]
  },
  {
   "cell_type": "code",
   "execution_count": 147,
   "id": "c33dc542",
   "metadata": {
    "id": "c33dc542"
   },
   "outputs": [
    {
     "name": "stdout",
     "output_type": "stream",
     "text": [
      "x de treino normal: (3840,)\n",
      "x de treino balanceado: (10902, 2)\n",
      "y de treino normal: (3840,)\n",
      "y de treino balanceado: (10902, 2)\n"
     ]
    }
   ],
   "source": [
    "# Dados desbalanceados\n",
    "x, y = df['description'], df['score']\n",
    "X_train, X_test, y_train, y_test = train_test_split(x, y, test_size=0.2, random_state=42,stratify=y)\n",
    "\n",
    "#Dados balanceados\n",
    "X_train_bal = pd.read_csv('../datasets/x_treino_bal.csv')\n",
    "y_train_bal = pd.read_csv('../datasets/y_treino_bal.csv') \n",
    "\n",
    "print('x de treino normal:',X_train.shape)\n",
    "print('x de treino balanceado:',X_train_bal.shape)\n",
    "print('y de treino normal:',y_train.shape)\n",
    "print('y de treino balanceado:',y_train_bal.shape)"
   ]
  },
  {
   "cell_type": "markdown",
   "id": "cCLcyjLgb33d",
   "metadata": {
    "id": "cCLcyjLgb33d"
   },
   "source": [
    "## LSTM"
   ]
  },
  {
   "cell_type": "markdown",
   "id": "81f61a4a",
   "metadata": {},
   "source": [
    "- Tokenização inicial dos dados"
   ]
  },
  {
   "cell_type": "code",
   "execution_count": 148,
   "id": "8958fc35",
   "metadata": {},
   "outputs": [],
   "source": [
    "max_fatures = 2000\n",
    "tokenizer = Tokenizer(num_words=max_fatures, split=' ')\n",
    "tokenizer.fit_on_texts(df['description'])"
   ]
  },
  {
   "cell_type": "code",
   "execution_count": 149,
   "id": "b418dfc0",
   "metadata": {},
   "outputs": [],
   "source": [
    "X_train = tokenizer.texts_to_sequences(X_train.values)\n",
    "X_test = tokenizer.texts_to_sequences(X_test.values)"
   ]
  },
  {
   "cell_type": "raw",
   "id": "5883d6b5",
   "metadata": {},
   "source": [
    "X_train = pad_sequences(X_train)\n",
    "X_test = pad_sequences(X_test)"
   ]
  },
  {
   "cell_type": "code",
   "execution_count": 150,
   "id": "ffef9679",
   "metadata": {},
   "outputs": [
    {
     "data": {
      "text/plain": [
       "3840"
      ]
     },
     "execution_count": 150,
     "metadata": {},
     "output_type": "execute_result"
    }
   ],
   "source": [
    "X_train.__len__()"
   ]
  },
  {
   "cell_type": "code",
   "execution_count": 151,
   "id": "221d64fd",
   "metadata": {},
   "outputs": [],
   "source": [
    "# Corrigindo diferença nos shapes\n",
    "\n",
    "new_x_train = np.zeros((3840,300))\n",
    "new_x_test = np.zeros((960,300))"
   ]
  },
  {
   "cell_type": "code",
   "execution_count": 152,
   "id": "14930902",
   "metadata": {},
   "outputs": [],
   "source": [
    "line_count=0\n",
    "for i in X_train:\n",
    "    for j in range(len(i)):\n",
    "        new_x_train[line_count][j]=i[j]\n",
    "    line_count+=1"
   ]
  },
  {
   "cell_type": "code",
   "execution_count": 153,
   "id": "a0dbe84f",
   "metadata": {},
   "outputs": [],
   "source": [
    "line_count=0\n",
    "for i in X_test:\n",
    "    for j in range(len(i)):\n",
    "        new_x_test[line_count][j]=i[j]\n",
    "    line_count+=1"
   ]
  },
  {
   "cell_type": "code",
   "execution_count": 154,
   "id": "31ec7aed",
   "metadata": {},
   "outputs": [],
   "source": [
    "X_train = new_x_train\n",
    "X_test = new_x_test"
   ]
  },
  {
   "cell_type": "code",
   "execution_count": 155,
   "id": "RqK8j-YEJs0H",
   "metadata": {
    "colab": {
     "base_uri": "https://localhost:8080/",
     "height": 1000
    },
    "id": "RqK8j-YEJs0H",
    "outputId": "6d365ffb-0717-4fb7-ff6d-5d7d34e2bd1c",
    "scrolled": false
   },
   "outputs": [
    {
     "name": "stdout",
     "output_type": "stream",
     "text": [
      "Model: \"sequential_29\"\n",
      "_________________________________________________________________\n",
      " Layer (type)                Output Shape              Param #   \n",
      "=================================================================\n",
      " embedding_28 (Embedding)    (None, 300, 128)          1280000   \n",
      "                                                                 \n",
      " spatial_dropout1d_19 (Spati  (None, 300, 128)         0         \n",
      " alDropout1D)                                                    \n",
      "                                                                 \n",
      " lstm_21 (LSTM)              (None, 196)               254800    \n",
      "                                                                 \n",
      " dense_21 (Dense)            (None, 3)                 591       \n",
      "                                                                 \n",
      "=================================================================\n",
      "Total params: 1,535,391\n",
      "Trainable params: 1,535,391\n",
      "Non-trainable params: 0\n",
      "_________________________________________________________________\n",
      "None\n"
     ]
    }
   ],
   "source": [
    "import tensorflow as tf\n",
    "\n",
    "########################\n",
    "#valores iniciais, a serem tunados\n",
    "max_review_length = X_train.shape[1]\n",
    "top_words = 10000\n",
    "embedding_dim = 128\n",
    "########################\n",
    "\n",
    "model = Sequential()\n",
    "model.add(Embedding(input_dim=top_words, output_dim=embedding_dim, input_length=max_review_length))\n",
    "model.add(SpatialDropout1D(0.4))\n",
    "model.add(LSTM(196))\n",
    "model.add(Dense(units=3, activation='softmax'))\n",
    "\n",
    "model.compile(loss='sparse_categorical_crossentropy', optimizer='adam', metrics=['accuracy'])\n",
    "print(model.summary())"
   ]
  },
  {
   "cell_type": "code",
   "execution_count": 156,
   "id": "9b028d8f",
   "metadata": {},
   "outputs": [
    {
     "data": {
      "text/plain": [
       "(960,)"
      ]
     },
     "execution_count": 156,
     "metadata": {},
     "output_type": "execute_result"
    }
   ],
   "source": [
    "y_test.shape"
   ]
  },
  {
   "cell_type": "code",
   "execution_count": 157,
   "id": "2545398f",
   "metadata": {},
   "outputs": [
    {
     "name": "stdout",
     "output_type": "stream",
     "text": [
      "Epoch 1/5\n",
      "60/60 [==============================] - 34s 549ms/step - loss: 0.3071 - accuracy: 0.9339 - val_loss: 0.2514 - val_accuracy: 0.9458\n",
      "Epoch 2/5\n",
      "60/60 [==============================] - 36s 596ms/step - loss: 0.2473 - accuracy: 0.9464 - val_loss: 0.2462 - val_accuracy: 0.9458\n",
      "Epoch 3/5\n",
      "60/60 [==============================] - 40s 666ms/step - loss: 0.2445 - accuracy: 0.9464 - val_loss: 0.2467 - val_accuracy: 0.9458\n",
      "Epoch 4/5\n",
      "60/60 [==============================] - 40s 667ms/step - loss: 0.2471 - accuracy: 0.9464 - val_loss: 0.2486 - val_accuracy: 0.9458\n",
      "Epoch 5/5\n",
      "60/60 [==============================] - 40s 673ms/step - loss: 0.2457 - accuracy: 0.9464 - val_loss: 0.2467 - val_accuracy: 0.9458\n"
     ]
    }
   ],
   "source": [
    "history = model.fit(X_train, y_train, epochs=5, batch_size=64,verbose = 1,validation_data=(X_test,y_test))"
   ]
  },
  {
   "cell_type": "code",
   "execution_count": 158,
   "id": "3UnRg94BJ2zS",
   "metadata": {
    "id": "3UnRg94BJ2zS"
   },
   "outputs": [
    {
     "data": {
      "image/png": "[encoded data removed]",
      "text/plain": [
       "<Figure size 432x288 with 1 Axes>"
      ]
     },
     "metadata": {
      "needs_background": "light"
     },
     "output_type": "display_data"
    },
    {
     "data": {
      "image/png": "[encoded data removed]",
      "text/plain": [
       "<Figure size 432x288 with 1 Axes>"
      ]
     },
     "metadata": {
      "needs_background": "light"
     },
     "output_type": "display_data"
    }
   ],
   "source": [
    "def show_train_history(train_history,train,validation):\n",
    "    plt.plot(train_history.history[train])\n",
    "    plt.plot(train_history.history[validation])\n",
    "    plt.title('Train History')\n",
    "    plt.ylabel(train)\n",
    "    plt.xlabel('Epoch')\n",
    "    plt.legend(['train', 'validation'], loc='upper left')\n",
    "    plt.show()\n",
    "    \n",
    "show_train_history(history,'accuracy','val_accuracy')\n",
    "show_train_history(history,'loss','val_loss')"
   ]
  },
  {
   "cell_type": "code",
   "execution_count": 160,
   "id": "M_Y6KnUuKIvY",
   "metadata": {
    "id": "M_Y6KnUuKIvY"
   },
   "outputs": [
    {
     "name": "stdout",
     "output_type": "stream",
     "text": [
      "Training loss \t 0.24574917554855347\n",
      "Training accuracy  0.9463541507720947\n",
      "Validation loss  0.2466723471879959\n",
      "Validation accuracy  0.9458333253860474\n"
     ]
    }
   ],
   "source": [
    "print('Training loss \\t', history.history['loss'][-1])\n",
    "print('Training accuracy ',  history.history['accuracy'][-1])\n",
    "print('Validation loss ', history.history['val_loss'][-1])\n",
    "print('Validation accuracy ',  history.history['val_accuracy'][-1])"
   ]
  },
  {
   "cell_type": "code",
   "execution_count": 161,
   "id": "-mP4xGMcZZkz",
   "metadata": {
    "id": "-mP4xGMcZZkz"
   },
   "outputs": [
    {
     "name": "stdout",
     "output_type": "stream",
     "text": [
      "30/30 [==============================] - 2s 72ms/step - loss: 0.2467 - accuracy: 0.9458\n",
      "Testing loss \t 0.2466723620891571\n",
      "Testing accuracy  0.9458333253860474\n"
     ]
    }
   ],
   "source": [
    "# Final evaluation of the model using test dataset\n",
    "# Students will be starting their code from here:\n",
    "scores = model.evaluate(X_test, y_test, verbose=1)\n",
    "print('Testing loss \\t', scores[0])\n",
    "print('Testing accuracy ', scores[1])"
   ]
  },
  {
   "cell_type": "markdown",
   "id": "41feb210",
   "metadata": {},
   "source": [
    "# CNN"
   ]
  },
  {
   "cell_type": "code",
   "execution_count": null,
   "id": "B4U4cdUPKa0s",
   "metadata": {
    "id": "B4U4cdUPKa0s"
   },
   "outputs": [],
   "source": [
    "# create the model\n",
    "embedding_vector_length = 32\n",
    "cnn_model = Sequential()\n",
    "\n",
    "# Students will be starting their code from here:\n",
    "\n",
    "# Write the code for LSTM Based Classifcation\n",
    "# Embedding layer\n",
    "# Convolution-1D Layer : You are free to choose the hyperparameters and the number of layers\n",
    "# LSTM Layer : You are free to choose the hyperparameters and the number of layers\n",
    "# Dense Layer\n",
    "\n",
    "cnn_model.add(Embedding(input_dim=top_words, output_dim=embedding_vector_length, input_length=max_review_length))\n",
    "cnn_model.add(Conv1D(filters=32, kernel_size=3, padding='same', activation='relu'))\n",
    "cnn_model.add(MaxPooling1D(pool_size=2))\n",
    "cnn_model.add(LSTM(100))\n",
    "cnn_model.add(Dense(units=3, activation='softmax'))\n",
    "\n",
    "# Students will be ending their code here\n",
    "\n",
    "cnn_model.compile(loss='sparse_categorical_crossentropy', optimizer='adam', metrics=['accuracy'])\n",
    "print(cnn_model.summary())\n",
    "\n",
    "# Change the number of epochs and the batch size depending on the RAM Size\n",
    "\n",
    "history_c=cnn_model.fit(X_train, y_train, epochs=5, batch_size=64,verbose = 1,validation_data=(X_cv,y_cv))"
   ]
  },
  {
   "cell_type": "code",
   "execution_count": null,
   "id": "4hzCfe9pKjMo",
   "metadata": {
    "id": "4hzCfe9pKjMo"
   },
   "outputs": [],
   "source": [
    "# Final evaluation of the CNN + RNN model using the test data\n",
    "# Students will be starting their code from here:\n",
    "show_train_history(history_c,'accuracy','val_accuracy')\n",
    "show_train_history(history_c,'loss','val_loss')\n",
    "\n",
    "print('Training loss \\t', history_c.history['loss'][-1]*100)\n",
    "print('Training accuracy ',  history_c.history['accuracy'][-1]*100)\n",
    "print('Validation loss ', history_c.history['val_loss'][-1]*100)\n",
    "print('Validation accuracy ',  history_c.history['val_accuracy'][-1]*100)"
   ]
  },
  {
   "cell_type": "code",
   "execution_count": null,
   "id": "GOtsHmDmWWDz",
   "metadata": {
    "id": "GOtsHmDmWWDz"
   },
   "outputs": [],
   "source": [
    "# Final evaluation of the model using test dataset\n",
    "# Students will be starting their code from here:\n",
    "\n",
    "cnn_scores = cnn_model.evaluate(X_test, y_test, verbose=1)\n",
    "print('Testing loss \\t', scores[0]*100)\n",
    "print('Testing accuracy ', scores[1]*100)"
   ]
  },
  {
   "cell_type": "markdown",
   "id": "9-_6qK43Ksp6",
   "metadata": {
    "id": "9-_6qK43Ksp6"
   },
   "source": [
    "## Comparing the models"
   ]
  },
  {
   "cell_type": "code",
   "execution_count": null,
   "id": "-4XGQQfiKuPb",
   "metadata": {
    "id": "-4XGQQfiKuPb"
   },
   "outputs": [],
   "source": [
    "#Creating a function to display values:\n",
    "def show_values_on_bars(axs, h_v=\"v\", space=0.2):\n",
    "    def _show_on_single_plot(ax):\n",
    "        if h_v == \"v\":\n",
    "            for p in ax.patches:\n",
    "                _x = p.get_x() + p.get_width() / 2\n",
    "                _y = p.get_y() + p.get_height()\n",
    "                value = \"{:.2f}\".format(p.get_height())\n",
    "                ax.text(_x, _y, value, ha=\"center\") \n",
    "        elif h_v == \"h\":\n",
    "            for p in ax.patches:\n",
    "                _x = p.get_x() + p.get_width() + float(space)\n",
    "                _y = p.get_y() + p.get_height()\n",
    "                value = \"{:.2f}\".format(p.get_width())\n",
    "                ax.text(_x, _y, value, ha=\"left\")\n",
    "\n",
    "    if isinstance(axs, np.ndarray):\n",
    "        for idx, ax in np.ndenumerate(axs):\n",
    "            _show_on_single_plot(ax)\n",
    "    else:\n",
    "        _show_on_single_plot(axs)\n",
    "\n"
   ]
  },
  {
   "cell_type": "code",
   "execution_count": null,
   "id": "JL45__Eck30u",
   "metadata": {
    "id": "JL45__Eck30u"
   },
   "outputs": [],
   "source": [
    "#Creating a dataframe to draw out comparisons\n",
    "\n",
    "import seaborn as sns\n",
    "import pandas as pd\n",
    "\n",
    "results=[]\n",
    "results.append([scores[0], 'Loss', 'LSTM'])\n",
    "results.append([scores[1], 'Accuracy', 'LSTM'])\n",
    "results.append([cnn_scores[0], 'Loss', 'CNN+LSTM'])\n",
    "results.append([cnn_scores[1], 'Accuracy', 'CNN+LSTM'])\n",
    "\n",
    "\n",
    "comparison = pd.DataFrame(results, columns = ['Score', 'Metric', 'Model'])\n",
    "\n",
    "plt.figure(figsize=(10,10))\n",
    "plot = sns.barplot(x=comparison['Metric'],y=comparison['Score'], hue = comparison['Model'])\n",
    "\n",
    "show_values_on_bars(plot)"
   ]
  }
 ],
 "metadata": {
  "colab": {
   "collapsed_sections": [
    "a011f201",
    "0781ff35",
    "cc4bf774"
   ],
   "include_colab_link": true,
   "name": "Cópia 01_ajustes e testes-CNN_LSTM.ipynb",
   "provenance": []
  },
  "kernelspec": {
   "display_name": "Python 3 (ipykernel)",
   "language": "python",
   "name": "python3"
  },
  "language_info": {
   "codemirror_mode": {
    "name": "ipython",
    "version": 3
   },
   "file_extension": ".py",
   "mimetype": "text/x-python",
   "name": "python",
   "nbconvert_exporter": "python",
   "pygments_lexer": "ipython3",
   "version": "3.9.7"
  }
 },
 "nbformat": 4,
 "nbformat_minor": 5
}
