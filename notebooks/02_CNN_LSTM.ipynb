{
  "cells": [
    {
      "cell_type": "markdown",
      "source": [
        "# Notebook 2 - CNN e LSTM\n",
        " - No presente documento, seguem-se os códigos de implementação de algorítmos de análise de sentimento de reviews de mouses, com base nos modelos listados acima, seguindo a seguinte ordem:\n",
        "    - Importação dos dados\n",
        "    - Estruturação inicial do modelo\n",
        "    - Construção do modelo\n",
        "    - Treinamento\n",
        "    - Obtenção de resultados\n",
        " - Os passos se repetem, a medida que se tenta avaliar o mesmo cenário, com diferentes ajustes nos dados"
      ],
      "metadata": {
        "id": "4o-n9HWww-xq"
      },
      "id": "4o-n9HWww-xq"
    },
    {
      "cell_type": "markdown",
      "source": [
        "# LSTM"
      ],
      "metadata": {
        "id": "oNuDp0sowdKP"
      },
      "id": "oNuDp0sowdKP"
    },
    {
      "cell_type": "markdown",
      "source": [
        "### LSTM com dados brutos"
      ],
      "metadata": {
        "id": "kbJawRi5wgKf"
      },
      "id": "kbJawRi5wgKf"
    },
    {
      "cell_type": "markdown",
      "id": "f890418a",
      "metadata": {
        "id": "f890418a"
      },
      "source": [
        "### Divisão dos dados"
      ]
    },
    {
      "cell_type": "code",
      "execution_count": 4,
      "id": "c33dc542",
      "metadata": {
        "id": "c33dc542"
      },
      "outputs": [],
      "source": [
        "# Dados desbalanceados\n",
        "x, y = df['description'], df['score']\n",
        "X_train, X_test, y_train, y_test = train_test_split(x, y, test_size=0.2, random_state=42,stratify=y)\n",
        "\n",
        "#Dados balanceados\n",
        "X_train_bal = pd.read_csv('x_treino_bal_tratado.csv')\n",
        "y_train_bal = pd.read_csv('y_treino_bal.csv') "
      ]
    },
    {
      "cell_type": "code",
      "execution_count": 5,
      "id": "dC_HWn0sHnnD",
      "metadata": {
        "id": "dC_HWn0sHnnD"
      },
      "outputs": [],
      "source": [
        "X_train_bal.drop('Unnamed: 0',axis=1,inplace=True)\n",
        "y_train_bal.drop('Unnamed: 0',axis=1,inplace=True)"
      ]
    },
    {
      "cell_type": "code",
      "execution_count": 6,
      "id": "Gu80VRvXBLuh",
      "metadata": {
        "colab": {
          "base_uri": "https://localhost:8080/"
        },
        "id": "Gu80VRvXBLuh",
        "outputId": "81d261f4-3331-4103-fce7-150b94e109c3"
      },
      "outputs": [
        {
          "output_type": "stream",
          "name": "stdout",
          "text": [
            "x de treino normal: (3840,)\n",
            "x de treino balanceado: (10902, 1)\n",
            "y de treino normal: (3840,)\n",
            "y de treino balanceado: (10902, 1)\n"
          ]
        }
      ],
      "source": [
        "print('x de treino normal:',X_train.shape)\n",
        "print('x de treino balanceado:',X_train_bal.shape)\n",
        "print('y de treino normal:',y_train.shape)\n",
        "print('y de treino balanceado:',y_train_bal.shape)"
      ]
    },
    {
      "cell_type": "markdown",
      "id": "ZtFicIzW-h-D",
      "metadata": {
        "id": "ZtFicIzW-h-D"
      },
      "source": [
        "## Inicialização"
      ]
    },
    {
      "cell_type": "code",
      "execution_count": 7,
      "id": "8958fc35",
      "metadata": {
        "id": "8958fc35"
      },
      "outputs": [],
      "source": [
        "max_fatures = 2000\n",
        "tokenizer = Tokenizer(num_words=max_fatures, split=' ')\n",
        "tokenizer.fit_on_texts(df['description'])"
      ]
    },
    {
      "cell_type": "code",
      "execution_count": 8,
      "id": "b418dfc0",
      "metadata": {
        "id": "b418dfc0"
      },
      "outputs": [],
      "source": [
        "X_train = tokenizer.texts_to_sequences(X_train.values)\n",
        "X_test = tokenizer.texts_to_sequences(X_test.values)"
      ]
    },
    {
      "cell_type": "code",
      "execution_count": 9,
      "id": "221d64fd",
      "metadata": {
        "id": "221d64fd"
      },
      "outputs": [],
      "source": [
        "# Corrigindo diferença nos shapes\n",
        "\n",
        "new_x_train = np.zeros((3840,300))\n",
        "new_x_test = np.zeros((960,300))"
      ]
    },
    {
      "cell_type": "code",
      "execution_count": 10,
      "id": "14930902",
      "metadata": {
        "id": "14930902"
      },
      "outputs": [],
      "source": [
        "line_count=0\n",
        "for i in X_train:\n",
        "    for j in range(len(i)):\n",
        "        new_x_train[line_count][j]=i[j]\n",
        "    line_count+=1"
      ]
    },
    {
      "cell_type": "code",
      "execution_count": 11,
      "id": "a0dbe84f",
      "metadata": {
        "id": "a0dbe84f"
      },
      "outputs": [],
      "source": [
        "line_count=0\n",
        "for i in X_test:\n",
        "    for j in range(len(i)):\n",
        "        new_x_test[line_count][j]=i[j]\n",
        "    line_count+=1"
      ]
    },
    {
      "cell_type": "code",
      "execution_count": 12,
      "id": "31ec7aed",
      "metadata": {
        "id": "31ec7aed"
      },
      "outputs": [],
      "source": [
        "X_train = new_x_train\n",
        "X_test = new_x_test"
      ]
    },
    {
      "cell_type": "markdown",
      "id": "5tA_utPW-mkU",
      "metadata": {
        "id": "5tA_utPW-mkU"
      },
      "source": [
        "### Estruturação do Modelo e Treinamento"
      ]
    },
    {
      "cell_type": "code",
      "execution_count": 13,
      "id": "RqK8j-YEJs0H",
      "metadata": {
        "colab": {
          "base_uri": "https://localhost:8080/"
        },
        "id": "RqK8j-YEJs0H",
        "outputId": "500af9a7-492e-44ec-f5c2-9aafc1e83455",
        "scrolled": false
      },
      "outputs": [
        {
          "output_type": "stream",
          "name": "stdout",
          "text": [
            "Model: \"sequential\"\n",
            "_________________________________________________________________\n",
            " Layer (type)                Output Shape              Param #   \n",
            "=================================================================\n",
            " embedding (Embedding)       (None, 300, 128)          1280000   \n",
            "                                                                 \n",
            " spatial_dropout1d (SpatialD  (None, 300, 128)         0         \n",
            " ropout1D)                                                       \n",
            "                                                                 \n",
            " lstm (LSTM)                 (None, 196)               254800    \n",
            "                                                                 \n",
            " dense (Dense)               (None, 3)                 591       \n",
            "                                                                 \n",
            "=================================================================\n",
            "Total params: 1,535,391\n",
            "Trainable params: 1,535,391\n",
            "Non-trainable params: 0\n",
            "_________________________________________________________________\n",
            "None\n"
          ]
        }
      ],
      "source": [
        "import tensorflow as tf\n",
        "\n",
        "########################\n",
        "#valores iniciais, a serem tunados\n",
        "max_review_length = X_train.shape[1]\n",
        "top_words = 10000\n",
        "embedding_dim = 128\n",
        "########################\n",
        "\n",
        "model = Sequential()\n",
        "model.add(Embedding(input_dim=top_words, output_dim=embedding_dim, input_length=max_review_length))\n",
        "model.add(SpatialDropout1D(0.4))\n",
        "model.add(LSTM(196))\n",
        "model.add(Dense(units=3, activation='softmax'))\n",
        "\n",
        "model.compile(loss='sparse_categorical_crossentropy', optimizer='adam', metrics=['accuracy'])\n",
        "print(model.summary())"
      ]
    },
    {
      "cell_type": "code",
      "execution_count": 24,
      "id": "2545398f",
      "metadata": {
        "colab": {
          "base_uri": "https://localhost:8080/"
        },
        "id": "2545398f",
        "outputId": "611c67be-2b8e-49ba-c71e-a4f7eb54a350"
      },
      "outputs": [
        {
          "output_type": "stream",
          "name": "stdout",
          "text": [
            "Epoch 1/5\n",
            "60/60 [==============================] - 72s 1s/step - loss: 0.3062 - accuracy: 0.9328 - val_loss: 0.2462 - val_accuracy: 0.9458\n",
            "Epoch 2/5\n",
            "60/60 [==============================] - 68s 1s/step - loss: 0.2460 - accuracy: 0.9464 - val_loss: 0.2468 - val_accuracy: 0.9458\n",
            "Epoch 3/5\n",
            "60/60 [==============================] - 67s 1s/step - loss: 0.2471 - accuracy: 0.9464 - val_loss: 0.2458 - val_accuracy: 0.9458\n",
            "Epoch 4/5\n",
            "60/60 [==============================] - 67s 1s/step - loss: 0.2449 - accuracy: 0.9464 - val_loss: 0.2460 - val_accuracy: 0.9458\n",
            "Epoch 5/5\n",
            "60/60 [==============================] - 67s 1s/step - loss: 0.2445 - accuracy: 0.9464 - val_loss: 0.2513 - val_accuracy: 0.9458\n"
          ]
        }
      ],
      "source": [
        "history = model.fit(X_train, y_train, epochs=5, batch_size=64,verbose = 1,validation_data=(X_test,y_test))"
      ]
    },
    {
      "cell_type": "markdown",
      "id": "Z1xMXcpm-tmq",
      "metadata": {
        "id": "Z1xMXcpm-tmq"
      },
      "source": [
        "### Resultados"
      ]
    },
    {
      "cell_type": "code",
      "execution_count": 25,
      "id": "3UnRg94BJ2zS",
      "metadata": {
        "colab": {
          "base_uri": "https://localhost:8080/",
          "height": 573
        },
        "id": "3UnRg94BJ2zS",
        "outputId": "b18f33fd-74ac-448d-c063-88641e785260"
      },
      "outputs": [
        {
          "output_type": "display_data",
          "data": {
            "text/plain": [
              "<Figure size 432x288 with 1 Axes>"
            ],
            "image/png": "[encoded data removed]"
          },
          "metadata": {
            "needs_background": "light"
          }
        },
        {
          "output_type": "display_data",
          "data": {
            "text/plain": [
              "<Figure size 432x288 with 1 Axes>"
            ],
            "image/png": "[encoded data removed]"
          },
          "metadata": {
            "needs_background": "light"
          }
        }
      ],
      "source": [
        "def show_train_history(train_history,train,validation):\n",
        "    plt.plot(train_history.history[train])\n",
        "    plt.plot(train_history.history[validation])\n",
        "    plt.title('Train History')\n",
        "    plt.ylabel(train)\n",
        "    plt.xlabel('Epoch')\n",
        "    plt.legend(['train', 'validation'], loc='upper left')\n",
        "    plt.show()\n",
        "    \n",
        "show_train_history(history,'accuracy','val_accuracy')\n",
        "show_train_history(history,'loss','val_loss')"
      ]
    },
    {
      "cell_type": "code",
      "execution_count": 42,
      "id": "M_Y6KnUuKIvY",
      "metadata": {
        "colab": {
          "base_uri": "https://localhost:8080/"
        },
        "id": "M_Y6KnUuKIvY",
        "outputId": "49571e10-1261-4007-a695-d50cd9a993ae"
      },
      "outputs": [
        {
          "output_type": "stream",
          "name": "stdout",
          "text": [
            "Training loss \t 0.24445022642612457\n",
            "Training accuracy  0.9463541507720947\n",
            "Validation loss  0.25132042169570923\n",
            "Validation accuracy  0.9458333253860474\n"
          ]
        }
      ],
      "source": [
        "print('Training loss \\t', history.history['loss'][-1])\n",
        "print('Training accuracy ',  history.history['accuracy'][-1])\n",
        "print('Validation loss ', history.history['val_loss'][-1])\n",
        "print('Validation accuracy ',  history.history['val_accuracy'][-1])"
      ]
    },
    {
      "cell_type": "code",
      "execution_count": 43,
      "id": "-mP4xGMcZZkz",
      "metadata": {
        "colab": {
          "base_uri": "https://localhost:8080/"
        },
        "id": "-mP4xGMcZZkz",
        "outputId": "a0f2d694-493f-44d2-f803-f5f7fa9b487e"
      },
      "outputs": [
        {
          "output_type": "stream",
          "name": "stdout",
          "text": [
            "30/30 [==============================] - 7s 216ms/step - loss: 0.2513 - accuracy: 0.9458\n",
            "Testing loss \t 0.25132039189338684\n",
            "Testing accuracy  0.9458333253860474\n"
          ]
        }
      ],
      "source": [
        "# Final evaluation of the model using test dataset\n",
        "# Students will be starting their code from here:\n",
        "scores = model.evaluate(X_test, y_test, verbose=1)\n",
        "print('Testing loss \\t', scores[0])\n",
        "print('Testing accuracy ', scores[1])"
      ]
    },
    {
      "cell_type": "markdown",
      "id": "TZiryC-h_xYz",
      "metadata": {
        "id": "TZiryC-h_xYz"
      },
      "source": [
        "### LSTM com dados tratados e balanceados (sem stemming)"
      ]
    },
    {
      "cell_type": "code",
      "execution_count": 47,
      "id": "78VM1UaYBVvZ",
      "metadata": {
        "id": "78VM1UaYBVvZ"
      },
      "outputs": [],
      "source": [
        "X_train_bal.dropna(inplace=True)"
      ]
    },
    {
      "cell_type": "code",
      "execution_count": 48,
      "id": "BfuyNrpeH4X6",
      "metadata": {
        "id": "BfuyNrpeH4X6"
      },
      "outputs": [],
      "source": [
        "X_train_bal=X_train_bal['0']"
      ]
    },
    {
      "cell_type": "code",
      "execution_count": 49,
      "id": "L7_dfbyyG9e7",
      "metadata": {
        "id": "L7_dfbyyG9e7"
      },
      "outputs": [],
      "source": [
        "X_train_bal = tokenizer.texts_to_sequences(X_train_bal.values)"
      ]
    },
    {
      "cell_type": "code",
      "execution_count": 50,
      "id": "NCsXlOW6Bf_4",
      "metadata": {
        "id": "NCsXlOW6Bf_4"
      },
      "outputs": [],
      "source": [
        "# Corrigindo diferença nos shapes\n",
        "\n",
        "new_x_train = np.zeros((10902,300))\n",
        "\n",
        "line_count=0\n",
        "for i in X_train_bal:\n",
        "    for j in range(len(i)):\n",
        "        new_x_train[line_count][j]=i[j]\n",
        "    line_count+=1\n",
        "\n",
        "X_train_bal = new_x_train"
      ]
    },
    {
      "cell_type": "code",
      "execution_count": 51,
      "id": "XwJ4z5H3B18f",
      "metadata": {
        "colab": {
          "base_uri": "https://localhost:8080/"
        },
        "id": "XwJ4z5H3B18f",
        "outputId": "55c87407-eee5-4cf1-e5c5-f57c66f92cd1"
      },
      "outputs": [
        {
          "output_type": "execute_result",
          "data": {
            "text/plain": [
              "(10902, 300)"
            ]
          },
          "metadata": {},
          "execution_count": 51
        }
      ],
      "source": [
        "X_train_bal.shape"
      ]
    },
    {
      "cell_type": "code",
      "execution_count": 52,
      "id": "uAriTVS4IIDq",
      "metadata": {
        "id": "uAriTVS4IIDq"
      },
      "outputs": [],
      "source": [
        "y_train_bal=y_train_bal['0']"
      ]
    },
    {
      "cell_type": "code",
      "execution_count": null,
      "id": "LYe4Ija9_wvJ",
      "metadata": {
        "colab": {
          "base_uri": "https://localhost:8080/"
        },
        "id": "LYe4Ija9_wvJ",
        "outputId": "a2a26539-2711-42d1-9c0f-5b8665a52187"
      },
      "outputs": [
        {
          "name": "stdout",
          "output_type": "stream",
          "text": [
            "Epoch 1/5\n",
            "171/171 [==============================] - 213s 1s/step - loss: 1.1292 - accuracy: 0.3307 - val_loss: 1.1068 - val_accuracy: 0.0354\n",
            "Epoch 2/5\n",
            "171/171 [==============================] - 209s 1s/step - loss: 1.0990 - accuracy: 0.3332 - val_loss: 1.1444 - val_accuracy: 0.0354\n",
            "Epoch 3/5\n",
            "171/171 [==============================] - 210s 1s/step - loss: 1.0994 - accuracy: 0.3311 - val_loss: 1.1085 - val_accuracy: 0.0354\n",
            "Epoch 4/5\n",
            "171/171 [==============================] - 214s 1s/step - loss: 1.0990 - accuracy: 0.3287 - val_loss: 1.1186 - val_accuracy: 0.0354\n",
            "Epoch 5/5\n",
            "171/171 [==============================] - 208s 1s/step - loss: 1.0989 - accuracy: 0.3303 - val_loss: 1.1249 - val_accuracy: 0.0188\n"
          ]
        }
      ],
      "source": [
        "history = model.fit(X_train_bal, y_train_bal, epochs=5, batch_size=64,verbose = 1,validation_data=(X_test,y_test))"
      ]
    },
    {
      "cell_type": "markdown",
      "id": "41feb210",
      "metadata": {
        "id": "41feb210"
      },
      "source": [
        "# CNN"
      ]
    },
    {
      "cell_type": "markdown",
      "source": [
        "### CNN com dados brutos"
      ],
      "metadata": {
        "id": "nmEL9J07wBB2"
      },
      "id": "nmEL9J07wBB2"
    },
    {
      "cell_type": "code",
      "execution_count": 62,
      "id": "B4U4cdUPKa0s",
      "metadata": {
        "colab": {
          "base_uri": "https://localhost:8080/"
        },
        "id": "B4U4cdUPKa0s",
        "outputId": "7a9f6ead-7544-4e34-ea53-5fa6fb189589"
      },
      "outputs": [
        {
          "output_type": "stream",
          "name": "stdout",
          "text": [
            "Model: \"sequential_7\"\n",
            "_________________________________________________________________\n",
            " Layer (type)                Output Shape              Param #   \n",
            "=================================================================\n",
            " embedding_7 (Embedding)     (None, 300, 32)           320000    \n",
            "                                                                 \n",
            " conv1d_6 (Conv1D)           (None, 300, 32)           3104      \n",
            "                                                                 \n",
            " max_pooling1d_6 (MaxPooling  (None, 150, 32)          0         \n",
            " 1D)                                                             \n",
            "                                                                 \n",
            " dropout_3 (Dropout)         (None, 150, 32)           0         \n",
            "                                                                 \n",
            " flatten_2 (Flatten)         (None, 4800)              0         \n",
            "                                                                 \n",
            " dense_7 (Dense)             (None, 3)                 14403     \n",
            "                                                                 \n",
            "=================================================================\n",
            "Total params: 337,507\n",
            "Trainable params: 337,507\n",
            "Non-trainable params: 0\n",
            "_________________________________________________________________\n",
            "None\n"
          ]
        }
      ],
      "source": [
        "# create the model\n",
        "embedding_vector_length = 32\n",
        "cnn_model = Sequential()\n",
        "\n",
        "\n",
        "cnn_model.add(Embedding(input_dim=top_words, output_dim=embedding_vector_length, input_length=max_review_length))\n",
        "cnn_model.add(Conv1D(filters=32, kernel_size=3, padding='same', activation='relu'))\n",
        "cnn_model.add(MaxPooling1D(pool_size=2))\n",
        "cnn_model.add(Dropout(0.5))\n",
        "cnn_model.add(Flatten())\n",
        "cnn_model.add(Dense(units=3, activation='softmax'))\n",
        "\n",
        "\n",
        "cnn_model.compile(loss='sparse_categorical_crossentropy', optimizer='adam', metrics=['accuracy'])\n",
        "print(cnn_model.summary())"
      ]
    },
    {
      "cell_type": "code",
      "source": [
        "history_c=cnn_model.fit(X_train, y_train, epochs=10, batch_size=64,verbose = 1,validation_data=(X_test,y_test))"
      ],
      "metadata": {
        "colab": {
          "base_uri": "https://localhost:8080/"
        },
        "id": "g1D1nMhecECQ",
        "outputId": "195c1edc-62c4-4e3a-a04c-9f96f2810b77"
      },
      "id": "g1D1nMhecECQ",
      "execution_count": 61,
      "outputs": [
        {
          "output_type": "stream",
          "name": "stdout",
          "text": [
            "Epoch 1/10\n",
            "60/60 [==============================] - 3s 35ms/step - loss: 0.3339 - accuracy: 0.9352 - mae: 1.6011 - val_loss: 0.2423 - val_accuracy: 0.9458 - val_mae: 1.6007\n",
            "Epoch 2/10\n",
            "60/60 [==============================] - 2s 33ms/step - loss: 0.2332 - accuracy: 0.9464 - mae: 1.6011 - val_loss: 0.2344 - val_accuracy: 0.9458 - val_mae: 1.6007\n",
            "Epoch 3/10\n",
            "60/60 [==============================] - 2s 36ms/step - loss: 0.2185 - accuracy: 0.9464 - mae: 1.6011 - val_loss: 0.2169 - val_accuracy: 0.9458 - val_mae: 1.6007\n",
            "Epoch 4/10\n",
            "60/60 [==============================] - 2s 37ms/step - loss: 0.1791 - accuracy: 0.9461 - mae: 1.6011 - val_loss: 0.1865 - val_accuracy: 0.9448 - val_mae: 1.6007\n",
            "Epoch 5/10\n",
            "60/60 [==============================] - 2s 32ms/step - loss: 0.1304 - accuracy: 0.9557 - mae: 1.6011 - val_loss: 0.1675 - val_accuracy: 0.9542 - val_mae: 1.6007\n",
            "Epoch 6/10\n",
            "60/60 [==============================] - 2s 34ms/step - loss: 0.0947 - accuracy: 0.9669 - mae: 1.6011 - val_loss: 0.2041 - val_accuracy: 0.9510 - val_mae: 1.6007\n",
            "Epoch 7/10\n",
            "60/60 [==============================] - 2s 33ms/step - loss: 0.0802 - accuracy: 0.9714 - mae: 1.6011 - val_loss: 0.2003 - val_accuracy: 0.9542 - val_mae: 1.6007\n",
            "Epoch 8/10\n",
            "60/60 [==============================] - 2s 36ms/step - loss: 0.0684 - accuracy: 0.9776 - mae: 1.6011 - val_loss: 0.1929 - val_accuracy: 0.9531 - val_mae: 1.6007\n",
            "Epoch 9/10\n",
            "60/60 [==============================] - 2s 32ms/step - loss: 0.0554 - accuracy: 0.9812 - mae: 1.6011 - val_loss: 0.2181 - val_accuracy: 0.9531 - val_mae: 1.6007\n",
            "Epoch 10/10\n",
            "60/60 [==============================] - 2s 34ms/step - loss: 0.0483 - accuracy: 0.9846 - mae: 1.6011 - val_loss: 0.2319 - val_accuracy: 0.9531 - val_mae: 1.6007\n"
          ]
        }
      ]
    },
    {
      "cell_type": "code",
      "execution_count": 40,
      "id": "4hzCfe9pKjMo",
      "metadata": {
        "colab": {
          "base_uri": "https://localhost:8080/",
          "height": 642
        },
        "id": "4hzCfe9pKjMo",
        "outputId": "fad91889-ec54-421b-df70-920743d79150"
      },
      "outputs": [
        {
          "output_type": "display_data",
          "data": {
            "text/plain": [
              "<Figure size 432x288 with 1 Axes>"
            ],
            "image/png": "[encoded data removed]"
          },
          "metadata": {
            "needs_background": "light"
          }
        },
        {
          "output_type": "display_data",
          "data": {
            "text/plain": [
              "<Figure size 432x288 with 1 Axes>"
            ],
            "image/png": "[encoded data removed]"
          },
          "metadata": {
            "needs_background": "light"
          }
        },
        {
          "output_type": "stream",
          "name": "stdout",
          "text": [
            "Training loss \t 0.810245331376791\n",
            "Training accuracy  99.79166388511658\n",
            "Validation loss  42.85649061203003\n",
            "Validation accuracy  94.9999988079071\n"
          ]
        }
      ],
      "source": [
        "# Final evaluation of the CNN + RNN model using the test data\n",
        "# Students will be starting their code from here:\n",
        "show_train_history(history_c,'accuracy','val_accuracy')\n",
        "show_train_history(history_c,'loss','val_loss')\n",
        "\n",
        "print('Training loss \\t', history_c.history['loss'][-1]*100)\n",
        "print('Training accuracy ',  history_c.history['accuracy'][-1]*100)\n",
        "print('Validation loss ', history_c.history['val_loss'][-1]*100)\n",
        "print('Validation accuracy ',  history_c.history['val_accuracy'][-1]*100)"
      ]
    },
    {
      "cell_type": "code",
      "execution_count": 45,
      "id": "GOtsHmDmWWDz",
      "metadata": {
        "colab": {
          "base_uri": "https://localhost:8080/"
        },
        "id": "GOtsHmDmWWDz",
        "outputId": "4ef1c6bd-319d-4c28-9a8d-10d19f650d1e"
      },
      "outputs": [
        {
          "output_type": "stream",
          "name": "stdout",
          "text": [
            "30/30 [==============================] - 0s 10ms/step - loss: 0.4286 - accuracy: 0.9500\n",
            "Testing loss \t 0.4285649061203003\n",
            "Testing accuracy  0.949999988079071\n"
          ]
        }
      ],
      "source": [
        "# Final evaluation of the model using test dataset\n",
        "# Students will be starting their code from here:\n",
        "\n",
        "cnn_scores = cnn_model.evaluate(X_test, y_test, verbose=1)\n",
        "print('Testing loss \\t', cnn_scores[0])\n",
        "print('Testing accuracy ', cnn_scores[1])"
      ]
    },
    {
      "cell_type": "markdown",
      "id": "lsCWvrP3SZH7",
      "metadata": {
        "id": "lsCWvrP3SZH7"
      },
      "source": [
        "### CNN com dados balanceados"
      ]
    },
    {
      "cell_type": "code",
      "execution_count": 92,
      "id": "36VJ9Q4JSQRg",
      "metadata": {
        "colab": {
          "base_uri": "https://localhost:8080/"
        },
        "id": "36VJ9Q4JSQRg",
        "outputId": "5b50220d-634c-4283-acf2-d8f5af7d0d74"
      },
      "outputs": [
        {
          "output_type": "stream",
          "name": "stdout",
          "text": [
            "Epoch 1/10\n",
            "171/171 [==============================] - 7s 36ms/step - loss: 0.8046 - accuracy: 0.6812 - val_loss: 0.4115 - val_accuracy: 0.9333\n",
            "Epoch 2/10\n",
            "171/171 [==============================] - 6s 33ms/step - loss: 0.2639 - accuracy: 0.9329 - val_loss: 0.2247 - val_accuracy: 0.9542\n",
            "Epoch 3/10\n",
            "171/171 [==============================] - 6s 34ms/step - loss: 0.1936 - accuracy: 0.9530 - val_loss: 0.1951 - val_accuracy: 0.9531\n",
            "Epoch 4/10\n",
            "171/171 [==============================] - 6s 35ms/step - loss: 0.1745 - accuracy: 0.9596 - val_loss: 0.2015 - val_accuracy: 0.9510\n",
            "Epoch 5/10\n",
            "171/171 [==============================] - 6s 35ms/step - loss: 0.1569 - accuracy: 0.9612 - val_loss: 0.2211 - val_accuracy: 0.9479\n",
            "Epoch 6/10\n",
            "171/171 [==============================] - 6s 35ms/step - loss: 0.1478 - accuracy: 0.9644 - val_loss: 0.1960 - val_accuracy: 0.9510\n",
            "Epoch 7/10\n",
            "171/171 [==============================] - 6s 33ms/step - loss: 0.1416 - accuracy: 0.9651 - val_loss: 0.2251 - val_accuracy: 0.9438\n",
            "Epoch 8/10\n",
            "171/171 [==============================] - 6s 35ms/step - loss: 0.1374 - accuracy: 0.9651 - val_loss: 0.2047 - val_accuracy: 0.9500\n",
            "Epoch 9/10\n",
            "171/171 [==============================] - 6s 32ms/step - loss: 0.1306 - accuracy: 0.9659 - val_loss: 0.2117 - val_accuracy: 0.9458\n",
            "Epoch 10/10\n",
            "171/171 [==============================] - 6s 34ms/step - loss: 0.1290 - accuracy: 0.9666 - val_loss: 0.2198 - val_accuracy: 0.9458\n"
          ]
        }
      ],
      "source": [
        "history_c2=cnn_model.fit(X_train_bal, y_train_bal, epochs=10, batch_size=64,verbose = 1,validation_data=(X_test,y_test))"
      ]
    },
    {
      "cell_type": "code",
      "execution_count": 95,
      "metadata": {
        "colab": {
          "base_uri": "https://localhost:8080/",
          "height": 642
        },
        "outputId": "45852c5e-1bff-4d8f-ef13-0cc4e81f684e",
        "id": "ApOB0kt2uFH1"
      },
      "outputs": [
        {
          "output_type": "display_data",
          "data": {
            "text/plain": [
              "<Figure size 432x288 with 1 Axes>"
            ],
            "image/png": "[encoded data removed]"
          },
          "metadata": {
            "needs_background": "light"
          }
        },
        {
          "output_type": "display_data",
          "data": {
            "text/plain": [
              "<Figure size 432x288 with 1 Axes>"
            ],
            "image/png": "[encoded data removed]"
          },
          "metadata": {
            "needs_background": "light"
          }
        },
        {
          "output_type": "stream",
          "name": "stdout",
          "text": [
            "Training loss \t 0.04830702021718025\n",
            "Training accuracy  0.9846354126930237\n",
            "Validation loss  0.23186710476875305\n",
            "Validation accuracy  0.953125\n"
          ]
        }
      ],
      "source": [
        "show_train_history(history_c,'accuracy','val_accuracy')\n",
        "show_train_history(history_c,'loss','val_loss')\n",
        "\n",
        "print('Training loss \\t', history_c.history['loss'][-1])\n",
        "print('Training accuracy ',  history_c.history['accuracy'][-1])\n",
        "print('Validation loss ', history_c.history['val_loss'][-1])\n",
        "print('Validation accuracy ',  history_c.history['val_accuracy'][-1])"
      ],
      "id": "ApOB0kt2uFH1"
    },
    {
      "cell_type": "code",
      "execution_count": 96,
      "metadata": {
        "colab": {
          "base_uri": "https://localhost:8080/"
        },
        "outputId": "1312bc07-2953-48a4-d41b-472d3165a7d5",
        "id": "CxGRdt_euFH1"
      },
      "outputs": [
        {
          "output_type": "stream",
          "name": "stdout",
          "text": [
            "30/30 [==============================] - 1s 11ms/step - loss: 0.2198 - accuracy: 0.9458\n",
            "Testing loss \t 0.21978332102298737\n",
            "Testing accuracy  0.9458333253860474\n"
          ]
        }
      ],
      "source": [
        "cnn_scores2 = cnn_model.evaluate(X_test, y_test, verbose=1)\n",
        "print('Testing loss \\t', cnn_scores2[0])\n",
        "print('Testing accuracy ', cnn_scores2[1])"
      ],
      "id": "CxGRdt_euFH1"
    },
    {
      "cell_type": "code",
      "source": [
        ""
      ],
      "metadata": {
        "id": "RiREmxtQunNA"
      },
      "id": "RiREmxtQunNA",
      "execution_count": null,
      "outputs": []
    },
    {
      "cell_type": "markdown",
      "metadata": {
        "id": "kB6wBLyLun2q"
      },
      "source": [
        "### CNN com dados balanceados + Stemming"
      ],
      "id": "kB6wBLyLun2q"
    },
    {
      "cell_type": "code",
      "source": [
        "X_train_bal_stem = pd.read_csv('x_treino_bal_tratado_stem.csv')\n",
        "X_train_bal_stem.drop('Unnamed: 0', axis =1, inplace=True)"
      ],
      "metadata": {
        "id": "y4m8XOxput1f"
      },
      "id": "y4m8XOxput1f",
      "execution_count": 97,
      "outputs": []
    },
    {
      "cell_type": "code",
      "execution_count": 99,
      "metadata": {
        "id": "Dl_re5TLvDjK"
      },
      "outputs": [],
      "source": [
        "X_train_bal_stem=X_train_bal_stem['0']"
      ],
      "id": "Dl_re5TLvDjK"
    },
    {
      "cell_type": "code",
      "source": [
        "X_train_bal_stem.dropna(inplace=True)"
      ],
      "metadata": {
        "id": "V4Dc5M6svQ-W"
      },
      "id": "V4Dc5M6svQ-W",
      "execution_count": 103,
      "outputs": []
    },
    {
      "cell_type": "code",
      "execution_count": 104,
      "metadata": {
        "id": "ByIFLCGsvDjK"
      },
      "outputs": [],
      "source": [
        "X_train_bal_stem = tokenizer.texts_to_sequences(X_train_bal_stem.values)"
      ],
      "id": "ByIFLCGsvDjK"
    },
    {
      "cell_type": "code",
      "execution_count": 105,
      "metadata": {
        "id": "P4UHQsFYvDjL"
      },
      "outputs": [],
      "source": [
        "# Corrigindo diferença nos shapes\n",
        "\n",
        "new_x_train = np.zeros((10902,300))\n",
        "\n",
        "line_count=0\n",
        "for i in X_train_bal:\n",
        "    for j in range(len(i)):\n",
        "        new_x_train[line_count][j]=i[j]\n",
        "    line_count+=1\n",
        "\n",
        "X_train_bal_stem = new_x_train"
      ],
      "id": "P4UHQsFYvDjL"
    },
    {
      "cell_type": "code",
      "execution_count": 106,
      "metadata": {
        "colab": {
          "base_uri": "https://localhost:8080/"
        },
        "outputId": "487f33ca-e86a-4305-823a-6ec5509ff9ed",
        "id": "Zh0V7MqNun2r"
      },
      "outputs": [
        {
          "output_type": "stream",
          "name": "stdout",
          "text": [
            "Epoch 1/10\n",
            "171/171 [==============================] - 6s 34ms/step - loss: 0.1269 - accuracy: 0.9680 - val_loss: 0.2230 - val_accuracy: 0.9438\n",
            "Epoch 2/10\n",
            "171/171 [==============================] - 6s 34ms/step - loss: 0.1257 - accuracy: 0.9678 - val_loss: 0.2345 - val_accuracy: 0.9406\n",
            "Epoch 3/10\n",
            "171/171 [==============================] - 6s 33ms/step - loss: 0.1218 - accuracy: 0.9684 - val_loss: 0.2337 - val_accuracy: 0.9417\n",
            "Epoch 4/10\n",
            "171/171 [==============================] - 6s 34ms/step - loss: 0.1217 - accuracy: 0.9700 - val_loss: 0.2303 - val_accuracy: 0.9438\n",
            "Epoch 5/10\n",
            "171/171 [==============================] - 6s 33ms/step - loss: 0.1205 - accuracy: 0.9690 - val_loss: 0.2314 - val_accuracy: 0.9438\n",
            "Epoch 6/10\n",
            "171/171 [==============================] - 5s 32ms/step - loss: 0.1159 - accuracy: 0.9709 - val_loss: 0.2409 - val_accuracy: 0.9396\n",
            "Epoch 7/10\n",
            "171/171 [==============================] - 6s 34ms/step - loss: 0.1131 - accuracy: 0.9719 - val_loss: 0.2388 - val_accuracy: 0.9396\n",
            "Epoch 8/10\n",
            "171/171 [==============================] - 6s 33ms/step - loss: 0.1109 - accuracy: 0.9706 - val_loss: 0.2398 - val_accuracy: 0.9417\n",
            "Epoch 9/10\n",
            "171/171 [==============================] - 6s 33ms/step - loss: 0.1122 - accuracy: 0.9715 - val_loss: 0.2494 - val_accuracy: 0.9406\n",
            "Epoch 10/10\n",
            "171/171 [==============================] - 6s 32ms/step - loss: 0.1097 - accuracy: 0.9715 - val_loss: 0.2450 - val_accuracy: 0.9427\n"
          ]
        }
      ],
      "source": [
        "history_c3=cnn_model.fit(X_train_bal_stem, y_train_bal, epochs=10, batch_size=64,verbose = 1,validation_data=(X_test,y_test))"
      ],
      "id": "Zh0V7MqNun2r"
    },
    {
      "cell_type": "code",
      "execution_count": 107,
      "metadata": {
        "colab": {
          "base_uri": "https://localhost:8080/",
          "height": 642
        },
        "outputId": "bad4e6e0-d949-456b-ec76-86251a4bb2de",
        "id": "wbqymvuTun2r"
      },
      "outputs": [
        {
          "output_type": "display_data",
          "data": {
            "text/plain": [
              "<Figure size 432x288 with 1 Axes>"
            ],
            "image/png": "[encoded data removed]"
          },
          "metadata": {
            "needs_background": "light"
          }
        },
        {
          "output_type": "display_data",
          "data": {
            "text/plain": [
              "<Figure size 432x288 with 1 Axes>"
            ],
            "image/png": "[encoded data removed]"
          },
          "metadata": {
            "needs_background": "light"
          }
        },
        {
          "output_type": "stream",
          "name": "stdout",
          "text": [
            "Training loss \t 0.04830702021718025\n",
            "Training accuracy  0.9846354126930237\n",
            "Validation loss  0.23186710476875305\n",
            "Validation accuracy  0.953125\n"
          ]
        }
      ],
      "source": [
        "show_train_history(history_c,'accuracy','val_accuracy')\n",
        "show_train_history(history_c,'loss','val_loss')\n",
        "\n",
        "print('Training loss \\t', history_c.history['loss'][-1])\n",
        "print('Training accuracy ',  history_c.history['accuracy'][-1])\n",
        "print('Validation loss ', history_c.history['val_loss'][-1])\n",
        "print('Validation accuracy ',  history_c.history['val_accuracy'][-1])"
      ],
      "id": "wbqymvuTun2r"
    },
    {
      "cell_type": "code",
      "execution_count": 108,
      "metadata": {
        "colab": {
          "base_uri": "https://localhost:8080/"
        },
        "outputId": "3bcb6e62-f25c-42b0-a703-68f22515741d",
        "id": "0FdrTQmoun2r"
      },
      "outputs": [
        {
          "output_type": "stream",
          "name": "stdout",
          "text": [
            "30/30 [==============================] - 0s 6ms/step - loss: 0.2450 - accuracy: 0.9427\n",
            "Testing loss \t 0.24500875174999237\n",
            "Testing accuracy  0.9427083134651184\n"
          ]
        }
      ],
      "source": [
        "cnn_scores2 = cnn_model.evaluate(X_test, y_test, verbose=1)\n",
        "print('Testing loss \\t', cnn_scores2[0])\n",
        "print('Testing accuracy ', cnn_scores2[1])"
      ],
      "id": "0FdrTQmoun2r"
    },
    {
      "cell_type": "markdown",
      "id": "9-_6qK43Ksp6",
      "metadata": {
        "id": "9-_6qK43Ksp6"
      },
      "source": [
        "## Comparing the models"
      ]
    },
    {
      "cell_type": "code",
      "execution_count": 58,
      "id": "-4XGQQfiKuPb",
      "metadata": {
        "id": "-4XGQQfiKuPb"
      },
      "outputs": [],
      "source": [
        "#Creating a function to display values:\n",
        "def show_values_on_bars(axs, h_v=\"v\", space=0.2):\n",
        "    def _show_on_single_plot(ax):\n",
        "        if h_v == \"v\":\n",
        "            for p in ax.patches:\n",
        "                _x = p.get_x() + p.get_width() / 2\n",
        "                _y = p.get_y() + p.get_height()\n",
        "                value = \"{:.4f}\".format(p.get_height())\n",
        "                ax.text(_x, _y, value, ha=\"center\") \n",
        "        elif h_v == \"h\":\n",
        "            for p in ax.patches:\n",
        "                _x = p.get_x() + p.get_width() + float(space)\n",
        "                _y = p.get_y() + p.get_height()\n",
        "                value = \"{:.2f}\".format(p.get_width())\n",
        "                ax.text(_x, _y, value, ha=\"left\")\n",
        "\n",
        "    if isinstance(axs, np.ndarray):\n",
        "        for idx, ax in np.ndenumerate(axs):\n",
        "            _show_on_single_plot(ax)\n",
        "    else:\n",
        "        _show_on_single_plot(axs)\n",
        "\n"
      ]
    },
    {
      "cell_type": "code",
      "execution_count": 59,
      "id": "JL45__Eck30u",
      "metadata": {
        "colab": {
          "base_uri": "https://localhost:8080/",
          "height": 606
        },
        "id": "JL45__Eck30u",
        "outputId": "e368f9c2-464e-4c9e-f1ce-01fe1e898d8f"
      },
      "outputs": [
        {
          "output_type": "display_data",
          "data": {
            "text/plain": [
              "<Figure size 720x720 with 1 Axes>"
            ],
            "image/png": "[encoded data removed]"
          },
          "metadata": {
            "needs_background": "light"
          }
        }
      ],
      "source": [
        "#Dataframe com melhores resultados\n",
        "\n",
        "import seaborn as sns\n",
        "import pandas as pd\n",
        "\n",
        "results=[]\n",
        "results.append([scores[0], 'Loss', 'LSTM'])\n",
        "results.append([scores[1], 'Accuracy', 'LSTM'])\n",
        "results.append([cnn_scores[0], 'Loss', 'CNN'])\n",
        "results.append([cnn_scores[1], 'Accuracy', 'CNN'])\n",
        "\n",
        "\n",
        "comparison = pd.DataFrame(results, columns = ['Score', 'Metric', 'Model'])\n",
        "\n",
        "plt.figure(figsize=(10,10))\n",
        "plot = sns.barplot(x=comparison['Metric'],y=comparison['Score'], hue = comparison['Model'])\n",
        "\n",
        "show_values_on_bars(plot)"
      ]
    },
    {
      "cell_type": "code",
      "source": [
        ""
      ],
      "metadata": {
        "id": "SjoKKGrmjSry"
      },
      "id": "SjoKKGrmjSry",
      "execution_count": null,
      "outputs": []
    }
  ],
  "metadata": {
    "colab": {
      "collapsed_sections": [
        "nmEL9J07wBB2",
        "lsCWvrP3SZH7",
        "kB6wBLyLun2q"
      ],
      "name": "02_CNN_LSTM.ipynb",
      "provenance": []
    },
    "kernelspec": {
      "display_name": "Python 3 (ipykernel)",
      "language": "python",
      "name": "python3"
    },
    "language_info": {
      "codemirror_mode": {
        "name": "ipython",
        "version": 3
      },
      "file_extension": ".py",
      "mimetype": "text/x-python",
      "name": "python",
      "nbconvert_exporter": "python",
      "pygments_lexer": "ipython3",
      "version": "3.7.11"
    }
  },
  "nbformat": 4,
  "nbformat_minor": 5
}